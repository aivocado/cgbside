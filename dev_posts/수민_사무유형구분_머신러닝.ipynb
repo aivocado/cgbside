{
  "cells": [
    {
      "cell_type": "markdown",
      "metadata": {},
      "source": [
        "# 사무유형구분_Random Forest"
      ]
    },
    {
      "cell_type": "markdown",
      "metadata": {
        "id": "MYLHxZbbMDnd"
      },
      "source": [
        "## 0. 라이브러리 및 데이터 불러오기"
      ]
    },
    {
      "cell_type": "markdown",
      "metadata": {
        "id": "DXp8pVtYi182"
      },
      "source": [
        "### 폰트설정"
      ]
    },
    {
      "cell_type": "code",
      "execution_count": null,
      "metadata": {
        "colab": {
          "base_uri": "https://localhost:8080/"
        },
        "id": "mnRHLnu5i52d",
        "outputId": "2d19179a-83aa-4f7c-e685-216ce804e121"
      },
      "outputs": [
        {
          "name": "stdout",
          "output_type": "stream",
          "text": [
            "Reading package lists... Done\n",
            "Building dependency tree... Done\n",
            "Reading state information... Done\n",
            "The following NEW packages will be installed:\n",
            "  fonts-nanum\n",
            "0 upgraded, 1 newly installed, 0 to remove and 23 not upgraded.\n",
            "Need to get 10.3 MB of archives.\n",
            "After this operation, 34.1 MB of additional disk space will be used.\n",
            "Get:1 http://archive.ubuntu.com/ubuntu jammy/universe amd64 fonts-nanum all 20200506-1 [10.3 MB]\n",
            "Fetched 10.3 MB in 1s (9,326 kB/s)\n",
            "debconf: unable to initialize frontend: Dialog\n",
            "debconf: (No usable dialog-like program is installed, so the dialog based frontend cannot be used. at /usr/share/perl5/Debconf/FrontEnd/Dialog.pm line 78, <> line 1.)\n",
            "debconf: falling back to frontend: Readline\n",
            "debconf: unable to initialize frontend: Readline\n",
            "debconf: (This frontend requires a controlling tty.)\n",
            "debconf: falling back to frontend: Teletype\n",
            "dpkg-preconfigure: unable to re-open stdin: \n",
            "Selecting previously unselected package fonts-nanum.\n",
            "(Reading database ... 120903 files and directories currently installed.)\n",
            "Preparing to unpack .../fonts-nanum_20200506-1_all.deb ...\n",
            "Unpacking fonts-nanum (20200506-1) ...\n",
            "Setting up fonts-nanum (20200506-1) ...\n",
            "Processing triggers for fontconfig (2.13.1-4.2ubuntu5) ...\n",
            "/usr/share/fonts: caching, new cache contents: 0 fonts, 1 dirs\n",
            "/usr/share/fonts/truetype: caching, new cache contents: 0 fonts, 3 dirs\n",
            "/usr/share/fonts/truetype/humor-sans: caching, new cache contents: 1 fonts, 0 dirs\n",
            "/usr/share/fonts/truetype/liberation: caching, new cache contents: 16 fonts, 0 dirs\n",
            "/usr/share/fonts/truetype/nanum: caching, new cache contents: 12 fonts, 0 dirs\n",
            "/usr/local/share/fonts: caching, new cache contents: 0 fonts, 0 dirs\n",
            "/root/.local/share/fonts: skipping, no such directory\n",
            "/root/.fonts: skipping, no such directory\n",
            "/usr/share/fonts/truetype: skipping, looped directory detected\n",
            "/usr/share/fonts/truetype/humor-sans: skipping, looped directory detected\n",
            "/usr/share/fonts/truetype/liberation: skipping, looped directory detected\n",
            "/usr/share/fonts/truetype/nanum: skipping, looped directory detected\n",
            "/var/cache/fontconfig: cleaning cache directory\n",
            "/root/.cache/fontconfig: not cleaning non-existent cache directory\n",
            "/root/.fontconfig: not cleaning non-existent cache directory\n",
            "fc-cache: succeeded\n"
          ]
        }
      ],
      "source": [
        "!sudo apt-get install -y fonts-nanum\n",
        "!sudo fc-cache -fv\n",
        "!rm ~/.cache/matplotlib -rf"
      ]
    },
    {
      "cell_type": "code",
      "execution_count": null,
      "metadata": {
        "colab": {
          "base_uri": "https://localhost:8080/"
        },
        "id": "zYrWbn4vlFLw",
        "outputId": "935d865f-dd53-47fa-fd3f-37473f02a928"
      },
      "outputs": [
        {
          "name": "stdout",
          "output_type": "stream",
          "text": [
            "◎ matplotlib version :  3.7.1\n",
            "\n"
          ]
        },
        {
          "data": {
            "text/plain": [
              "['/usr/share/fonts/truetype/nanum/NanumSquareR.ttf',\n",
              " '/usr/share/fonts/truetype/nanum/NanumGothicCodingBold.ttf',\n",
              " '/usr/share/fonts/truetype/nanum/NanumSquareRoundB.ttf',\n",
              " '/usr/share/fonts/truetype/nanum/NanumMyeongjo.ttf',\n",
              " '/usr/share/fonts/truetype/nanum/NanumGothicCoding.ttf',\n",
              " '/usr/share/fonts/truetype/nanum/NanumBarunGothic.ttf',\n",
              " '/usr/share/fonts/truetype/nanum/NanumSquareB.ttf',\n",
              " '/usr/share/fonts/truetype/nanum/NanumBarunGothicBold.ttf',\n",
              " '/usr/share/fonts/truetype/nanum/NanumMyeongjoBold.ttf',\n",
              " '/usr/share/fonts/truetype/nanum/NanumGothic.ttf',\n",
              " '/usr/share/fonts/truetype/nanum/NanumSquareRoundR.ttf',\n",
              " '/usr/share/fonts/truetype/nanum/NanumGothicBold.ttf']"
            ]
          },
          "execution_count": 1,
          "metadata": {},
          "output_type": "execute_result"
        }
      ],
      "source": [
        "import  matplotlib\n",
        "import  matplotlib.font_manager  as fm\n",
        "import  matplotlib.pyplot  as plt\n",
        "\n",
        "\n",
        "print('◎ matplotlib version : ', matplotlib.__version__)\n",
        "print()\n",
        "\n",
        "\n",
        "sys_font  = fm.findSystemFonts ( )\n",
        "\n",
        "[ font  for  font  in  sys_font  if  \"Nanum\"  in font ]"
      ]
    },
    {
      "cell_type": "code",
      "execution_count": null,
      "metadata": {
        "id": "ui1eOdfilIEx"
      },
      "outputs": [],
      "source": [
        "fe = fm.FontEntry(\n",
        "    fname=r'/usr/share/fonts/truetype/nanum/NanumGothic.ttf',\n",
        "    name='NanumGothic')\n",
        "fm.fontManager.ttflist.insert(0, fe)\n",
        "plt.rcParams.update({'font.size': 18, 'font.family': 'NanumGothic'})"
      ]
    },
    {
      "cell_type": "markdown",
      "metadata": {
        "id": "iMiCOzPEi7Ym"
      },
      "source": [
        "### 라이브러리 및 데이터 불러오기"
      ]
    },
    {
      "cell_type": "code",
      "execution_count": null,
      "metadata": {
        "id": "PEQVhR_AKupe"
      },
      "outputs": [],
      "source": [
        "import pandas as pd\n",
        "import numpy as np\n",
        "import re\n",
        "from tqdm import tqdm\n",
        "import pickle\n",
        "import matplotlib.pyplot as plt\n",
        "import seaborn as sns\n",
        "\n",
        "from sklearn.preprocessing import LabelEncoder\n",
        "\n",
        "from sklearn.model_selection import train_test_split\n",
        "from sklearn.model_selection import StratifiedShuffleSplit\n",
        "\n",
        "from sklearn.ensemble import RandomForestClassifier\n",
        "import lightgbm as lgb\n",
        "\n",
        "from sklearn.metrics import confusion_matrix\n",
        "from sklearn.metrics import classification_report\n",
        "from sklearn.metrics import accuracy_score, precision_score, recall_score, f1_score"
      ]
    },
    {
      "cell_type": "code",
      "execution_count": null,
      "metadata": {
        "id": "D8YKflNcLaS7"
      },
      "outputs": [],
      "source": [
        "df = pd.read_csv('/content/drive/MyDrive/KPMG 캡스톤/사무총조사/filter_df.csv')"
      ]
    },
    {
      "cell_type": "code",
      "execution_count": null,
      "metadata": {
        "id": "c8IzepDpUwID"
      },
      "outputs": [],
      "source": [
        "with open(\"/content/drive/MyDrive/KPMG 캡스톤/사무총조사/수행주체/subject_list.pkl\",\"rb\") as f:\n",
        "    subject_list = pickle.load(f)"
      ]
    },
    {
      "cell_type": "code",
      "execution_count": null,
      "metadata": {
        "id": "rUvVLbe2NH_V"
      },
      "outputs": [],
      "source": [
        "# df_1: 사무판단 == 1인 행들만 있는 dataframe\n",
        "df_1 = df[df['사무판단'] == 1]"
      ]
    },
    {
      "cell_type": "code",
      "execution_count": null,
      "metadata": {
        "id": "TCOJetONMCRs"
      },
      "outputs": [],
      "source": [
        "df_1['사무유형(대분류)'] = np.nan\n",
        "\n",
        "scale_n = ['국가직접처리사무', '특별지방행정기관사무', '국가위탁사무', '시도위임사무', '시군구위임사무', '시군구재위임사무', '시도및시군구위임사무']\n",
        "scale_p = ['국가-시도-시군구공동사무', '국가-시도공동사무', '국가-시군구공동사무']\n",
        "scale_r = ['시도직접처리사무', '시도위탁사무', '시군구직접처리사무', '시군구위탁사무', '시도-시군구공동사무', '시도-시군구위임사무']\n",
        "\n",
        "for ii in range(len(df_1)):\n",
        "  minitask = str(df_1.iloc[ii,24])\n",
        "  if minitask == 'nan':\n",
        "    df_1.iloc[ii,28] = '0'\n",
        "  elif minitask in scale_n:\n",
        "    df_1.iloc[ii,28] = '국가'\n",
        "  elif minitask in scale_p:\n",
        "    df_1.iloc[ii,28] = '공동'\n",
        "  elif minitask in scale_r:\n",
        "    df_1.iloc[ii,28] = '지방'"
      ]
    },
    {
      "cell_type": "code",
      "execution_count": null,
      "metadata": {
        "colab": {
          "base_uri": "https://localhost:8080/"
        },
        "id": "8msXdVgeYBcz",
        "outputId": "33893df7-060d-48a0-945e-8ad0f87ecb57"
      },
      "outputs": [
        {
          "name": "stderr",
          "output_type": "stream",
          "text": [
            "<ipython-input-7-fb36dbb56b2f>:3: SettingWithCopyWarning: \n",
            "A value is trying to be set on a copy of a slice from a DataFrame.\n",
            "Try using .loc[row_indexer,col_indexer] = value instead\n",
            "\n",
            "See the caveats in the documentation: https://pandas.pydata.org/pandas-docs/stable/user_guide/indexing.html#returning-a-view-versus-a-copy\n",
            "  df_1['조문'] = df_1['조문'].apply(lambda x: '' if pd.isna(x) else str(x))\n"
          ]
        }
      ],
      "source": [
        "# '조문' string으로 바꾸기\n",
        "# df_1 속 '조문'이 결측치인 행 2개 존재\n",
        "df_1['조문'] = df_1['조문'].apply(lambda x: '' if pd.isna(x) else str(x))"
      ]
    },
    {
      "cell_type": "markdown",
      "metadata": {
        "id": "N7hij5ENLAqu"
      },
      "source": [
        "## 1. column들 생성"
      ]
    },
    {
      "cell_type": "markdown",
      "metadata": {
        "id": "bRi2kwf4s1ZO"
      },
      "source": [
        "### 1st column 생성: 가장 많이 들어있는 수행주체 index 2~3개 추출\n",
        "- 수행주체_freq1: 가장 많이 들어있는 수행주체 index\n",
        "- 수행주체_freq2: 두 번째로 많이 들어있는 수행주체 index\n",
        "- 수행주체_freq3: 세 번째로 많이 들어있는 수행주체 index"
      ]
    },
    {
      "cell_type": "code",
      "execution_count": null,
      "metadata": {
        "colab": {
          "base_uri": "https://localhost:8080/"
        },
        "id": "viFdMjmrwz78",
        "outputId": "df718e0d-0e3b-41d4-fc55-c740dde94557"
      },
      "outputs": [
        {
          "data": {
            "text/plain": [
              "Index(['Unnamed: 0', '소관부처명', '법령명', '법령구분', '조번호', '항번호', '호번호', '조문제목', '조문',\n",
              "       '사무판단', '사무판단근거', '사무명', '수행주체', '사무유형', '위임사무판단', '위임근거규정', '수임기관',\n",
              "       '특행기관', '재위임사무판단', '재위임근거규정', '재수임기관', '위탁사무판단', '위탁근거규정', '수탁기관',\n",
              "       '사무유형(소분류)', '기타', '조문_명_동', 'new_수행주체', '사무유형(대분류)', '수행주체_freq1',\n",
              "       '수행주체_freq2', '수행주체_freq3', '수행주체_국가', '수행주체_지방', '수행주체_공동',\n",
              "       '수행주체_국가_교', '수행주체_지방_교', '수행주체_공동_교'],\n",
              "      dtype='object')"
            ]
          },
          "execution_count": 49,
          "metadata": {},
          "output_type": "execute_result"
        }
      ],
      "source": [
        "df_1.columns"
      ]
    },
    {
      "cell_type": "code",
      "execution_count": null,
      "metadata": {
        "colab": {
          "base_uri": "https://localhost:8080/"
        },
        "id": "kiQwyPTtv1Kd",
        "outputId": "982eed10-28ef-4569-edde-9cbfb22f0601"
      },
      "outputs": [
        {
          "name": "stderr",
          "output_type": "stream",
          "text": [
            "<ipython-input-8-418e96bc39fe>:1: SettingWithCopyWarning: \n",
            "A value is trying to be set on a copy of a slice from a DataFrame.\n",
            "Try using .loc[row_indexer,col_indexer] = value instead\n",
            "\n",
            "See the caveats in the documentation: https://pandas.pydata.org/pandas-docs/stable/user_guide/indexing.html#returning-a-view-versus-a-copy\n",
            "  df_1['new_수행주체'] = df_1['new_수행주체'].apply(lambda x: '' if pd.isna(x) else str(x))\n"
          ]
        }
      ],
      "source": [
        "df_1['new_수행주체'] = df_1['new_수행주체'].apply(lambda x: '' if pd.isna(x) else str(x))\n",
        "\n",
        "word_vec = []\n",
        "for item in df_1['new_수행주체']:\n",
        "    row_vec = [0] * len(subject_list)\n",
        "    for subject in subject_list:\n",
        "        count = item.count(subject)\n",
        "        if count > 0:\n",
        "            index = subject_list.index(subject)\n",
        "            row_vec[index] += count\n",
        "    word_vec.append(row_vec)"
      ]
    },
    {
      "cell_type": "code",
      "execution_count": null,
      "metadata": {
        "id": "f4CW81J72g9H"
      },
      "outputs": [],
      "source": [
        "word_vec = pd.DataFrame(word_vec)"
      ]
    },
    {
      "cell_type": "code",
      "execution_count": null,
      "metadata": {
        "colab": {
          "base_uri": "https://localhost:8080/"
        },
        "id": "aKPF1zjk_7Gg",
        "outputId": "c6c5b8b7-7f52-4c77-d9c8-c740d5f941a9"
      },
      "outputs": [
        {
          "name": "stderr",
          "output_type": "stream",
          "text": [
            "<ipython-input-10-6c8980145691>:8: SettingWithCopyWarning: \n",
            "A value is trying to be set on a copy of a slice from a DataFrame.\n",
            "Try using .loc[row_indexer,col_indexer] = value instead\n",
            "\n",
            "See the caveats in the documentation: https://pandas.pydata.org/pandas-docs/stable/user_guide/indexing.html#returning-a-view-versus-a-copy\n",
            "  df_1['수행주체_freq1'] = word_vec.apply(lambda row: np.nan if row.max() == 0 else row.idxmax(), axis=1)\n",
            "<ipython-input-10-6c8980145691>:9: SettingWithCopyWarning: \n",
            "A value is trying to be set on a copy of a slice from a DataFrame.\n",
            "Try using .loc[row_indexer,col_indexer] = value instead\n",
            "\n",
            "See the caveats in the documentation: https://pandas.pydata.org/pandas-docs/stable/user_guide/indexing.html#returning-a-view-versus-a-copy\n",
            "  df_1['수행주체_freq2'] = word_vec.apply(lambda row: get_nlargest_index(row, 2), axis=1)\n",
            "<ipython-input-10-6c8980145691>:10: SettingWithCopyWarning: \n",
            "A value is trying to be set on a copy of a slice from a DataFrame.\n",
            "Try using .loc[row_indexer,col_indexer] = value instead\n",
            "\n",
            "See the caveats in the documentation: https://pandas.pydata.org/pandas-docs/stable/user_guide/indexing.html#returning-a-view-versus-a-copy\n",
            "  df_1['수행주체_freq3'] = word_vec.apply(lambda row: get_nlargest_index(row, 3), axis=1)\n"
          ]
        }
      ],
      "source": [
        "def get_nlargest_index(row, n):\n",
        "    if row.nlargest(n).iloc[-1] == 0:\n",
        "        return np.nan\n",
        "    else:\n",
        "        return row.nlargest(n).index[-1]\n",
        "\n",
        "# 각 열에 대한 값을 계산하고 NaN 조건을 적용합니다.\n",
        "df_1['수행주체_freq1'] = word_vec.apply(lambda row: np.nan if row.max() == 0 else row.idxmax(), axis=1)\n",
        "df_1['수행주체_freq2'] = word_vec.apply(lambda row: get_nlargest_index(row, 2), axis=1)\n",
        "df_1['수행주체_freq3'] = word_vec.apply(lambda row: get_nlargest_index(row, 3), axis=1)"
      ]
    },
    {
      "cell_type": "code",
      "execution_count": null,
      "metadata": {
        "colab": {
          "base_uri": "https://localhost:8080/"
        },
        "id": "TySzuDqsMJm0",
        "outputId": "0188f916-5e19-4122-e4a8-aa6653c6e6d2"
      },
      "outputs": [
        {
          "name": "stderr",
          "output_type": "stream",
          "text": [
            "<ipython-input-11-4095259a2aac>:3: SettingWithCopyWarning: \n",
            "A value is trying to be set on a copy of a slice from a DataFrame.\n",
            "Try using .loc[row_indexer,col_indexer] = value instead\n",
            "\n",
            "See the caveats in the documentation: https://pandas.pydata.org/pandas-docs/stable/user_guide/indexing.html#returning-a-view-versus-a-copy\n",
            "  df_1[['수행주체_freq1', '수행주체_freq2', '수행주체_freq3']] = df_1[['수행주체_freq1', '수행주체_freq2', '수행주체_freq3']].fillna(2000)\n"
          ]
        }
      ],
      "source": [
        "# NaN값에는 그냥 2000 넣어줌, 자료형 int로 바꿔줌\n",
        "\n",
        "df_1[['수행주체_freq1', '수행주체_freq2', '수행주체_freq3']] = df_1[['수행주체_freq1', '수행주체_freq2', '수행주체_freq3']].fillna(2000)\n",
        "df_1 = df_1.astype({'수행주체_freq1': 'int', '수행주체_freq2': 'int', '수행주체_freq3': 'int'})"
      ]
    },
    {
      "cell_type": "markdown",
      "metadata": {
        "id": "iXG8lVtwWSVK"
      },
      "source": [
        "### 2nd column 생성: '국가', '지방', '공동'에 들어있는 수행주체 구분하기\n",
        "- 수행주체_국가: '국가사무'에만 존재하는 수행주체가 '조문'에서 언급된 횟수\n",
        "- 수행주체_지방: '지방사무'에만 존재하는 수행주체가 '조문'에서 언급된 횟수\n",
        "- 수행주체_공동: '공동사무'에만 존재하는 수행주체가 '조문'에서 언급된 횟수\n",
        "---\n",
        "- 수행주체_국가_교: '국가사무'에 존재하는 수행주체가 '조문'에서 언급된 횟수\n",
        "- 수행주체_지방_교: '지방사무'에 존재하는 수행주체가 '조문'에서 언급된 횟수\n",
        "- 수행주체_공동_교: '공동사무'에 존재하는 수행주체가 '조문'에서 언급된 횟수"
      ]
    },
    {
      "cell_type": "code",
      "execution_count": null,
      "metadata": {
        "id": "r0OBVJTLVr-6"
      },
      "outputs": [],
      "source": [
        "df_country = df_1[df_1['사무유형(대분류)'] == '국가']\n",
        "df_province = df_1[df_1['사무유형(대분류)'] == '지방']\n",
        "df_both = df_1[df_1['사무유형(대분류)'] == '공동']"
      ]
    },
    {
      "cell_type": "code",
      "execution_count": null,
      "metadata": {
        "id": "4DmWocQyXjs0"
      },
      "outputs": [],
      "source": [
        "# 국가사무, 지방사무, 공동사무 각각의 조문에 언급된 수행주체 뽑아내기\n",
        "\n",
        "# 국가사무 '조문'에 들어있는 수행주체\n",
        "subject_country = []\n",
        "for subject in subject_list:\n",
        "  if df_country['조문'].str.contains(subject).any():\n",
        "    subject_country.append(subject)\n",
        "\n",
        "# 지방사무 '조문'에 들어있는 수행주체\n",
        "subject_province = []\n",
        "for subject in subject_list:\n",
        "  if df_province['조문'].str.contains(subject).any():\n",
        "    subject_province.append(subject)\n",
        "\n",
        "# 공동사무 '조문'에 들어있는 수행주체\n",
        "subject_both = []\n",
        "for subject in subject_list:\n",
        "  if df_both['조문'].str.contains(subject).any():\n",
        "    subject_both.append(subject)"
      ]
    },
    {
      "cell_type": "code",
      "execution_count": null,
      "metadata": {
        "colab": {
          "base_uri": "https://localhost:8080/"
        },
        "id": "gwvPC8iwaOqH",
        "outputId": "0706a616-aa2d-42af-c077-dcb5007f54af"
      },
      "outputs": [
        {
          "name": "stdout",
          "output_type": "stream",
          "text": [
            "==================\n",
            "국가, 지방, 공동 모두 존재\n",
            "주체: {'기업체', '지방의회', '통계청', '특별시', '지방국세청', '행정관청', '청장', '산림조합중앙회', '소장', '자산관리공사', '신청인', '행정청', '실무위원회', '주무부처', '재단', '외국환은행', '정부', '사법경찰관', '하고자 하는 자', '물품관리관', '지방식품의약품안전청장', '식물검역기관', '추천위원회', '국장', '직업교육훈련기관', '지방환경청', '은행', '광역지방자치단체', '수산청', '보훈병원', '호의 기관', '중앙행정기관', '사범대학', '검역기관', '유치원', '국민안전처장관', '해양경찰청', '허가관청', '수면관리자', '공원관리청', '사업계획승인권자', '요구권자', '지방공기업', '관리권자', '국가기관', '대통령령으로 정하는 공공기관', '간사', '자치구', '감사', '노동부장관', '교육단체', '한국토지주택공사', '궤도사업자', '임용권자', '피해아동', '지역군사령관', '변호사', '소방청', '원자력안전위원회', '한국환경공단', '발주청', '특허청', '사업단', '법무부', '이전공공기관', '수익자', '재난관리책임기관', '관측기관', '자치구구청장', '학교', '지방토지수용위원회', '신고한 자', '도의회', '개발원', '신용카드업자', '보호기관', '중앙대책본부장', '통일부', '위원장', '대통령', '댐건설사업시행자', '군인', '금융기관', '지역자활센터', '처장', '시ㆍ군', '영사', '시행자', '하천관리청', '지방도로관리청', '한국보훈복지의료공단', '중앙회', '단체', '구조ㆍ구급대원', '공공단체', '국가유공자', '농림축산식품부', '시ㆍ군ㆍ자치구', '손실을 입은 자', '관장', '사업시행자', '진흥원', '국가기술표준원', '건강보험공단', '시·구', '심판원', '보장기관', '지방병무청', '관리', '법원', '납세의무자', '국무총리', '수사기관', '사업자', '연합체', '이사장', '공공하수도관리청', '이사회', '국립수산과학원', '검정기관', '정부출연연구기관', '경찰공무원', '교육장', '보건복지부장관', '근로복지공단', '직업안정기관의 장', '체육단체', '임대사업자', '법정대리인', '소방대', '부대', '일괄협의회', '건축위원회', '연구개발기관', '세관', '재외공관', '식물방제관', '의료기관', '시ㆍ도교육감', '농업ㆍ농촌및식품산업정책심의회', '공익법인', '기술원', '지방공단', '수립권자', '기술보증기금', '종합신용정보집중기관', '협회', '심의회', '사장', '시ㆍ도 가축방역기관', '특별자치도지사', '소방기관', '협의회', '중소벤처기업진흥공단', '읍장', '시ㆍ도', '토지주택공사', '경찰관', '분쟁조정위원회', '도지사', '보건의료기관', '관청', '아동복지시설', '교정시설', '군부대', '출자ㆍ출연 기관', '주무관청', '정신건강복지센터', '환경분쟁조정위원회', '병무청', '중소벤처기업부', '입안권자', '한국자산관리공사', '사업주체', '기금', '해양수산부', '시ㆍ도교육청', '철도운영자', '지역대책본부', '사령관', '지방대학', '공판장', '공무원', '기획재정부', '공사', '처분권자', '인사위원회', '공기업', '전문위원회', '시설관리자', '대통령령으로 정하는 자', '행정사법인', '연구원', '학교운영위원회', '국립대학', '식품의약품안전처', '산업대학', '승인관청', '군수', '특별자치도', '구호지원기관', '광주광역시', '하려는 자', '공단', '민방위 대장', '감사원', '국방부', '운영위원회', '함대사령관', '지정권자', '세종특별자치시', '중앙통제단장', '한국지역정보개발원', '국립학교', '면장', '신용보증기금', '국립농산물품질관리원', '가축방역기관장', '본부', '건설엔지니어링사업자', '시ㆍ도 교육청', '철도시설관리자', '시험연구기관', '연구기관', '중앙도시계획위원회', '경찰관서', '대도시', '도매시장 개설자', '행정안전부', '지방환경관서', '부처', '수습본부', '농촌진흥청', '총리', '감독기관', '수탁기관', '소유자', '사회복지법인', '세무공무원', '정책심의위원회', '국민건강보험공단', '세무서', '국민연금공단', '받은 자', '출납공무원', '장관', '국가균형발전위원회', '대학', '국세청', '지방고용노동관서', '센터', '지방도시계획위원회', '피해자', '보험회사', '허가권자', '사무소', '인증기관', '지방자치단체조합', '사립학교', '의장', '광역시', '소방관서', '교육행정기관', '읍·면', '체신관서', '공공보건의료기관', '설립자', '시ㆍ도경찰청', '지방해양수산청장', '문화체육관광부', '대법원', '이해관계인', '검찰청', '교육위원회', '지휘관', '평생교육시설', '교육부', '구청장', '등록관청', '실무위원', '중앙선거관리위원회', '원천징수의무자', '위원회', '초등학교', '지방자치단체', '지청', '대통령령으로 정하는 기관', '학교법인', '관리자', '중앙관서', '검역본부', '읍·면·동', '감정평가법인', '교육감', '산업단지지정권자', '특구 시ㆍ도지사', '영구기록물관리기관', '금융위원회', '한국은행', '교육지원청', '과학기술정보통신부', '전문대학', '교육기관', '민원실', '식물검역관', '금융위원', '심사위원회', '공공기관', '신고관청', '긴급구조기관', '관리주체', '지방공사', '국가', '유관기관', '경찰청', '지적소관청', '의료시설', '건설사업자', '구청', '기관', '질병관리청', '특별자치시ㆍ도', '검사', '시ㆍ도지사', '지방산림청', '한국농어촌공사', '문화재청', '발급기관', '산업통상자원부', '준정부기관', '지방분쟁조정위원회', '공정거래위원회', '위탁기관', '승인권자', '환경부', '지방검찰청', '읍ㆍ면ㆍ동', '중학교', '특별자치시', '행정협의회', '교육훈련기관', '시ㆍ도본부', '경찰서', '시ㆍ도 서비스원', '수납기관', '전문가', '외교부', '지방해양경찰청', '지방의회의 의장', '행정부', '판사', '정책위원회', '개발센터', '금융회사', '선거관리위원회', '유역환경청', '관리청', '소방대원', '세무서장', '발주자', '소재지', '지방교통위원회', '조달청', '거주자', '시ㆍ군ㆍ구', '국립가축방역기관', '사회보장위원회', '제주특별자치도', '검찰', '산림청', '경영자', '국립국제교육원', '육군', '일반수도사업자', '행정기관', '물류기업', '시·구·읍·면', '동장', '아동보호전문기관', '도로관리청', '배치기관', '수도사업자', '국회', '재무관', '사무처', '소위원회', '통제단장', '심의위원회', '이전기관', '시장', '소방서', '해양경찰서', '사법경찰관리', '진흥재단', '미술관', '테러대책협의회', '등록기관', '시·도지사', '읍ㆍ면', '보건소', '징계위원회', '소비자', '전라북도지사', '판매자', '지정행정기관의 장', '지원단', '시·군·구', '소관청', '시민고충처리위원회', '고용노동부', '제주자치도', '지하시설물관리자', '공인회계사회', '진흥공단', '도교육감', '박물관', '도시철도공사', '보장원', '지역통제단장', '자치구의 구청장', '교장', '지원센터', '한국수자원공사', '관리기관', '연합회', '통합심의위원회', '전담의료기관', '민방위대', '토지수용위원회', '시ㆍ도의 교육감', '국토교통부', '국립수목원', '등기소', '고등학교', '경찰', '입주자', '기록물관리기관', '업체', '서울특별시', '전문기관', '소방본부', '농업협동조합중앙회', '지원위원회', '정부기관', '주택건설등록업자', '원장', '여성가족부', '토양관련전문기관', '교육시설', '도서관', '연구회', '주무부장관'}\n",
            "개수: 452\n",
            "==================\n",
            "국가사무에만 존재\n",
            "주체: {'특별지방행정기관', '희귀질환지원센터', '자원봉사진흥위원회', '독학학위운영위원회', '외국세무자문사등록부', '조직은행', '농업재해보험심의회', '미합중국 주재 관할 총영사', '극장', '한국공정거래조정원', '야생동물검역기관', '수송관서', '국민건강증진정책심의위원회', '중앙방사능방재대책본부', '국민연금기금', '소년분류심사원', '제출대상법인', '수요기관', '국세예규심사위원회', '순천시', '지방우정청장', '중소기업유통센터', '인터넷주소관리기관', '온라인투자연계금융협회', '사립학교교직원연금공단', '복권위원회', '입영부대', '국립정신병원', '전자송달대행기관', '장기등이식윤리위원회', '자연경관심의위원회', '감염병관리위원회', '국가경찰위원회', '지방청장', '항공안전본부장', '발명기관', '예비군중대장', '혁신금융사업자', '재활시설운영심의위원회', '한국은행총재', '법교육위원회', '기술혁신 추진위원회', '국가시책사업심의회', '군무원', '군 책임운영기관운영위원회', '혁신금융심사위원회', '폐자원에너지센터', '친일반민족행위진상규명위원회', '출입국관리 공무원', '공공보건의료정책심의위원회', '비상장은행', '주 미합중국 대한민국 대사', '수도권정비위원회', '공급기관', '고등검찰청', '지방노동위원회', '국가정보자료관리협의회', '산업표준심의회', '지역지식재산센터', '청소년정책위원회', '합동성위원회', '수질오염방제센터', '청사관리기관의 장', '수입공무원', '대한민국법인', '해양경찰관서', '국가생물다양성센터', '수도권대기환경청', '국립종자원', '상공부', '첨단바이오의약품 심의위원회', '소형선박 등록관청', '세월호 선체조사위원', '한국교육개발원', '국무위원', '중앙방제대책본부', '차관보', '대통령기록물생산기관', '일자리위원회', '민주화운동관련자명예회복및보상심의위원회', '국가노후준비위원회', '국가기록관리위원회', '우편대체관서', '방첩기관', '임명권자', '심사원', '부문별관장기관의 장', '합참의장', '국립결핵병원', '광산안전위원회', '공공데이터제공책임관', '사행산업통합감독위원회', '지방교정청', '임금채권보장기금심의위원회', '대한공증인협회', '의료재활소년원', '책임경영지원센터', '말소된 등록을 회복하려는 자', '항만시설 소유자', '데이터기반행정 책임관', '주무장관', '유치지역지원위원회', '지방해양항만관청', '방송광고균형발전위원회', '등록공무원', '거래소', '한국보건의료연구원', '징벌위원회', '중장기전략위원회', '인증원', '조달품질원', '접경지세관', '등록공관', '출입항신고기관의 장', '영화진흥위원회', '해양항만관청', '국내대책위원회', '발송관서', '계정출납명령관', '기술진흥전문기관', '재외국민보호위원회', '국채사무처리기관', '군수사기관', '공적자금관리위원회', '중앙암등록본부', '국ㆍ공립의 박물관', '판매기관의 장', '파산참가기관', '전용실시권자', '우수품질인증을 받은 자', '협동조합정책심의위원회', '조직기증지원기관', '검찰부', '다문화가족정책위원회', '전문교육훈련기관', '녹색건축센터', '신고업무 수탁기관', '법령안 주관기관', '출입국관리사무소장', '항공운송사업자', '실무회의', '교육ㆍ사회 및 문화 관계장관회의', '군사망사고진상규명위원회', '공공측량시행자', '군교정시설', '심사대행기관', '특허심판원', '국가인권위원회', '기술정보진흥원', '대통령기록관', '국가통계위원', '첨단재생의료', '적립금운용심의회', '국가암관리위원회', '합동참모본부', '경제관계장관회의', '자활복지개발원장', '운항시각조정기관', '군사법원', '한국토지주택공사사장', '전력정책심의회', '예탁신청자', '중앙구조본부', '징발관', '대통령기록관리전문위원회', '도로관리권자', '한국은행 총재', '국가경찰관서', '장애인정책조정위원회', '도시ㆍ군관리계획의 결정권자', '디엔에이신원확인정보담당자', '소비자분쟁조정위원회', '이의신청심의위원회', '과거사연구재단', '국회 정보위원회', '기술전문위원회', '해양경찰관', '남북교류협력 추진협의회', '발령권자', '중앙수산조정위원회', '호송관', '자살유발정보예방협의회', '해상구조조정본부', '디자인등록출원인', '순국선열ㆍ애국지사사업기금 및 보훈기금운용심의회', '5·18민주화운동 진상규명조사위원회', '국가위원회', '증권선물위원회', '기금운용심의회', '국립해양조사원', '외국인정책위원회', '스마트도시협회', '양성평등교육심의회', '국가지식재산위원회', '수소경제위원회', '국립과학수사연구원', '재산관리관', '대통령기록물생산기관의 기록관', '긴급재정관리단체', '사업재편계획심의위원회', '국방정보화책임관협의회', '소년원', '우편관서', '다목의 기관의 장', '수출지원센터', '국가생명윤리심의위원회', '우정사업정보센터', '특수기록관', '대외경제장관회의', '한국원자력안전기술원의 장', '주민등록사무감독기관', '어업재해보험심의회', '한국승강기안전공단', '경찰교육기관', '징계권자의 차상급 부대 또는 기관', '금융투자상품거래청산회사', '본부심의회', '한국환경산업기술원', '검찰관', '의약품관리종합정보센터', '감항인증심의위원회', '검찰인사위원회', '고용보험위원회', '화물터미널운영자', '통상조약 국내대책위원회', '정부대표', '벤처기업확인기관', '신용평가회사', '시험실시권자', '경찰병원', '자치분권위원회', '경호처', '상장은행지주회사', '진상조사위원회', '한의약육성발전심의위원회', '국가물관리위원', '자동차보험정비협의회', '토지비축위원회', '국립소록도병원', '초고층 건축물등의 관리주체', '보훈기금운용심의회', '국가교육회의', '농약안전성심의위원회', '국립통일교육원', '신용정보협회', '경쟁력위원회', '물품사용공무원', '한강홍수통제소장', '금융보안원', '방위사업감독관', '국방과학연구소', '국립환경과학원', '수용기관', '공적연금연계협의체', '대한변호사협회', '지방법원판사', '금융복합기업집단', '무역위원회', '해병대사령부', '공공외교위원회', '선사용자금출납명령관', '전문수사자문위원', '지하정보관리기관의 장', '감사관', '석면피해구제심사위원회', '재결청', '사면심사위원회', '계엄사령관', '군보건의료기관', '자살예방정책위원회', '처리과의 장', '전문은행', '품질인정기관', '국가안전보장회의', '한국독립운동사연구소', '발급권한기관', '한국급경사지안전협회', '소방기장', '지역방송발전위원회', '한국수출입은행장', '세월호 선체조사위원회', '국가안보실', '취업지원실시기관', '국가치매관리위원회', '기금재수탁자', '중소기업자단체', '물류관련 전문기관', '책임운영기관운영심의회', '학교도서관진흥위원회', '농지보전부담금체납정리심의회', '시ㆍ도 협동조합정책협의회', '국가핵융합위원회', '휴면보험금등관리위원회', '국가평생교육진흥원', '출입국자', '지방항공청장', '납세자보호위원회', '한국원자력의학원의 장', '국방기술품질원', '한국직업능력개발원', '화학물질안전원장', '고위공직자범죄수사처', '국세심사위원회', '통제권자', '군교도관', '국가건축정책위원회', '치료감호심의위원회', '지방법원 판사', '검찰단장', '국가산학연협력위원회', '임상연구심의위원회', '방송분쟁조정위원회', '세무사징계위원회', '국립외교원', '추모위원회', '공공관리주체', '의약품안전관리원', '군검사', '관세심사위원회', '정부위원', '필수업무 지정 및 종사자', '국립환경인력개발원', '보관금을 납부한 자', '금융정보분석원', '금융분쟁조정위원회', '중요지표사용기관', '외국인보호소', '신속대응팀', '대체복무기관', '재난원인조사단', '교원소청심사위원회', '국무조정실', '산업융합 규제특례심의위원회', '주재무관', '법무연수원', '치료감호소', '한국해양교통안전공단', '중앙감염병병원', '국가인적자원위원회', '국민경제자문회의', '국가정보자원관리원장', '교도관', '아동자립지원추진협의회', '물류관련기관', '지방과학기술진흥협의회', '산업재해보상보험및예방심의위원회', '화학물질관리위원회', '소년원학교', '교수임용심의위원회', '중앙소음대책심의위원회', '소관부', '한국재정정보원', '수의사 국가시험위원회', '국가병원체자원은행', '지방고용노동청', '범죄피해재산환부심의회', '남극활동감시원', '재정운용위원회', '지방검찰청검사장', '환자안전위원회', '치료감호시설의 장', '산림탄소센터', '중증질환심의위원회', '통합환경관리정보공개심의위원회', '아동정책조정위원회', '군인복지위원회', '연구기관의 원장 및 감사', '금융감독위원회', '지방검찰청지청', '군사안보지원사령부', '행정자치부장관', '직할부대장', '중앙 사회서비스원', '전직 대통령', '검사위원회', '명예회복위원회', '국가표준심의회', '2023 순천만국제정원박람회조직위원회', '관서운영경비출납공무원', '우정사업본부', '중앙생활보장위원회', '군검찰관', '국가보안기관', '국립조직기증관리기관', '새만금청', '대검찰청', '여수ㆍ순천 10ㆍ19사건진상규명및희생자명예회복위원회', '북한인권기록보존소', '갈등관리심의위원회', '정책기획위원회', '정보수사기관', '맞춤형화장품판매업자', '수출지원기관', '한센인피해사건진상규명위원회', '청년고용촉진특별위원', '보안관찰처분심의위원회', '공공자금관리기금운용위원회', '미래창조과학부', '운영심의회', '공공데이터 포털', '분과위원회', '보험요율 산출기관', '한국산업안전보건공단', '농수산물품질관리심의회', '의무소방대 소속 기관', '특별검사', '가석방심사위원회', '국내복귀기업지원위원회', '공군작전사령관', '복지사업심의위원회', '화학물질평가위원회', '형사사법업무 처리기관 소속 공무원', '남북관계발전위원회', '자동차손해배상진흥원', '자격정책심의회', '군정비부대', '재원운영자', '이행관리원', '국립공원위원회', '국방개혁위원회', '일반군무원', '지하개발사업자', '공군참모총장', '장성급 지휘관', '한국교육학술정보원장', '출입국관리사무소출장소장', '군판사', '군사경찰부대의 지휘관', '통관지 세관장', '우정사업총괄기관', '중앙책임운영기관', '방송문화진흥회', '디엔에이인적관리자', '예탁결제원', '회계 관계 공무원', '신체등급판정 사무를 담당하는 병무청 소속기관', '긴급재정관리인', '보통징계위원회', '지방세무관서', '국가책임기관', '대사관', '특별노동위원회', '국가통계위원회', '유치장', '중앙사무관장기관', '국방부직할부대', '검역소', '징계권자의 부대', '고용정책심의회', '금고은행', '석면안전관리위원회', '특별검사후보추천위원회', '복무 기관', '통관지세관장', '전적학교', '대한소방공제회', '정부청사관리소', '임면권자', '법무부징계위원회', '면직심사위원회', '수형자', '심판장', '대한약전', '사세청', '유료도로관리청', '시ㆍ도 경제협의회', '근로시간면제심의위원회', '해양항만청장', '교수징계위원회', '국가경찰기관', '특례심의위원회', '한국인원자폭탄피해자지원위원회', '한국보건산업진흥원장', '갱생보호회지소장', '해군작전사령관', '전자수입인지업무대행기관', '국제감축심의회', '우체국보험특별회계', '진급권자', '융자기관', '보수지급기관', '최저임금위원회', '출국항 관할 세관장', '세관공무원', '화장품책임판매업자', '중증장애인생산품우선구매촉진위원회', '국가테러대책위원회', '중앙징계위원회', '제품검사기관', '수출입은행', '대한상공회의소', '북방경제협력위원회', '기상관측표준화위원회', '특별감찰관', '경제자유구역위원회', '중요지표산출기관', '실무조정회의', '처우ㆍ징계위원회', '경제교육단체', '우체국예금특별회계', '공관장', '방송통신심의위원회', '국가시범도시지원단', '사학분쟁조정위원회', '군종장교운영심사위원회', '참모총장', '식품산업진흥심의회', '소방장비관리 공무원', '중앙심판원', '해양경찰기관', '심판관', '발행은행', '작전지휘관', '사법연수원', '국가건강검진위원회', '도로교통공단', '국방관서', '세입징수관', '계약상대방', '주채무자', '한국인터넷진흥원', '한국장학재단', '국가수자원관리위원회', '유료도로관리권자', '대한민국재외공관', '한국의료기기안전정보원', '보험료부과제도개선위원회', '방위사업청', '행정부 내 각급 기관', '데이터전문기관', '징발집행관', '중앙기록물관리기관', '과제담당관', '납북피해자보상및지원심의위원회', '에너지위원회', '보세판매장 제도운영위원회', '경제사회노동위원회', '중앙응급의료위원회', '국정원', '국가헌혈추진협의회', '건축허가관청', '국가공간정보위원회', '의료기관인증위원회', '디자인권자', '건강보험분쟁조정위원회', '관세청', '공무원연금공단', '지역특화작목위원회', '책임운영기관의 장', '중앙주소정보위원회', '국사편찬위원회', '중소기업은행', '한국보건의료인국가시험원', '운송수단의 장', '예금보험공사', '보훈심사위원회', '근로감독관', '업무를 인계ㆍ인수하는 사람', '보행환경정책연구센터', '검찰서기', '국립재활원', '발굴단', '순회점검 공무원'}\n",
            "개수: 563\n",
            "==================\n",
            "지방사무에만 존재\n",
            "주체: {'면허의 부여기관', '징수공무원', '시ㆍ군ㆍ구대책본부', '공원수탁관리자', '우리나라의 권한 있는 당국', '명예시장', '지역민방위협의회', '부구청장', '재생사업지구지정권자', '지방보조사업자', '시ㆍ도교육위원회', '지역발달장애인지원센터', '충청북도', '범칙사건조사공무원', '시·군·구의 관할 보건소', '시ㆍ도특수교육운영위원회', '법제심의위원회', '대장소관청', '제주특별자치도세관장', '시ㆍ군ㆍ구기록물관리기관', '시ㆍ도 안전관리위원회', '등기ㆍ등록관서', '예산성과금심사위원회', '시ㆍ도대책본부', '권한을 대행하는 사람', '현장지휘관', '시·도위원회', '정신건강심의위원회', '검정고시위원회', '통합지휘조정통제센터', '사학정비심사위원회', '지방자치단체의 금고', '지역환경보건위원회', '시ㆍ도교육과정정상화심의위원회', '시ㆍ도기록물관리기관', '시ㆍ군ㆍ구 통합방위협의회', '시ㆍ도 협의회', '어항관리청', '제주자치도경찰청', '지역인적자원개발협의회', '시ㆍ도주소정보위원회', '여수ㆍ순천 10ㆍ19사건진상규명및희생자명예회복실무위원회', '시ㆍ도 공공보건의료위원회', '중학교입학추첨관리위원회', '스마트도시사업협의회', '시ㆍ군ㆍ구긴급구조통제단', '학력심의위원회', '시ㆍ도 사회서비스원', '충청북도지사', '의료기관개설위원회', '사용신고관청', '구ㆍ시ㆍ읍ㆍ면', '지방탄소중립녹색성장위원회', '시ㆍ군ㆍ구주소정보위원회', '사업승인권자', '가축전염병피해보상협의회', '자치경찰인사위원회', '해안권발전공동협의회', '국가교육위원회', '지방자치단체의 인사위원회', '사무과', '공공시설을 관리하는 자', '한국주택금융공사', '시ㆍ도긴급구조통제단', '면허부여기관', '부군수', '해양수산인재개발원장', '수급자격심의위원회', '신청지방자치단체', '스마트도시기반시설의 관리청', '예치기관', '진단자문위원회', '전국적 협의체', '시ㆍ군ㆍ구특수교육운영위원회', '수렵장설정자', '공공하수도를 설치하고자 하는 자', '시ㆍ도심리지원단', '보건지소', '지방자치인재개발원 원장', '기금관리조합', '시ㆍ군ㆍ구 안전관리위원회', '시·군위원회', '긴급구조관련기관', '공공하수도를 설치하려는 자', '시ㆍ도선거관리위원회', '부단체장', '공공처리시설설치자', '지방직영기업의 관리자', '학교도서관발전위원회', '승진후보자 명부 작성단위 기관', '시ㆍ도응급의료위원회', '기초정신건강심의위원회', '학교안전공제회', '도시공원위원회', '시ㆍ도인사위원회'}\n",
            "개수: 95\n",
            "==================\n",
            "공동사무에만 존재\n",
            "주체: {'상수도사업소', '감사활동을 수행하는 사람', '공항개발사업시행자', '공원사무소', '국유재산 관리청', '기금수탁자', '안산시', '국공립 연구소', '비관리청', '교육책임자', '청원기관의 장', '경계변경협의체', '한국문화예술위원회 위원장', '승진대상자명부 작성기관', '평생교육시설의 설립자ㆍ경영자', '중앙재난안전대책본부의 본부장', '징계의결 요구권자', '전산관리지정기관', '교육관련기관의 장', '한국철도시설공단', '행정협의조정위원회', '댐수탁관리자', '민방위 경보 통제소', '사립학교를 설치ㆍ경영하는 자', '협의체ㆍ연합체의 대표자', '공직유관단체', '한국수자원공사 사장', '아동학대 신고의무자가 소속된 기관ㆍ시설 등', '영재교육기관', '씨름단체', '방제조치기관', '경영책임자', '인가관청', '공항시설관리자', '울산광역시'}\n",
            "개수: 35\n",
            "==================\n"
          ]
        }
      ],
      "source": [
        "set_country = set(subject_country)\n",
        "set_province = set(subject_province)\n",
        "set_both = set(subject_both)\n",
        "\n",
        "# 국가, 지방, 공동사무 모두에 존재하는 수행주체\n",
        "common_elements = set_country.intersection(set_province).intersection(set_both)\n",
        "\n",
        "# 국가사무에만 존재하는 수행주체\n",
        "unique_country = set_country - set_province - set_both\n",
        "\n",
        "# 지방사무에만 존재하는 수행주체\n",
        "unique_province = set_province - set_country - set_both\n",
        "\n",
        "# 공동사무에만 존재하는 수행주체\n",
        "unique_both = set_both - set_country - set_province\n",
        "\n",
        "# 결과 출력\n",
        "print('==================')\n",
        "print(\"국가, 지방, 공동 모두 존재\")\n",
        "print(\"주체:\", common_elements)\n",
        "print(\"개수:\",len(common_elements))\n",
        "print('==================')\n",
        "print(\"국가사무에만 존재\")\n",
        "print(\"주체:\", unique_country)\n",
        "print(\"개수:\",len(unique_country))\n",
        "print('==================')\n",
        "print(\"지방사무에만 존재\")\n",
        "print(\"주체:\", unique_province)\n",
        "print(\"개수:\",len(unique_province))\n",
        "print('==================')\n",
        "print(\"공동사무에만 존재\")\n",
        "print(\"주체:\", unique_both)\n",
        "print(\"개수:\",len(unique_both))\n",
        "print('==================')"
      ]
    },
    {
      "cell_type": "code",
      "execution_count": null,
      "metadata": {
        "id": "FnDp8MmUmlyG"
      },
      "outputs": [],
      "source": [
        "# '국가'사무에만 존재하는 수행주체\n",
        "df_1['수행주체_국가'] = df_1['조문'].apply(lambda x: sum(word in x for word in unique_country))\n",
        "# '지방' 사무에만 존재하는 수행주체\n",
        "df_1['수행주체_지방'] = df_1['조문'].apply(lambda x: sum(word in x for word in unique_province))\n",
        "# '공동' 사무에만 존재하는 수행주체\n",
        "df_1['수행주체_공동'] = df_1['조문'].apply(lambda x: sum(word in x for word in unique_both))"
      ]
    },
    {
      "cell_type": "code",
      "execution_count": null,
      "metadata": {
        "id": "VRkOUUSgpw3M"
      },
      "outputs": [],
      "source": [
        "# '국가' 사무에 들어있는 모든 수행주체\n",
        "df_1['수행주체_국가_교'] = df_1['조문'].apply(lambda x: sum(word in x for word in set_country))\n",
        "# '지방' 사무에 들어있는 모든 수행주체\n",
        "df_1['수행주체_지방_교'] = df_1['조문'].apply(lambda x: sum(word in x for word in set_province))\n",
        "# '공동' 사무에 들어있는 모든 수행주체\n",
        "df_1['수행주체_공동_교'] = df_1['조문'].apply(lambda x: sum(word in x for word in set_both))"
      ]
    },
    {
      "cell_type": "code",
      "execution_count": null,
      "metadata": {
        "colab": {
          "base_uri": "https://localhost:8080/"
        },
        "id": "kkTjYKUIpKRz",
        "outputId": "72662091-0cb2-4936-fede-5047153a1616"
      },
      "outputs": [
        {
          "data": {
            "text/plain": [
              "수행주체_국가_교    230786\n",
              "수행주체_지방_교    224007\n",
              "수행주체_공동_교    224662\n",
              "dtype: int64"
            ]
          },
          "execution_count": 45,
          "metadata": {},
          "output_type": "execute_result"
        }
      ],
      "source": [
        "df_1[['수행주체_국가_교', '수행주체_지방_교', '수행주체_공동_교']].sum()"
      ]
    },
    {
      "cell_type": "markdown",
      "metadata": {
        "id": "TeICVREEuxXs"
      },
      "source": [
        "### 3rd column 생성\n",
        "- '수행주체_국가n': 행별로 'new_수행주체'가 '국가사무'에서 언급된 횟수 sum\n",
        "- '수행주체_지방n': 행별로 'new_수행주체'가 '지방사무'에서 언급된 횟수 sum\n",
        "- '수행주체_공동n': 행별로 'new_수행주체'가 '공동사무'에서 언급된 횟수 sum"
      ]
    },
    {
      "cell_type": "code",
      "execution_count": null,
      "metadata": {
        "id": "MBgvyj8q_EmR"
      },
      "outputs": [],
      "source": [
        "# subject_dic 만들기\n",
        "subject_dic = {}\n",
        "for subject in subject_list:\n",
        "    count_country = df_country['조문'].str.contains(subject).sum()\n",
        "    count_province = df_province['조문'].str.contains(subject).sum()\n",
        "    count_both = df_both['조문'].str.contains(subject).sum()\n",
        "    subject_dic[subject] = [count_country, count_province, count_both]"
      ]
    },
    {
      "cell_type": "code",
      "execution_count": null,
      "metadata": {
        "id": "o1bJhmIAyofv"
      },
      "outputs": [],
      "source": [
        "df['수행주체_국가n'] = 0\n",
        "df['수행주체_지방n'] = 0\n",
        "df['수행주체_공동n'] = 0\n",
        "\n",
        "for i in tqdm(range(df.shape[0]), desc=\"Processing rows\"):\n",
        "    text = df.iloc[i, 5]\n",
        "    for subject in subject_list:\n",
        "        if subject in text:\n",
        "            df.at[i, '수행주체_국가n'] += subject_dic[subject][0]\n",
        "            df.at[i, '수행주체_지방n'] += subject_dic[subject][1]\n",
        "            df.at[i, '수행주체_공동n'] += subject_dic[subject][2]"
      ]
    },
    {
      "cell_type": "markdown",
      "metadata": {
        "id": "TlgjfRNHcP2Z"
      },
      "source": [
        "### 4th column 생성: 법령명"
      ]
    },
    {
      "cell_type": "code",
      "execution_count": null,
      "metadata": {
        "id": "6rOjRuW9cqJm"
      },
      "outputs": [],
      "source": [
        "pd.set_option('display.max_colwidth',None)\n",
        "pd.set_option('display.max_rows',None)"
      ]
    },
    {
      "cell_type": "code",
      "execution_count": null,
      "metadata": {
        "id": "ZAPjNNyxH63f"
      },
      "outputs": [],
      "source": [
        "# '시행규칙', '시행령' 제거\n",
        "df_1['법령명'] = df_1['법령명'].apply(lambda x: re.sub(r'\\s?시행령|\\s?시행규칙', '', x))"
      ]
    },
    {
      "cell_type": "code",
      "execution_count": null,
      "metadata": {
        "colab": {
          "base_uri": "https://localhost:8080/"
        },
        "id": "ZIULdfgXJv7q",
        "outputId": "0c764f6d-64fc-4f59-878c-1ed4f0a41f38"
      },
      "outputs": [
        {
          "data": {
            "text/plain": [
              "1950"
            ]
          },
          "execution_count": 15,
          "metadata": {},
          "output_type": "execute_result"
        }
      ],
      "source": [
        "df_1['법령명'].nunique()"
      ]
    },
    {
      "cell_type": "markdown",
      "metadata": {
        "id": "3ycqiFtVeQ6U"
      },
      "source": [
        "### 5th column 생성: 법령구분"
      ]
    },
    {
      "cell_type": "code",
      "execution_count": null,
      "metadata": {
        "colab": {
          "base_uri": "https://localhost:8080/",
          "height": 175
        },
        "id": "gFqOXzgDdTTv",
        "outputId": "23969b10-2941-47d6-96c9-c040d55b61db"
      },
      "outputs": [
        {
          "data": {
            "text/html": [
              "\n",
              "  <div id=\"df-0579fc65-2516-4015-8c24-fb91c2cb47dd\" class=\"colab-df-container\">\n",
              "    <div>\n",
              "<style scoped>\n",
              "    .dataframe tbody tr th:only-of-type {\n",
              "        vertical-align: middle;\n",
              "    }\n",
              "\n",
              "    .dataframe tbody tr th {\n",
              "        vertical-align: top;\n",
              "    }\n",
              "\n",
              "    .dataframe thead th {\n",
              "        text-align: right;\n",
              "    }\n",
              "</style>\n",
              "<table border=\"1\" class=\"dataframe\">\n",
              "  <thead>\n",
              "    <tr style=\"text-align: right;\">\n",
              "      <th>사무유형(대분류)</th>\n",
              "      <th>공동</th>\n",
              "      <th>국가</th>\n",
              "      <th>지방</th>\n",
              "    </tr>\n",
              "    <tr>\n",
              "      <th>법령구분</th>\n",
              "      <th></th>\n",
              "      <th></th>\n",
              "      <th></th>\n",
              "    </tr>\n",
              "  </thead>\n",
              "  <tbody>\n",
              "    <tr>\n",
              "      <th>1</th>\n",
              "      <td>5939</td>\n",
              "      <td>29751</td>\n",
              "      <td>7567</td>\n",
              "    </tr>\n",
              "    <tr>\n",
              "      <th>2</th>\n",
              "      <td>577</td>\n",
              "      <td>6293</td>\n",
              "      <td>1295</td>\n",
              "    </tr>\n",
              "    <tr>\n",
              "      <th>3</th>\n",
              "      <td>158</td>\n",
              "      <td>2443</td>\n",
              "      <td>523</td>\n",
              "    </tr>\n",
              "  </tbody>\n",
              "</table>\n",
              "</div>\n",
              "    <div class=\"colab-df-buttons\">\n",
              "\n",
              "  <div class=\"colab-df-container\">\n",
              "    <button class=\"colab-df-convert\" onclick=\"convertToInteractive('df-0579fc65-2516-4015-8c24-fb91c2cb47dd')\"\n",
              "            title=\"Convert this dataframe to an interactive table.\"\n",
              "            style=\"display:none;\">\n",
              "\n",
              "  <svg xmlns=\"http://www.w3.org/2000/svg\" height=\"24px\" viewBox=\"0 -960 960 960\">\n",
              "    <path d=\"M120-120v-720h720v720H120Zm60-500h600v-160H180v160Zm220 220h160v-160H400v160Zm0 220h160v-160H400v160ZM180-400h160v-160H180v160Zm440 0h160v-160H620v160ZM180-180h160v-160H180v160Zm440 0h160v-160H620v160Z\"/>\n",
              "  </svg>\n",
              "    </button>\n",
              "\n",
              "  <style>\n",
              "    .colab-df-container {\n",
              "      display:flex;\n",
              "      gap: 12px;\n",
              "    }\n",
              "\n",
              "    .colab-df-convert {\n",
              "      background-color: #E8F0FE;\n",
              "      border: none;\n",
              "      border-radius: 50%;\n",
              "      cursor: pointer;\n",
              "      display: none;\n",
              "      fill: #1967D2;\n",
              "      height: 32px;\n",
              "      padding: 0 0 0 0;\n",
              "      width: 32px;\n",
              "    }\n",
              "\n",
              "    .colab-df-convert:hover {\n",
              "      background-color: #E2EBFA;\n",
              "      box-shadow: 0px 1px 2px rgba(60, 64, 67, 0.3), 0px 1px 3px 1px rgba(60, 64, 67, 0.15);\n",
              "      fill: #174EA6;\n",
              "    }\n",
              "\n",
              "    .colab-df-buttons div {\n",
              "      margin-bottom: 4px;\n",
              "    }\n",
              "\n",
              "    [theme=dark] .colab-df-convert {\n",
              "      background-color: #3B4455;\n",
              "      fill: #D2E3FC;\n",
              "    }\n",
              "\n",
              "    [theme=dark] .colab-df-convert:hover {\n",
              "      background-color: #434B5C;\n",
              "      box-shadow: 0px 1px 3px 1px rgba(0, 0, 0, 0.15);\n",
              "      filter: drop-shadow(0px 1px 2px rgba(0, 0, 0, 0.3));\n",
              "      fill: #FFFFFF;\n",
              "    }\n",
              "  </style>\n",
              "\n",
              "    <script>\n",
              "      const buttonEl =\n",
              "        document.querySelector('#df-0579fc65-2516-4015-8c24-fb91c2cb47dd button.colab-df-convert');\n",
              "      buttonEl.style.display =\n",
              "        google.colab.kernel.accessAllowed ? 'block' : 'none';\n",
              "\n",
              "      async function convertToInteractive(key) {\n",
              "        const element = document.querySelector('#df-0579fc65-2516-4015-8c24-fb91c2cb47dd');\n",
              "        const dataTable =\n",
              "          await google.colab.kernel.invokeFunction('convertToInteractive',\n",
              "                                                    [key], {});\n",
              "        if (!dataTable) return;\n",
              "\n",
              "        const docLinkHtml = 'Like what you see? Visit the ' +\n",
              "          '<a target=\"_blank\" href=https://colab.research.google.com/notebooks/data_table.ipynb>data table notebook</a>'\n",
              "          + ' to learn more about interactive tables.';\n",
              "        element.innerHTML = '';\n",
              "        dataTable['output_type'] = 'display_data';\n",
              "        await google.colab.output.renderOutput(dataTable, element);\n",
              "        const docLink = document.createElement('div');\n",
              "        docLink.innerHTML = docLinkHtml;\n",
              "        element.appendChild(docLink);\n",
              "      }\n",
              "    </script>\n",
              "  </div>\n",
              "\n",
              "\n",
              "<div id=\"df-31361557-72ce-4af3-91d8-e4f16673c2fb\">\n",
              "  <button class=\"colab-df-quickchart\" onclick=\"quickchart('df-31361557-72ce-4af3-91d8-e4f16673c2fb')\"\n",
              "            title=\"Suggest charts\"\n",
              "            style=\"display:none;\">\n",
              "\n",
              "<svg xmlns=\"http://www.w3.org/2000/svg\" height=\"24px\"viewBox=\"0 0 24 24\"\n",
              "     width=\"24px\">\n",
              "    <g>\n",
              "        <path d=\"M19 3H5c-1.1 0-2 .9-2 2v14c0 1.1.9 2 2 2h14c1.1 0 2-.9 2-2V5c0-1.1-.9-2-2-2zM9 17H7v-7h2v7zm4 0h-2V7h2v10zm4 0h-2v-4h2v4z\"/>\n",
              "    </g>\n",
              "</svg>\n",
              "  </button>\n",
              "\n",
              "<style>\n",
              "  .colab-df-quickchart {\n",
              "      --bg-color: #E8F0FE;\n",
              "      --fill-color: #1967D2;\n",
              "      --hover-bg-color: #E2EBFA;\n",
              "      --hover-fill-color: #174EA6;\n",
              "      --disabled-fill-color: #AAA;\n",
              "      --disabled-bg-color: #DDD;\n",
              "  }\n",
              "\n",
              "  [theme=dark] .colab-df-quickchart {\n",
              "      --bg-color: #3B4455;\n",
              "      --fill-color: #D2E3FC;\n",
              "      --hover-bg-color: #434B5C;\n",
              "      --hover-fill-color: #FFFFFF;\n",
              "      --disabled-bg-color: #3B4455;\n",
              "      --disabled-fill-color: #666;\n",
              "  }\n",
              "\n",
              "  .colab-df-quickchart {\n",
              "    background-color: var(--bg-color);\n",
              "    border: none;\n",
              "    border-radius: 50%;\n",
              "    cursor: pointer;\n",
              "    display: none;\n",
              "    fill: var(--fill-color);\n",
              "    height: 32px;\n",
              "    padding: 0;\n",
              "    width: 32px;\n",
              "  }\n",
              "\n",
              "  .colab-df-quickchart:hover {\n",
              "    background-color: var(--hover-bg-color);\n",
              "    box-shadow: 0 1px 2px rgba(60, 64, 67, 0.3), 0 1px 3px 1px rgba(60, 64, 67, 0.15);\n",
              "    fill: var(--button-hover-fill-color);\n",
              "  }\n",
              "\n",
              "  .colab-df-quickchart-complete:disabled,\n",
              "  .colab-df-quickchart-complete:disabled:hover {\n",
              "    background-color: var(--disabled-bg-color);\n",
              "    fill: var(--disabled-fill-color);\n",
              "    box-shadow: none;\n",
              "  }\n",
              "\n",
              "  .colab-df-spinner {\n",
              "    border: 2px solid var(--fill-color);\n",
              "    border-color: transparent;\n",
              "    border-bottom-color: var(--fill-color);\n",
              "    animation:\n",
              "      spin 1s steps(1) infinite;\n",
              "  }\n",
              "\n",
              "  @keyframes spin {\n",
              "    0% {\n",
              "      border-color: transparent;\n",
              "      border-bottom-color: var(--fill-color);\n",
              "      border-left-color: var(--fill-color);\n",
              "    }\n",
              "    20% {\n",
              "      border-color: transparent;\n",
              "      border-left-color: var(--fill-color);\n",
              "      border-top-color: var(--fill-color);\n",
              "    }\n",
              "    30% {\n",
              "      border-color: transparent;\n",
              "      border-left-color: var(--fill-color);\n",
              "      border-top-color: var(--fill-color);\n",
              "      border-right-color: var(--fill-color);\n",
              "    }\n",
              "    40% {\n",
              "      border-color: transparent;\n",
              "      border-right-color: var(--fill-color);\n",
              "      border-top-color: var(--fill-color);\n",
              "    }\n",
              "    60% {\n",
              "      border-color: transparent;\n",
              "      border-right-color: var(--fill-color);\n",
              "    }\n",
              "    80% {\n",
              "      border-color: transparent;\n",
              "      border-right-color: var(--fill-color);\n",
              "      border-bottom-color: var(--fill-color);\n",
              "    }\n",
              "    90% {\n",
              "      border-color: transparent;\n",
              "      border-bottom-color: var(--fill-color);\n",
              "    }\n",
              "  }\n",
              "</style>\n",
              "\n",
              "  <script>\n",
              "    async function quickchart(key) {\n",
              "      const quickchartButtonEl =\n",
              "        document.querySelector('#' + key + ' button');\n",
              "      quickchartButtonEl.disabled = true;  // To prevent multiple clicks.\n",
              "      quickchartButtonEl.classList.add('colab-df-spinner');\n",
              "      try {\n",
              "        const charts = await google.colab.kernel.invokeFunction(\n",
              "            'suggestCharts', [key], {});\n",
              "      } catch (error) {\n",
              "        console.error('Error during call to suggestCharts:', error);\n",
              "      }\n",
              "      quickchartButtonEl.classList.remove('colab-df-spinner');\n",
              "      quickchartButtonEl.classList.add('colab-df-quickchart-complete');\n",
              "    }\n",
              "    (() => {\n",
              "      let quickchartButtonEl =\n",
              "        document.querySelector('#df-31361557-72ce-4af3-91d8-e4f16673c2fb button');\n",
              "      quickchartButtonEl.style.display =\n",
              "        google.colab.kernel.accessAllowed ? 'block' : 'none';\n",
              "    })();\n",
              "  </script>\n",
              "</div>\n",
              "\n",
              "    </div>\n",
              "  </div>\n"
            ],
            "text/plain": [
              "사무유형(대분류)    공동     국가    지방\n",
              "법령구분                        \n",
              "1          5939  29751  7567\n",
              "2           577   6293  1295\n",
              "3           158   2443   523"
            ]
          },
          "execution_count": 16,
          "metadata": {},
          "output_type": "execute_result"
        }
      ],
      "source": [
        "pd.crosstab(df_1['법령구분'], df_1['사무유형(대분류)'])"
      ]
    },
    {
      "cell_type": "markdown",
      "metadata": {
        "id": "pJF5r_gGK7on"
      },
      "source": [
        "## 2. 모델링"
      ]
    },
    {
      "cell_type": "markdown",
      "metadata": {
        "id": "GmeAMkTcLI9v"
      },
      "source": [
        "### 0) train-test split"
      ]
    },
    {
      "cell_type": "code",
      "execution_count": null,
      "metadata": {
        "id": "EnIV0QNtLStd"
      },
      "outputs": [],
      "source": [
        "from sklearn.model_selection import train_test_split\n",
        "from sklearn.model_selection import StratifiedShuffleSplit\n",
        "\n",
        "from sklearn.metrics import confusion_matrix\n",
        "from sklearn.ensemble import RandomForestClassifier\n",
        "from sklearn.metrics import classification_report\n",
        "from sklearn.metrics import accuracy_score, precision_score, recall_score, f1_score"
      ]
    },
    {
      "cell_type": "code",
      "execution_count": null,
      "metadata": {
        "id": "8EkmqWx3LQGz"
      },
      "outputs": [],
      "source": [
        "X = df_1[['법령명', '법령구분', '수행주체_freq1', '수행주체_freq2', '수행주체_freq3', '수행주체_국가', '수행주체_지방', '수행주체_공동', '수행주체_국가_교', '수행주체_지방_교', '수행주체_공동_교']]\n",
        "y = df_1['사무유형(대분류)']"
      ]
    },
    {
      "cell_type": "code",
      "execution_count": null,
      "metadata": {
        "id": "rP80BVwjLMLo"
      },
      "outputs": [],
      "source": [
        "stratified_splitter = StratifiedShuffleSplit(n_splits=1, test_size=0.2, random_state=42)\n",
        "\n",
        "for train_index, val_index in stratified_splitter.split(X, y):\n",
        "    X_train = X.iloc[train_index]\n",
        "    y_train = y.iloc[train_index]\n",
        "    X_test = X.iloc[val_index]\n",
        "    y_test = y.iloc[val_index]"
      ]
    },
    {
      "cell_type": "code",
      "execution_count": null,
      "metadata": {
        "colab": {
          "base_uri": "https://localhost:8080/"
        },
        "id": "6gPuoy89OHGD",
        "outputId": "28338b30-2809-4394-d32e-cf996056987c"
      },
      "outputs": [
        {
          "name": "stderr",
          "output_type": "stream",
          "text": [
            "<ipython-input-42-5ddf05ec193a>:3: SettingWithCopyWarning: \n",
            "A value is trying to be set on a copy of a slice from a DataFrame.\n",
            "Try using .loc[row_indexer,col_indexer] = value instead\n",
            "\n",
            "See the caveats in the documentation: https://pandas.pydata.org/pandas-docs/stable/user_guide/indexing.html#returning-a-view-versus-a-copy\n",
            "  X_train['법령명'] = encoder.fit_transform(X_train['법령명']) # train set에는 fit_transform\n",
            "<ipython-input-42-5ddf05ec193a>:9: SettingWithCopyWarning: \n",
            "A value is trying to be set on a copy of a slice from a DataFrame.\n",
            "Try using .loc[row_indexer,col_indexer] = value instead\n",
            "\n",
            "See the caveats in the documentation: https://pandas.pydata.org/pandas-docs/stable/user_guide/indexing.html#returning-a-view-versus-a-copy\n",
            "  X_test['법령명'] = encoder.transform(X_test['법령명']) # test set에는 transform\n"
          ]
        }
      ],
      "source": [
        "# '법령명' label encoding 진행\n",
        "encoder = LabelEncoder()\n",
        "X_train['법령명'] = encoder.fit_transform(X_train['법령명']) # train set에는 fit_transform\n",
        "\n",
        "for label in X_test['법령명']:\n",
        "    if label not in encoder.classes_:\n",
        "        encoder.classes_ = np.append(encoder.classes_,label)\n",
        "\n",
        "X_test['법령명'] = encoder.transform(X_test['법령명']) # test set에는 transform"
      ]
    },
    {
      "cell_type": "markdown",
      "metadata": {
        "id": "mMCVx4nLLFXo"
      },
      "source": [
        "### 1) random forest"
      ]
    },
    {
      "cell_type": "code",
      "execution_count": null,
      "metadata": {
        "colab": {
          "base_uri": "https://localhost:8080/",
          "height": 804
        },
        "id": "A68ppwd_K8bp",
        "outputId": "a517391c-ef62-4428-dce0-faddb0283967"
      },
      "outputs": [
        {
          "name": "stdout",
          "output_type": "stream",
          "text": [
            "[[0.         1.         0.        ]\n",
            " [0.13933333 0.86066667 0.        ]\n",
            " [0.         1.         0.        ]\n",
            " ...\n",
            " [0.44478175 0.41347672 0.14174154]\n",
            " [0.36       0.64       0.        ]\n",
            " [0.         0.74428571 0.25571429]]\n",
            "              precision    recall  f1-score   support\n",
            "\n",
            "          공동       0.53      0.48      0.50      1335\n",
            "          국가       0.88      0.89      0.89      7698\n",
            "          지방       0.65      0.64      0.65      1877\n",
            "\n",
            "    accuracy                           0.80     10910\n",
            "   macro avg       0.68      0.67      0.68     10910\n",
            "weighted avg       0.80      0.80      0.80     10910\n",
            "\n"
          ]
        },
        {
          "data": {
            "image/png": "[encoded data removed]",
            "text/plain": [
              "<Figure size 640x480 with 2 Axes>"
            ]
          },
          "metadata": {},
          "output_type": "display_data"
        }
      ],
      "source": [
        "# RandomForest Classifier\n",
        "model = RandomForestClassifier(random_state=42)\n",
        "model.fit(X_train, y_train)\n",
        "y_pred = model.predict(X_test)\n",
        "y_pred_proba = model.predict_proba(X_test)\n",
        "print(y_pred_proba)\n",
        "\n",
        "print(classification_report(y_test, y_pred))\n",
        "\n",
        "conf_matrix = confusion_matrix(y_test, y_pred)\n",
        "sns.heatmap(conf_matrix, annot=True, fmt=\"d\", cmap='Blues')\n",
        "plt.xlabel('Predicted Label')\n",
        "plt.ylabel('True Label')\n",
        "plt.title('Confusion Matrix')\n",
        "plt.show()"
      ]
    },
    {
      "cell_type": "code",
      "execution_count": null,
      "metadata": {
        "colab": {
          "base_uri": "https://localhost:8080/",
          "height": 563
        },
        "id": "ODrMDDy4iS7C",
        "outputId": "b77d7f89-54e1-42c6-86dc-8a00a3715686"
      },
      "outputs": [
        {
          "data": {
            "image/png": "[encoded data removed]",
            "text/plain": [
              "<Figure size 800x600 with 1 Axes>"
            ]
          },
          "metadata": {},
          "output_type": "display_data"
        }
      ],
      "source": [
        "importance = model.feature_importances_\n",
        "ser = pd.Series(importance, index = X.columns)\n",
        "\n",
        "# 가장 중요한 feature 순으로 정렬\n",
        "importance_sort = ser.sort_values(ascending=False)\n",
        "plt.figure(figsize=(8,6))\n",
        "plt.title('Feature Importances')\n",
        "sns.barplot(x=importance_sort, y=importance_sort.index)\n",
        "plt.show()"
      ]
    }
  ],
  "metadata": {
    "colab": {
      "provenance": []
    },
    "kernelspec": {
      "display_name": "Python 3",
      "name": "python3"
    },
    "language_info": {
      "name": "python"
    }
  },
  "nbformat": 4,
  "nbformat_minor": 0
}

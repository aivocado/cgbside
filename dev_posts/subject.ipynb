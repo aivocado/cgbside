{
 "cells": [
  {
   "cell_type": "markdown",
   "metadata": {},
   "source": [
    "# '조문'에서 수행주체 출력"
   ]
  },
  {
   "cell_type": "code",
   "execution_count": 2,
   "metadata": {},
   "outputs": [],
   "source": [
    "import pandas as pd\n",
    "import numpy as np\n",
    "import re\n",
    "from tqdm import tqdm\n",
    "import pickle"
   ]
  },
  {
   "cell_type": "code",
   "execution_count": 3,
   "metadata": {},
   "outputs": [],
   "source": [
    "tqdm.pandas()"
   ]
  },
  {
   "cell_type": "markdown",
   "metadata": {},
   "source": [
    "## 1. 수행주체를 list로 저장한 subject_list.pkl 로드"
   ]
  },
  {
   "cell_type": "code",
   "execution_count": 4,
   "metadata": {},
   "outputs": [],
   "source": [
    "with open(\"subject_list.pkl\",\"rb\") as f:\n",
    "    subject_list = pickle.load(f)"
   ]
  },
  {
   "cell_type": "code",
   "execution_count": 5,
   "metadata": {},
   "outputs": [
    {
     "data": {
      "text/plain": [
       "['대도시',\n",
       " '2023 순천만국제정원박람회조직위원회',\n",
       " '5·18민주화운동 진상규명조사위원회',\n",
       " '계약담당자',\n",
       " '대검찰청',\n",
       " '대한민국법인',\n",
       " '가석방심사위원회',\n",
       " '가정보호사건조사관',\n",
       " '가정위탁지원센터',\n",
       " '가축방역기관장',\n",
       " '가축병성감정실시기관',\n",
       " '가축전염병피해보상협의회',\n",
       " '기관',\n",
       " '본부',\n",
       " '부대',\n",
       " '학교',\n",
       " '장관',\n",
       " '간사',\n",
       " '갈등관리심의위원회',\n",
       " '감독기관',\n",
       " '감독청',\n",
       " '감사',\n",
       " '감사관',\n",
       " '감사원',\n",
       " '감사위원회',\n",
       " '감사활동을 수행하는 사람',\n",
       " '감염병관리위원회',\n",
       " '감염병병원체 확인기관',\n",
       " '감정평가법인',\n",
       " '감항인증심의위원회',\n",
       " '개발센터',\n",
       " '개발원',\n",
       " '갱생보호회지소장',\n",
       " '거래소',\n",
       " '거주자',\n",
       " '건강보험공단',\n",
       " '건강보험분쟁조정위원회',\n",
       " '건강보험심사평가원',\n",
       " '건설기계사업자설립협회',\n",
       " '건설사업자',\n",
       " '건설엔지니어링사업자',\n",
       " '건설청',\n",
       " '건축위원회',\n",
       " '건축주',\n",
       " '건축허가관청',\n",
       " '검사',\n",
       " '검사공무원',\n",
       " '검사위원회',\n",
       " '검역기관',\n",
       " '검역본부']"
      ]
     },
     "execution_count": 5,
     "metadata": {},
     "output_type": "execute_result"
    }
   ],
   "source": [
    "subject_list[:50]"
   ]
  },
  {
   "cell_type": "code",
   "execution_count": 4,
   "metadata": {},
   "outputs": [
    {
     "name": "stderr",
     "output_type": "stream",
     "text": [
      "/var/folders/sy/5dw5r1ys5fdb3h0gbq8x0g6m0000gn/T/ipykernel_67754/4038033726.py:1: DtypeWarning: Columns (4,5,18,19,24) have mixed types. Specify dtype option on import or set low_memory=False.\n",
      "  df = pd.read_csv('BaseTable4.csv')\n"
     ]
    }
   ],
   "source": [
    "df = pd.read_csv('BaseTable4.csv')"
   ]
  },
  {
   "cell_type": "markdown",
   "metadata": {},
   "source": [
    "## 2. 'BaseTable4'의 '조문'에서 수행주체 뽑아내기"
   ]
  },
  {
   "cell_type": "code",
   "execution_count": 17,
   "metadata": {},
   "outputs": [],
   "source": [
    "# \"조문\"이 결측치인 행 제거\n",
    "df['조문'] = df['조문'].apply(lambda x: '' if pd.isna(x) else str(x))"
   ]
  },
  {
   "cell_type": "code",
   "execution_count": 18,
   "metadata": {},
   "outputs": [
    {
     "name": "stderr",
     "output_type": "stream",
     "text": [
      "100%|██████████| 861621/861621 [1:26:37<00:00, 165.79it/s]\n"
     ]
    }
   ],
   "source": [
    "# 수행주체 앞에 붙을 수 있는 단어\n",
    "prefixes = ['각 목의', '각급', '각군', '각부', '각종', '관계', '관할', '소관', '소속', '해당']\n",
    "\n",
    "# 수행주체 뒤에 붙을 수 있는 단어\n",
    "suffixes = ['의 장', '장', '의 위원장', '총장', '장관', '위원장', '이 아닌 자', '이사장', '의장',\n",
    "            '시장', '회장', '의 의장', '의 본부장', '의 원장', '회장', '등의 장']\n",
    "\n",
    "# \"수행주체 앞에 붙을 수 있는 단어 + 수행주체 + 수행주체 뒤에 붙을 수 있는 단어\" 미리 붙여서 후보 만들어놓기\n",
    "compiled_patterns = []\n",
    "for subject in subject_list:\n",
    "    pattern_list = [re.escape(prefix) + r\"\\s*\" + re.escape(subject) + r\"\\s*\" for prefix in prefixes]\n",
    "    pattern_list += [re.escape(subject) + r\"\\s*\" + re.escape(suffix) + r\"\\s*\" for suffix in suffixes]\n",
    "    pattern_list.append(re.escape(subject))\n",
    "    compiled_patterns += [re.compile(pattern) for pattern in pattern_list]\n",
    "\n",
    "def find_subjects_in_text(text):\n",
    "    subjects_found = set()\n",
    "\n",
    "    for pattern in compiled_patterns:\n",
    "        match = pattern.search(text)\n",
    "        if match:\n",
    "            found_subject = ' '.join(match.group().split())  # 공백 정규화\n",
    "            subjects_found.add(found_subject)\n",
    "\n",
    "    # 더 긴 주체가 포함하는 짧은 주체 제거\n",
    "    for subject1 in list(subjects_found):\n",
    "        for subject2 in list(subjects_found):\n",
    "            if subject1 != subject2 and subject1 in subject2:\n",
    "                subjects_found.discard(subject1)\n",
    "\n",
    "    return ', '.join(subjects_found)\n",
    "\n",
    "# 'new_수행주체' 열 생성\n",
    "df['new_수행주체'] = df['조문'].progress_apply(find_subjects_in_text)"
   ]
  },
  {
   "cell_type": "code",
   "execution_count": 23,
   "metadata": {},
   "outputs": [],
   "source": [
    "# 수행주체 추가하여 basetable 생성\n",
    "df.to_csv('BaseTable4_new_수행주체추가.csv')"
   ]
  },
  {
   "cell_type": "markdown",
   "metadata": {},
   "source": [
    "## 3. BaseTable4_new_수행주체추가.csv 살펴보기"
   ]
  },
  {
   "cell_type": "code",
   "execution_count": 3,
   "metadata": {},
   "outputs": [
    {
     "name": "stderr",
     "output_type": "stream",
     "text": [
      "/var/folders/sy/5dw5r1ys5fdb3h0gbq8x0g6m0000gn/T/ipykernel_84304/2884985943.py:1: DtypeWarning: Columns (5,6,19,20,25) have mixed types. Specify dtype option on import or set low_memory=False.\n",
      "  df_add_subject = pd.read_csv('BaseTable4_new_수행주체추가.csv')\n"
     ]
    }
   ],
   "source": [
    "df_add_subject = pd.read_csv('BaseTable4_new_수행주체추가.csv')"
   ]
  },
  {
   "cell_type": "code",
   "execution_count": 7,
   "metadata": {},
   "outputs": [
    {
     "data": {
      "text/html": [
       "<div>\n",
       "<style scoped>\n",
       "    .dataframe tbody tr th:only-of-type {\n",
       "        vertical-align: middle;\n",
       "    }\n",
       "\n",
       "    .dataframe tbody tr th {\n",
       "        vertical-align: top;\n",
       "    }\n",
       "\n",
       "    .dataframe thead th {\n",
       "        text-align: right;\n",
       "    }\n",
       "</style>\n",
       "<table border=\"1\" class=\"dataframe\">\n",
       "  <thead>\n",
       "    <tr style=\"text-align: right;\">\n",
       "      <th></th>\n",
       "      <th>조문</th>\n",
       "      <th>수행주체</th>\n",
       "      <th>new_수행주체</th>\n",
       "    </tr>\n",
       "  </thead>\n",
       "  <tbody>\n",
       "    <tr>\n",
       "      <th>35</th>\n",
       "      <td>① 개인정보 보호에 관한 사무를 독립적으로 수행하기 위하여 국무총리 소속으로 개인정...</td>\n",
       "      <td>국무총리</td>\n",
       "      <td>국무총리, 보호위원회</td>\n",
       "    </tr>\n",
       "    <tr>\n",
       "      <th>92</th>\n",
       "      <td>① 보호위원회는 다음 각 호의 사항을 심의ㆍ의결한다.</td>\n",
       "      <td>보호위원회</td>\n",
       "      <td>보호위원회</td>\n",
       "    </tr>\n",
       "    <tr>\n",
       "      <th>137</th>\n",
       "      <td>① 중앙행정기관의 장은 소관 법령의 제정 또는 개정을 통하여 개인정보 처리를 수반하...</td>\n",
       "      <td>중앙행정기관의 장</td>\n",
       "      <td>중앙행정기관의 장, 보호위원회</td>\n",
       "    </tr>\n",
       "    <tr>\n",
       "      <th>141</th>\n",
       "      <td>① 보호위원회는 개인정보의 보호와 정보주체의 권익 보장을 위하여 3년마다 개인정보 ...</td>\n",
       "      <td>보호위원회</td>\n",
       "      <td>중앙행정기관의 장, 관계 중앙행정기관, 보호위원회</td>\n",
       "    </tr>\n",
       "    <tr>\n",
       "      <th>152</th>\n",
       "      <td>① 중앙행정기관의 장은 기본계획에 따라 매년 개인정보 보호를 위한 시행계획을 작성하...</td>\n",
       "      <td>중앙행정기관의 장</td>\n",
       "      <td>중앙행정기관의 장, 보호위원회</td>\n",
       "    </tr>\n",
       "    <tr>\n",
       "      <th>...</th>\n",
       "      <td>...</td>\n",
       "      <td>...</td>\n",
       "      <td>...</td>\n",
       "    </tr>\n",
       "    <tr>\n",
       "      <th>860705</th>\n",
       "      <td>⑤제1항부터 제4항까지의 규정에 따른 과태료는 대통령령으로 정하는 바에 따라 환경부...</td>\n",
       "      <td>환경부장관</td>\n",
       "      <td>군수, 시장, 구청장, 환경부장관, 대통령, 시ㆍ도지사</td>\n",
       "    </tr>\n",
       "    <tr>\n",
       "      <th>860754</th>\n",
       "      <td>① 환경부장관은 제11조에 따라 상수원보호구역을 지정하거나 변경하려는 경우에는 주민...</td>\n",
       "      <td>환경부장관</td>\n",
       "      <td>환경부장관</td>\n",
       "    </tr>\n",
       "    <tr>\n",
       "      <th>861016</th>\n",
       "      <td>④위탁심의위원회의 위원은 다음 각 호의 자 중에서 일반수도사업자가 위촉한다. 이 경...</td>\n",
       "      <td>일반수도사업자(지방자치단체 등)</td>\n",
       "      <td>일반수도사업자, 심의위원회</td>\n",
       "    </tr>\n",
       "    <tr>\n",
       "      <th>861208</th>\n",
       "      <td>①환경부장관은 협회의 업무를 감독한다.</td>\n",
       "      <td>환경부장관</td>\n",
       "      <td>협회, 환경부장관</td>\n",
       "    </tr>\n",
       "    <tr>\n",
       "      <th>861214</th>\n",
       "      <td>①환경부장관은 정수장의 안전관리체제를 확립하기 위하여 정수장의 운영 및 시설관리상태...</td>\n",
       "      <td>환경부장관</td>\n",
       "      <td>환경부장관, 관리</td>\n",
       "    </tr>\n",
       "  </tbody>\n",
       "</table>\n",
       "<p>59270 rows × 3 columns</p>\n",
       "</div>"
      ],
      "text/plain": [
       "                                                       조문               수행주체  \\\n",
       "35      ① 개인정보 보호에 관한 사무를 독립적으로 수행하기 위하여 국무총리 소속으로 개인정...               국무총리   \n",
       "92                          ① 보호위원회는 다음 각 호의 사항을 심의ㆍ의결한다.              보호위원회   \n",
       "137     ① 중앙행정기관의 장은 소관 법령의 제정 또는 개정을 통하여 개인정보 처리를 수반하...          중앙행정기관의 장   \n",
       "141     ① 보호위원회는 개인정보의 보호와 정보주체의 권익 보장을 위하여 3년마다 개인정보 ...              보호위원회   \n",
       "152     ① 중앙행정기관의 장은 기본계획에 따라 매년 개인정보 보호를 위한 시행계획을 작성하...          중앙행정기관의 장   \n",
       "...                                                   ...                ...   \n",
       "860705  ⑤제1항부터 제4항까지의 규정에 따른 과태료는 대통령령으로 정하는 바에 따라 환경부...              환경부장관   \n",
       "860754  ① 환경부장관은 제11조에 따라 상수원보호구역을 지정하거나 변경하려는 경우에는 주민...              환경부장관   \n",
       "861016  ④위탁심의위원회의 위원은 다음 각 호의 자 중에서 일반수도사업자가 위촉한다. 이 경...  일반수도사업자(지방자치단체 등)   \n",
       "861208                              ①환경부장관은 협회의 업무를 감독한다.              환경부장관   \n",
       "861214  ①환경부장관은 정수장의 안전관리체제를 확립하기 위하여 정수장의 운영 및 시설관리상태...              환경부장관   \n",
       "\n",
       "                              new_수행주체  \n",
       "35                         국무총리, 보호위원회  \n",
       "92                               보호위원회  \n",
       "137                   중앙행정기관의 장, 보호위원회  \n",
       "141        중앙행정기관의 장, 관계 중앙행정기관, 보호위원회  \n",
       "152                   중앙행정기관의 장, 보호위원회  \n",
       "...                                ...  \n",
       "860705  군수, 시장, 구청장, 환경부장관, 대통령, 시ㆍ도지사  \n",
       "860754                           환경부장관  \n",
       "861016                  일반수도사업자, 심의위원회  \n",
       "861208                       협회, 환경부장관  \n",
       "861214                       환경부장관, 관리  \n",
       "\n",
       "[59270 rows x 3 columns]"
      ]
     },
     "execution_count": 7,
     "metadata": {},
     "output_type": "execute_result"
    }
   ],
   "source": [
    "df_add_subject[(df_add_subject['new_수행주체'].notnull()) & (df_add_subject['수행주체'].notnull())][['조문', '수행주체', 'new_수행주체']]"
   ]
  },
  {
   "cell_type": "code",
   "execution_count": 9,
   "metadata": {},
   "outputs": [
    {
     "data": {
      "text/html": [
       "<div>\n",
       "<style scoped>\n",
       "    .dataframe tbody tr th:only-of-type {\n",
       "        vertical-align: middle;\n",
       "    }\n",
       "\n",
       "    .dataframe tbody tr th {\n",
       "        vertical-align: top;\n",
       "    }\n",
       "\n",
       "    .dataframe thead th {\n",
       "        text-align: right;\n",
       "    }\n",
       "</style>\n",
       "<table border=\"1\" class=\"dataframe\">\n",
       "  <thead>\n",
       "    <tr style=\"text-align: right;\">\n",
       "      <th>new_수행주체</th>\n",
       "      <th>False</th>\n",
       "      <th>True</th>\n",
       "    </tr>\n",
       "    <tr>\n",
       "      <th>수행주체</th>\n",
       "      <th></th>\n",
       "      <th></th>\n",
       "    </tr>\n",
       "  </thead>\n",
       "  <tbody>\n",
       "    <tr>\n",
       "      <th>False</th>\n",
       "      <td>410651</td>\n",
       "      <td>390904</td>\n",
       "    </tr>\n",
       "    <tr>\n",
       "      <th>True</th>\n",
       "      <td>796</td>\n",
       "      <td>59270</td>\n",
       "    </tr>\n",
       "  </tbody>\n",
       "</table>\n",
       "</div>"
      ],
      "text/plain": [
       "new_수행주체   False   True \n",
       "수행주체                    \n",
       "False     410651  390904\n",
       "True         796   59270"
      ]
     },
     "execution_count": 9,
     "metadata": {},
     "output_type": "execute_result"
    }
   ],
   "source": [
    "# '수행주체'열과 조문에서 출력한 'new_수행주체'열 비교\n",
    "pd.crosstab(df_add_subject['수행주체'].notnull(), df_add_subject['new_수행주체'].notnull())"
   ]
  },
  {
   "cell_type": "markdown",
   "metadata": {},
   "source": [
    "[결과 분석] <br/>\n",
    "- 원 데이터에서는 '수행주체' 없는데, 위의 코드를 통해 'new_수행주체' 출력된 행: 390904개 <br/>\n",
    "- 원 데이터에서는 '수행주체' 있는데, 위의 코드를 통해 'new_수행주체' 출력되지 않은 행: 796개 <br/>\n",
    "⇨ 총 391,700개"
   ]
  },
  {
   "cell_type": "markdown",
   "metadata": {},
   "source": []
  }
 ],
 "metadata": {
  "kernelspec": {
   "display_name": "base",
   "language": "python",
   "name": "python3"
  },
  "language_info": {
   "codemirror_mode": {
    "name": "ipython",
    "version": 3
   },
   "file_extension": ".py",
   "mimetype": "text/x-python",
   "name": "python",
   "nbconvert_exporter": "python",
   "pygments_lexer": "ipython3",
   "version": "3.10.9"
  }
 },
 "nbformat": 4,
 "nbformat_minor": 2
}

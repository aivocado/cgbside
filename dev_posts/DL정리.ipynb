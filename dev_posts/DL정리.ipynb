{
 "cells": [
  {
   "cell_type": "markdown",
   "metadata": {},
   "source": [
    "# 딥러닝 코드 정리"
   ]
  },
  {
   "cell_type": "code",
   "execution_count": 1,
   "metadata": {
    "colab": {
     "base_uri": "https://localhost:8080/"
    },
    "executionInfo": {
     "elapsed": 18859,
     "status": "ok",
     "timestamp": 1701734715243,
     "user": {
      "displayName": "HJ Lee",
      "userId": "09009971054498894371"
     },
     "user_tz": -540
    },
    "id": "9w7c0Soj1ChQ",
    "outputId": "347420a5-442d-45b8-9fa8-04ae849422d8"
   },
   "outputs": [],
   "source": [
    "# from google.colab import drive\n",
    "# drive.mount('/content/drive')"
   ]
  },
  {
   "cell_type": "code",
   "execution_count": 2,
   "metadata": {
    "colab": {
     "base_uri": "https://localhost:8080/"
    },
    "executionInfo": {
     "elapsed": 6,
     "status": "ok",
     "timestamp": 1701734715244,
     "user": {
      "displayName": "HJ Lee",
      "userId": "09009971054498894371"
     },
     "user_tz": -540
    },
    "id": "yV2b2LA41Du7",
    "outputId": "a233740a-fde9-4890-cfc9-6270124726b4"
   },
   "outputs": [],
   "source": [
    "# cd /content/drive/MyDrive/Colab Notebooks/법령프로젝트"
   ]
  },
  {
   "cell_type": "code",
   "execution_count": 3,
   "metadata": {
    "executionInfo": {
     "elapsed": 3,
     "status": "ok",
     "timestamp": 1701734715244,
     "user": {
      "displayName": "HJ Lee",
      "userId": "09009971054498894371"
     },
     "user_tz": -540
    },
    "id": "_S8dTb5JaNow"
   },
   "outputs": [],
   "source": [
    "import os\n",
    "os.environ['CUDA_LAUNCH_BLOCKING'] = '1'"
   ]
  },
  {
   "cell_type": "code",
   "execution_count": 4,
   "metadata": {
    "executionInfo": {
     "elapsed": 16522,
     "status": "ok",
     "timestamp": 1701734731763,
     "user": {
      "displayName": "HJ Lee",
      "userId": "09009971054498894371"
     },
     "user_tz": -540
    },
    "id": "CK6WhusZoXrC"
   },
   "outputs": [],
   "source": [
    "import pandas as pd\n",
    "import numpy as np\n",
    "import torch\n",
    "import torch.nn as nn\n",
    "from torch.utils.data import Dataset, DataLoader\n",
    "from transformers import AutoModelForSequenceClassification, AutoTokenizer, AdamW, get_linear_schedule_with_warmup\n",
    "from sklearn.model_selection import train_test_split\n",
    "import matplotlib.pyplot as plt\n",
    "from tqdm import tqdm"
   ]
  },
  {
   "cell_type": "markdown",
   "metadata": {},
   "source": [
    "# 1. 데이터 불러오기"
   ]
  },
  {
   "cell_type": "code",
   "execution_count": 5,
   "metadata": {
    "colab": {
     "base_uri": "https://localhost:8080/"
    },
    "executionInfo": {
     "elapsed": 31045,
     "status": "ok",
     "timestamp": 1701734775006,
     "user": {
      "displayName": "HJ Lee",
      "userId": "09009971054498894371"
     },
     "user_tz": -540
    },
    "id": "HNzVchjYoeJy",
    "outputId": "78d82f5f-f05b-447b-f191-33df22ff0f18"
   },
   "outputs": [
    {
     "name": "stderr",
     "output_type": "stream",
     "text": [
      "/var/folders/zr/_f1rgf8n0w3541q9k8p3smhr0000gn/T/ipykernel_99576/3148388814.py:1: DtypeWarning: Columns (5,6,14,17,18,19,20,25) have mixed types. Specify dtype option on import or set low_memory=False.\n",
      "  df = pd.read_csv('BaseTable3.csv')\n"
     ]
    },
    {
     "name": "stdout",
     "output_type": "stream",
     "text": [
      "<class 'pandas.core.frame.DataFrame'>\n",
      "RangeIndex: 861621 entries, 0 to 861620\n",
      "Data columns (total 27 columns):\n",
      " #   Column      Non-Null Count   Dtype  \n",
      "---  ------      --------------   -----  \n",
      " 0   Unnamed: 0  861621 non-null  int64  \n",
      " 1   소관부처명       861621 non-null  object \n",
      " 2   법령명         861621 non-null  object \n",
      " 3   법령구분        861621 non-null  int64  \n",
      " 4   조번호         861040 non-null  object \n",
      " 5   항번호         666508 non-null  object \n",
      " 6   호번호         504872 non-null  object \n",
      " 7   조문제목        861621 non-null  object \n",
      " 8   조문          861621 non-null  object \n",
      " 9   사무판단        861621 non-null  int64  \n",
      " 10  사무판단근거      700807 non-null  object \n",
      " 11  사무명         60065 non-null   object \n",
      " 12  수행주체        60066 non-null   object \n",
      " 13  사무유형        60023 non-null   object \n",
      " 14  위임사무판단      761041 non-null  object \n",
      " 15  위임근거규정      5290 non-null    object \n",
      " 16  수임기관        4396 non-null    object \n",
      " 17  특행기관        93064 non-null   object \n",
      " 18  재위임사무판단     702423 non-null  object \n",
      " 19  재위임근거규정     53 non-null      object \n",
      " 20  재수임기관       13 non-null      object \n",
      " 21  위탁사무판단      758605 non-null  float64\n",
      " 22  위탁근거규정      3969 non-null    object \n",
      " 23  수탁기관        3942 non-null    object \n",
      " 24  사무유형(소분류)   60023 non-null   object \n",
      " 25  기타          3 non-null       object \n",
      " 26  조문_명_동      861621 non-null  object \n",
      "dtypes: float64(1), int64(3), object(23)\n",
      "memory usage: 177.5+ MB\n"
     ]
    }
   ],
   "source": [
    "df = pd.read_csv('BaseTable3.csv')\n",
    "df.info()"
   ]
  },
  {
   "cell_type": "code",
   "execution_count": 6,
   "metadata": {
    "colab": {
     "base_uri": "https://localhost:8080/"
    },
    "executionInfo": {
     "elapsed": 2,
     "status": "ok",
     "timestamp": 1701734775006,
     "user": {
      "displayName": "HJ Lee",
      "userId": "09009971054498894371"
     },
     "user_tz": -540
    },
    "id": "egykYP8aohQV",
    "outputId": "afdb4632-e384-4d8b-9032-d6b595691e41"
   },
   "outputs": [
    {
     "data": {
      "text/plain": [
       "device(type='cpu')"
      ]
     },
     "execution_count": 6,
     "metadata": {},
     "output_type": "execute_result"
    }
   ],
   "source": [
    "device = torch.device('cuda') if torch.cuda.is_available() else torch.device('cpu')    # GPU 사용\n",
    "device"
   ]
  },
  {
   "cell_type": "markdown",
   "metadata": {},
   "source": [
    "## 1) [조문, 사무판단] 추출"
   ]
  },
  {
   "cell_type": "code",
   "execution_count": 7,
   "metadata": {
    "colab": {
     "base_uri": "https://localhost:8080/",
     "height": 424
    },
    "executionInfo": {
     "elapsed": 762,
     "status": "ok",
     "timestamp": 1701734775767,
     "user": {
      "displayName": "HJ Lee",
      "userId": "09009971054498894371"
     },
     "user_tz": -540
    },
    "id": "8V8eGNV7omfZ",
    "outputId": "3cbd7c10-36e0-42fc-aa3f-d356383d1a1e"
   },
   "outputs": [
    {
     "data": {
      "text/html": [
       "<div>\n",
       "<style scoped>\n",
       "    .dataframe tbody tr th:only-of-type {\n",
       "        vertical-align: middle;\n",
       "    }\n",
       "\n",
       "    .dataframe tbody tr th {\n",
       "        vertical-align: top;\n",
       "    }\n",
       "\n",
       "    .dataframe thead th {\n",
       "        text-align: right;\n",
       "    }\n",
       "</style>\n",
       "<table border=\"1\" class=\"dataframe\">\n",
       "  <thead>\n",
       "    <tr style=\"text-align: right;\">\n",
       "      <th></th>\n",
       "      <th>조문</th>\n",
       "      <th>사무판단</th>\n",
       "    </tr>\n",
       "  </thead>\n",
       "  <tbody>\n",
       "    <tr>\n",
       "      <th>0</th>\n",
       "      <td>제1장 총칙</td>\n",
       "      <td>0</td>\n",
       "    </tr>\n",
       "    <tr>\n",
       "      <th>1</th>\n",
       "      <td>제1조(목적) 이 법은 개인정보의 처리 및 보호에 관한 사항을 정함으로써 개인의 자...</td>\n",
       "      <td>0</td>\n",
       "    </tr>\n",
       "    <tr>\n",
       "      <th>2</th>\n",
       "      <td>제2조(정의) 이 법에서 사용하는 용어의 뜻은 다음과 같다. &lt;개정 2014.3.2...</td>\n",
       "      <td>0</td>\n",
       "    </tr>\n",
       "    <tr>\n",
       "      <th>3</th>\n",
       "      <td>1. \"개인정보\"란 살아 있는 개인에 관한 정보로서 다음 각 목의 어느 하나에 해당...</td>\n",
       "      <td>0</td>\n",
       "    </tr>\n",
       "    <tr>\n",
       "      <th>4</th>\n",
       "      <td>1의2. \"가명처리\"란 개인정보의 일부를 삭제하거나 일부 또는 전부를 대체하는 등의...</td>\n",
       "      <td>0</td>\n",
       "    </tr>\n",
       "    <tr>\n",
       "      <th>...</th>\n",
       "      <td>...</td>\n",
       "      <td>...</td>\n",
       "    </tr>\n",
       "    <tr>\n",
       "      <th>861616</th>\n",
       "      <td>1. 한국수자원공사</td>\n",
       "      <td>0</td>\n",
       "    </tr>\n",
       "    <tr>\n",
       "      <th>861617</th>\n",
       "      <td>2. 법 제56조에 따른 한국상하수도협회</td>\n",
       "      <td>0</td>\n",
       "    </tr>\n",
       "    <tr>\n",
       "      <th>861618</th>\n",
       "      <td>제32조(규제의 재검토) 환경부장관은 다음 각 호의 사항에 대하여 다음 각 호의 기...</td>\n",
       "      <td>0</td>\n",
       "    </tr>\n",
       "    <tr>\n",
       "      <th>861619</th>\n",
       "      <td>1. 제23조의2제1항ㆍ제4항 및 별표 7의2에 따른 저수조청소업의 인력ㆍ시설 및 ...</td>\n",
       "      <td>0</td>\n",
       "    </tr>\n",
       "    <tr>\n",
       "      <th>861620</th>\n",
       "      <td>2. 제31조 및 별표 8에 따른 기술진단 대행 기관의 장비와 기술인력: 2014년...</td>\n",
       "      <td>0</td>\n",
       "    </tr>\n",
       "  </tbody>\n",
       "</table>\n",
       "<p>861621 rows × 2 columns</p>\n",
       "</div>"
      ],
      "text/plain": [
       "                                                       조문  사무판단\n",
       "0                                                  제1장 총칙     0\n",
       "1       제1조(목적) 이 법은 개인정보의 처리 및 보호에 관한 사항을 정함으로써 개인의 자...     0\n",
       "2       제2조(정의) 이 법에서 사용하는 용어의 뜻은 다음과 같다. <개정 2014.3.2...     0\n",
       "3       1. \"개인정보\"란 살아 있는 개인에 관한 정보로서 다음 각 목의 어느 하나에 해당...     0\n",
       "4       1의2. \"가명처리\"란 개인정보의 일부를 삭제하거나 일부 또는 전부를 대체하는 등의...     0\n",
       "...                                                   ...   ...\n",
       "861616                                         1. 한국수자원공사     0\n",
       "861617                             2. 법 제56조에 따른 한국상하수도협회     0\n",
       "861618  제32조(규제의 재검토) 환경부장관은 다음 각 호의 사항에 대하여 다음 각 호의 기...     0\n",
       "861619  1. 제23조의2제1항ㆍ제4항 및 별표 7의2에 따른 저수조청소업의 인력ㆍ시설 및 ...     0\n",
       "861620  2. 제31조 및 별표 8에 따른 기술진단 대행 기관의 장비와 기술인력: 2014년...     0\n",
       "\n",
       "[861621 rows x 2 columns]"
      ]
     },
     "execution_count": 7,
     "metadata": {},
     "output_type": "execute_result"
    }
   ],
   "source": [
    "sub_df = df.loc[df['사무판단']!=2, [\"조문\", \"사무판단\"]]\n",
    "sub_df"
   ]
  },
  {
   "cell_type": "code",
   "execution_count": 8,
   "metadata": {
    "executionInfo": {
     "elapsed": 8,
     "status": "aborted",
     "timestamp": 1701734732156,
     "user": {
      "displayName": "HJ Lee",
      "userId": "09009971054498894371"
     },
     "user_tz": -540
    },
    "id": "XfifP09dGb1C"
   },
   "outputs": [],
   "source": [
    "#sub_df.to_csv('sub_df.csv')      # 임시 저장"
   ]
  },
  {
   "cell_type": "markdown",
   "metadata": {
    "id": "7gTXTDBjpRnV"
   },
   "source": [
    "# 2. 데이터 분리\n",
    "* label이 모집단과 동일한 비율로 분리되도록 설정"
   ]
  },
  {
   "cell_type": "code",
   "execution_count": 9,
   "metadata": {
    "executionInfo": {
     "elapsed": 532,
     "status": "ok",
     "timestamp": 1701734776296,
     "user": {
      "displayName": "HJ Lee",
      "userId": "09009971054498894371"
     },
     "user_tz": -540
    },
    "id": "WeBwyAQhpMLw"
   },
   "outputs": [],
   "source": [
    "from sklearn.model_selection import StratifiedShuffleSplit\n",
    "\n",
    "# StratifiedShuffleSplit을 사용하여 데이터를 분리\n",
    "stratified_splitter = StratifiedShuffleSplit(n_splits=1, test_size=0.2, random_state=42)\n",
    "\n",
    "for train_index, val_index in stratified_splitter.split(sub_df['조문'], sub_df['사무판단']):\n",
    "    train_df = sub_df.iloc[train_index]\n",
    "    val_df = sub_df.iloc[val_index]"
   ]
  },
  {
   "cell_type": "code",
   "execution_count": 10,
   "metadata": {
    "colab": {
     "base_uri": "https://localhost:8080/"
    },
    "executionInfo": {
     "elapsed": 6,
     "status": "ok",
     "timestamp": 1701734776770,
     "user": {
      "displayName": "HJ Lee",
      "userId": "09009971054498894371"
     },
     "user_tz": -540
    },
    "id": "cgspDPtppu_w",
    "outputId": "53780ccb-806b-41a5-fbc3-7bac0885cc79"
   },
   "outputs": [
    {
     "name": "stdout",
     "output_type": "stream",
     "text": [
      "train 데이터 사무비율: 0.9303376198324087\n",
      "val 데이터 사무비율: 0.9303351225881329\n"
     ]
    }
   ],
   "source": [
    "t_count = train_df['사무판단'].value_counts()\n",
    "v_count = val_df['사무판단'].value_counts()\n",
    "\n",
    "print(f\"train 데이터 사무비율: {t_count[0]/sum(t_count)}\")\n",
    "print(f\"val 데이터 사무비율: {v_count[0]/sum(v_count)}\")"
   ]
  },
  {
   "cell_type": "markdown",
   "metadata": {},
   "source": [
    "# 3. 모델 구현\n",
    "* 2 layer 인공신경망: 512 -> 128 -> 2\n",
    "* 배치정규화, relu적용"
   ]
  },
  {
   "cell_type": "markdown",
   "metadata": {},
   "source": [
    "## 1) 모델 정의"
   ]
  },
  {
   "cell_type": "code",
   "execution_count": 11,
   "metadata": {
    "executionInfo": {
     "elapsed": 4,
     "status": "ok",
     "timestamp": 1701734776770,
     "user": {
      "displayName": "HJ Lee",
      "userId": "09009971054498894371"
     },
     "user_tz": -540
    },
    "id": "o2aLJwb8x10m"
   },
   "outputs": [],
   "source": [
    "import torch.nn as nn\n",
    "\n",
    "class MyModel(nn.Module):\n",
    "    def __init__(self, input_size, hidden_size, num_classes):\n",
    "        super(MyModel, self).__init__()\n",
    "        self.layer1 = nn.Linear(input_size, hidden_size)\n",
    "        self.batch_norm = nn.BatchNorm1d(hidden_size)  \n",
    "        self.relu = nn.ReLU()\n",
    "        self.layer2 = nn.Linear(hidden_size, num_classes)\n",
    "\n",
    "    def forward(self, input_ids, attention_mask):\n",
    "        # 모델의 forward 계산 로직\n",
    "        x = self.layer1(input_ids.float())\n",
    "        x = self.batch_norm(x)\n",
    "        x = self.relu(x)\n",
    "        x = self.layer2(x)\n",
    "\n",
    "        return x"
   ]
  },
  {
   "cell_type": "code",
   "execution_count": 12,
   "metadata": {
    "colab": {
     "base_uri": "https://localhost:8080/",
     "height": 145,
     "referenced_widgets": [
      "91718e1b5f4043f7a973c4ad8d34df0b",
      "dd14aa68886b4a809eda50dc5dbc85b9",
      "2e41e69b5b57405c94d44ebb0771414b",
      "5b0aed6ea8be44c2a5b467993a1565b8",
      "433ae65aa7fa4810949336ce6a61b8e3",
      "d776df5cee0646c79645bc37323bde50",
      "c7deee13a3e743e79bd3b51a4b61f5b5",
      "222457bea35940aebbae067e9e06dff9",
      "f4ba82af82d0433b9f2ea8aa576d89c9",
      "57d487fe484c4bcea4bf68d06a280d83",
      "ff8e41d474ae44c8839dd46cd9f7bfb6",
      "1c13217a74814d5d8c06eb31b2c3ec65",
      "d512d4575bb44702ae6ef462b554c451",
      "cd3efaa62d624a929a3cc46348c808e8",
      "a4558540826147268c0b56b2d76eba4a",
      "979b96a4ab2a4e2a8de23a288686cd5b",
      "60196ac408ae4744ad7325fb09c12105",
      "e9e4c933acc64b71bdccca62f68c1455",
      "8cf0c5640bfc46918d901083ec1237bc",
      "844830cc9fb24e12acfb8501c2548e13",
      "ecc13f3762534424a29cc9104d562bcd",
      "3d4e6b8733d347708bcf95aae3a2326c",
      "3acf335531f14a5e9b3a5aa4579c0f42",
      "5b7f8b3feba6448d9a68d9fbfe157be2",
      "2d6c61c4891f4539827560450db9185b",
      "21fbe4e9913b45d7b17e9443ece2a966",
      "d8daa3f3484048afbbe6e98f5f2dd28a",
      "eae059f5d76b4427a3a852bd44c8027c",
      "9ddec2428842403e91994d19e4fb8161",
      "0892b4ac77bb4f1da0666a7a1f63c33e",
      "77ed20b982d5425d961c16a0b9a7f862",
      "1f343fac51b2473fbed1057f789284fb",
      "47443c33b15c4d2d9793d8fb9496bf5c",
      "d1d5aec3a90b4594b0ea6ec6f6dcfa6a",
      "859f8d396678408490a422f8f8776c2e",
      "5650c4198888454bab9fa2ba5cbadd39",
      "04abd066b00844638c5fe02400e9d7ab",
      "71a1fc109fdd4d66bcbbc12c6afe572a",
      "c62d4b3ee87643718c015c03e7453057",
      "e5d2c261e29442d6a6e213f394a3531c",
      "4b5e6b1cc6cd4ff58b0304a0de71eceb",
      "eff204779b754164a3b7f511d7efd6aa",
      "cf60fabb119b4977ae505c8154e57082",
      "323fab855c20430988bf57b5591e91c9"
     ]
    },
    "executionInfo": {
     "elapsed": 1407,
     "status": "ok",
     "timestamp": 1701734778174,
     "user": {
      "displayName": "HJ Lee",
      "userId": "09009971054498894371"
     },
     "user_tz": -540
    },
    "id": "vMHw0oIOp34r",
    "outputId": "1939f714-de6c-4f65-9329-9cb0a453baec"
   },
   "outputs": [],
   "source": [
    "# 모델 및 토크나이저 불러오기\n",
    "model_name = 'klue/roberta-large'\n",
    "#model = AutoModelForSequenceClassification.from_pretrained(model_name)   # gpu부족으로 제한\n",
    "tokenizer = AutoTokenizer.from_pretrained(model_name)\n",
    "\n",
    "input_size = 512\n",
    "hidden_size = 128\n",
    "output_size = 2\n",
    "\n",
    "model = MyModel(input_size, hidden_size, output_size)"
   ]
  },
  {
   "cell_type": "markdown",
   "metadata": {},
   "source": [
    "## 2) 입력 데이터셋 정리\n",
    "* 512 차원으로 padding 진행\n",
    "* batch size = 16"
   ]
  },
  {
   "cell_type": "code",
   "execution_count": 13,
   "metadata": {
    "executionInfo": {
     "elapsed": 4,
     "status": "ok",
     "timestamp": 1701734778174,
     "user": {
      "displayName": "HJ Lee",
      "userId": "09009971054498894371"
     },
     "user_tz": -540
    },
    "id": "Pii4CwAtq9ER"
   },
   "outputs": [],
   "source": [
    "# 데이터셋 정의\n",
    "class CustomDataset(Dataset):\n",
    "    def __init__(self, dataframe, tokenizer):\n",
    "        self.data = dataframe\n",
    "        self.tokenizer = tokenizer\n",
    "\n",
    "    def __len__(self):\n",
    "        return len(self.data)\n",
    "\n",
    "    def __getitem__(self, idx):\n",
    "        text = self.data.iloc[idx]['조문']\n",
    "        label = torch.tensor(self.data.iloc[idx]['사무판단'], dtype=torch.long)\n",
    "        tokenized_data = tokenizer(text, padding='max_length', max_length=512, truncation=True, return_tensors='pt')\n",
    "        return {'input_ids': tokenized_data['input_ids'].squeeze(),\n",
    "                'attention_mask': tokenized_data['attention_mask'].squeeze(),\n",
    "                'labels': label}\n"
   ]
  },
  {
   "cell_type": "code",
   "execution_count": 14,
   "metadata": {
    "executionInfo": {
     "elapsed": 4,
     "status": "ok",
     "timestamp": 1701734778174,
     "user": {
      "displayName": "HJ Lee",
      "userId": "09009971054498894371"
     },
     "user_tz": -540
    },
    "id": "WO3tSanCsRju"
   },
   "outputs": [],
   "source": [
    "# 각 배치의 텍스트 길이를 맞추기\n",
    "def collate_fn(batch):\n",
    "    input_ids = [item['input_ids'] for item in batch]\n",
    "    attention_mask = [item['attention_mask'] for item in batch]\n",
    "    labels = [item['labels'] for item in batch]\n",
    "\n",
    "    # 패딩\n",
    "    input_ids = torch.nn.utils.rnn.pad_sequence(input_ids, batch_first=True, padding_value=tokenizer.pad_token_id)\n",
    "    attention_mask = torch.nn.utils.rnn.pad_sequence(attention_mask, batch_first=True, padding_value=0)\n",
    "\n",
    "    return {'input_ids': input_ids, 'attention_mask': attention_mask, 'labels': torch.stack(labels)}"
   ]
  },
  {
   "cell_type": "code",
   "execution_count": 15,
   "metadata": {
    "executionInfo": {
     "elapsed": 4,
     "status": "ok",
     "timestamp": 1701734778174,
     "user": {
      "displayName": "HJ Lee",
      "userId": "09009971054498894371"
     },
     "user_tz": -540
    },
    "id": "HD3HcNB1rDj2"
   },
   "outputs": [],
   "source": [
    "# 데이터로더 생성\n",
    "batch_size = 16  # 배치크기 조절\n",
    "\n",
    "train_dataset = CustomDataset(train_df, tokenizer)\n",
    "train_loader = DataLoader(train_dataset, batch_size=batch_size, shuffle=True, collate_fn=collate_fn)\n",
    "\n",
    "val_dataset = CustomDataset(val_df, tokenizer)\n",
    "val_loader = DataLoader(val_dataset, batch_size=batch_size, shuffle=False, collate_fn=collate_fn)"
   ]
  },
  {
   "cell_type": "code",
   "execution_count": 16,
   "metadata": {
    "colab": {
     "base_uri": "https://localhost:8080/"
    },
    "executionInfo": {
     "elapsed": 3,
     "status": "ok",
     "timestamp": 1701734778174,
     "user": {
      "displayName": "HJ Lee",
      "userId": "09009971054498894371"
     },
     "user_tz": -540
    },
    "id": "FLupIK3fUTZm",
    "outputId": "a5eae109-fec3-460b-f43a-0e34a63c91b0"
   },
   "outputs": [
    {
     "data": {
      "text/plain": [
       "<__main__.CustomDataset at 0x2ca5ee6b0>"
      ]
     },
     "execution_count": 16,
     "metadata": {},
     "output_type": "execute_result"
    }
   ],
   "source": [
    "val_dataset"
   ]
  },
  {
   "cell_type": "code",
   "execution_count": 17,
   "metadata": {
    "colab": {
     "base_uri": "https://localhost:8080/"
    },
    "executionInfo": {
     "elapsed": 3,
     "status": "ok",
     "timestamp": 1701734778174,
     "user": {
      "displayName": "HJ Lee",
      "userId": "09009971054498894371"
     },
     "user_tz": -540
    },
    "id": "sKZl5OizrPj4",
    "outputId": "2ebe57f1-026c-4eb4-9962-384682ad1221"
   },
   "outputs": [],
   "source": [
    "# 모델을 GPU로 이동  -> 작은 신경망이라 cpu로 돌림\n",
    "#model.to(device)"
   ]
  },
  {
   "cell_type": "markdown",
   "metadata": {},
   "source": [
    "## 3) 튜닝 파라미터 지정\n",
    "* optimizer: Adam\n",
    "* learning rate: 1e-5"
   ]
  },
  {
   "cell_type": "code",
   "execution_count": 18,
   "metadata": {
    "colab": {
     "base_uri": "https://localhost:8080/"
    },
    "executionInfo": {
     "elapsed": 804,
     "status": "ok",
     "timestamp": 1701734778976,
     "user": {
      "displayName": "HJ Lee",
      "userId": "09009971054498894371"
     },
     "user_tz": -540
    },
    "id": "Z9ayub6vrpx-",
    "outputId": "cbb7e753-121b-45b5-b779-416960ec98dd"
   },
   "outputs": [
    {
     "name": "stderr",
     "output_type": "stream",
     "text": [
      "/Users/ihongju/anaconda3/lib/python3.10/site-packages/transformers/optimization.py:306: FutureWarning: This implementation of AdamW is deprecated and will be removed in a future version. Use the PyTorch implementation torch.optim.AdamW instead, or set `no_deprecation_warning=True` to disable this warning\n",
      "  warnings.warn(\n"
     ]
    }
   ],
   "source": [
    "# 나머지 파라미터 정리\n",
    "optimizer = AdamW(model.parameters(), lr=1e-5)\n",
    "num_epochs = 5\n",
    "total_steps = len(train_loader) * num_epochs\n",
    "scheduler = get_linear_schedule_with_warmup(optimizer, num_warmup_steps=0, num_training_steps=total_steps)"
   ]
  },
  {
   "cell_type": "markdown",
   "metadata": {},
   "source": [
    "## 4) 모델 학습"
   ]
  },
  {
   "cell_type": "code",
   "execution_count": 19,
   "metadata": {
    "executionInfo": {
     "elapsed": 4,
     "status": "ok",
     "timestamp": 1701734778977,
     "user": {
      "displayName": "HJ Lee",
      "userId": "09009971054498894371"
     },
     "user_tz": -540
    },
    "id": "xS9ev0iwrSxC"
   },
   "outputs": [],
   "source": [
    "# 손실 기록을 위한 리스트\n",
    "train_losses = []\n",
    "val_losses = []"
   ]
  },
  {
   "cell_type": "code",
   "execution_count": 20,
   "metadata": {
    "colab": {
     "base_uri": "https://localhost:8080/"
    },
    "id": "8vh7HLjXrxEp",
    "outputId": "3d9adc54-bf0b-4716-d9f3-3f31b00a1e1d",
    "scrolled": true
   },
   "outputs": [
    {
     "name": "stderr",
     "output_type": "stream",
     "text": [
      "Epoch 1/5 - Training: 100%|██████████████| 43081/43081 [03:14<00:00, 221.63it/s]\n"
     ]
    },
    {
     "name": "stdout",
     "output_type": "stream",
     "text": [
      "Epoch 1/5, Average Training Loss: 0.5239665991301568\n"
     ]
    },
    {
     "name": "stderr",
     "output_type": "stream",
     "text": [
      "Epoch 1/5 - Validation: 100%|████████████| 10771/10771 [00:40<00:00, 264.66it/s]\n"
     ]
    },
    {
     "name": "stdout",
     "output_type": "stream",
     "text": [
      "Epoch 1/5, Validation Loss: 0.4939045310020447\n",
      "Epoch 1/5, Validation Recall: 0.7724125924851298\n"
     ]
    },
    {
     "name": "stderr",
     "output_type": "stream",
     "text": [
      "Epoch 2/5 - Training: 100%|██████████████| 43081/43081 [03:13<00:00, 222.08it/s]\n"
     ]
    },
    {
     "name": "stdout",
     "output_type": "stream",
     "text": [
      "Epoch 2/5, Average Training Loss: 0.4985668318130958\n"
     ]
    },
    {
     "name": "stderr",
     "output_type": "stream",
     "text": [
      "Epoch 2/5 - Validation: 100%|████████████| 10771/10771 [00:40<00:00, 268.15it/s]\n"
     ]
    },
    {
     "name": "stdout",
     "output_type": "stream",
     "text": [
      "Epoch 2/5, Validation Loss: 0.48241615295410156\n",
      "Epoch 2/5, Validation Recall: 0.7729754823734223\n"
     ]
    },
    {
     "name": "stderr",
     "output_type": "stream",
     "text": [
      "Epoch 3/5 - Training: 100%|██████████████| 43081/43081 [03:11<00:00, 224.61it/s]\n"
     ]
    },
    {
     "name": "stdout",
     "output_type": "stream",
     "text": [
      "Epoch 3/5, Average Training Loss: 0.4890418174231894\n"
     ]
    },
    {
     "name": "stderr",
     "output_type": "stream",
     "text": [
      "Epoch 3/5 - Validation: 100%|████████████| 10771/10771 [00:40<00:00, 264.87it/s]\n"
     ]
    },
    {
     "name": "stdout",
     "output_type": "stream",
     "text": [
      "Epoch 3/5, Validation Loss: 0.4739820957183838\n",
      "Epoch 3/5, Validation Recall: 0.7625475119686639\n"
     ]
    },
    {
     "name": "stderr",
     "output_type": "stream",
     "text": [
      "Epoch 4/5 - Training: 100%|██████████████| 43081/43081 [03:12<00:00, 223.36it/s]\n"
     ]
    },
    {
     "name": "stdout",
     "output_type": "stream",
     "text": [
      "Epoch 4/5, Average Training Loss: 0.4844063688010349\n"
     ]
    },
    {
     "name": "stderr",
     "output_type": "stream",
     "text": [
      "Epoch 4/5 - Validation: 100%|████████████| 10771/10771 [00:41<00:00, 257.78it/s]\n"
     ]
    },
    {
     "name": "stdout",
     "output_type": "stream",
     "text": [
      "Epoch 4/5, Validation Loss: 0.47453540563583374\n",
      "Epoch 4/5, Validation Recall: 0.7842100681851153\n"
     ]
    },
    {
     "name": "stderr",
     "output_type": "stream",
     "text": [
      "Epoch 5/5 - Training: 100%|██████████████| 43081/43081 [03:12<00:00, 223.52it/s]\n"
     ]
    },
    {
     "name": "stdout",
     "output_type": "stream",
     "text": [
      "Epoch 5/5, Average Training Loss: 0.48282361713480765\n"
     ]
    },
    {
     "name": "stderr",
     "output_type": "stream",
     "text": [
      "Epoch 5/5 - Validation: 100%|████████████| 10771/10771 [00:40<00:00, 266.81it/s]\n"
     ]
    },
    {
     "name": "stdout",
     "output_type": "stream",
     "text": [
      "Epoch 5/5, Validation Loss: 0.46963998675346375\n",
      "Epoch 5/5, Validation Recall: 0.7725982881183809\n"
     ]
    }
   ],
   "source": [
    "from sklearn.metrics import recall_score\n",
    "\n",
    "# 클래스 0에 대한 적절한 가중치를 계산 (imbalance data 고려)\n",
    "class_0_weight = 0.06\n",
    "class_1_weight = 1.0\n",
    "\n",
    "class_weights = [class_0_weight, class_1_weight]    # 0, 1의 가중치를 차등 부여\n",
    "\n",
    "# 학습 루프에서 'labels'를 사용하는 부분 수정\n",
    "for epoch in range(num_epochs):\n",
    "    model.train()\n",
    "    total_loss = 0.0\n",
    "    for batch in tqdm(train_loader, desc=f'Epoch {epoch + 1}/{num_epochs} - Training'):\n",
    "        inputs = {key: value.to(device) for key, value in batch.items() if key != 'labels'}\n",
    "        labels = batch['labels'].to(device)\n",
    "\n",
    "        # 모델에 토큰화된 입력 데이터 전달\n",
    "        logits = model(**inputs)\n",
    "        if logits.dtype != torch.float32:\n",
    "            logits = logits.float()\n",
    "        loss = torch.nn.functional.cross_entropy(logits, labels, weight=torch.Tensor(class_weights).to(device))\n",
    "        loss.backward()\n",
    "        optimizer.step()\n",
    "        scheduler.step()\n",
    "        optimizer.zero_grad()\n",
    "        total_loss += loss.item()\n",
    "\n",
    "    avg_train_loss = total_loss / len(train_loader)\n",
    "    train_losses.append(avg_train_loss)\n",
    "    print(f'Epoch {epoch + 1}/{num_epochs}, Average Training Loss: {avg_train_loss}')\n",
    "\n",
    "    model.eval()\n",
    "    val_loss = 0.0\n",
    "    y_true = []  # 실제 레이블을 저장할 리스트\n",
    "    y_pred = []  # 모델의 예측 결과를 저장할 리스트\n",
    "    with torch.no_grad():\n",
    "        for batch in tqdm(val_loader, desc=f'Epoch {epoch + 1}/{num_epochs} - Validation'):\n",
    "            inputs = {key: value.to(device) for key, value in batch.items() if key != 'labels'}\n",
    "            labels = batch['labels'].to(device)\n",
    "\n",
    "            # 모델에 토큰화된 입력 데이터 전달\n",
    "            outputs = model(**inputs)\n",
    "            if outputs.dtype != torch.float32:\n",
    "                outputs = outputs.float()\n",
    "\n",
    "            _, predictions = torch.max(outputs, 1)\n",
    "            y_true.extend(labels.cpu().numpy())\n",
    "            y_pred.extend(predictions.cpu().numpy())\n",
    "            val_loss += torch.nn.functional.cross_entropy(outputs, labels, weight=torch.Tensor(class_weights).to(device))\n",
    "\n",
    "    avg_val_loss = val_loss / len(val_loader)\n",
    "    val_losses.append(avg_val_loss)\n",
    "    print(f'Epoch {epoch + 1}/{num_epochs}, Validation Loss: {avg_val_loss}')\n",
    "    # Calculate Recall\n",
    "    recall = recall_score(y_true, y_pred, average='weighted')  # 'weighted'는 각 클래스의 샘플 수에 따라 가중 평균을 계산합니다.\n",
    "    print(f'Epoch {epoch + 1}/{num_epochs}, Validation Recall: {recall}')"
   ]
  },
  {
   "cell_type": "markdown",
   "metadata": {},
   "source": [
    "## 1) loss 그래프"
   ]
  },
  {
   "cell_type": "code",
   "execution_count": 21,
   "metadata": {
    "id": "mKcysK-Tr3Kc"
   },
   "outputs": [
    {
     "data": {
      "image/png": "[encoded data removed]",
      "text/plain": [
       "<Figure size 640x480 with 1 Axes>"
      ]
     },
     "metadata": {},
     "output_type": "display_data"
    }
   ],
   "source": [
    "# 손실 값 시각화\n",
    "plt.plot(train_losses, label='Training Loss')\n",
    "plt.plot(val_losses, label='Validation Loss')\n",
    "plt.xlabel('Epoch')\n",
    "plt.ylabel('Loss')\n",
    "plt.legend()\n",
    "plt.show()"
   ]
  },
  {
   "cell_type": "markdown",
   "metadata": {},
   "source": [
    "# 5 모델 평가"
   ]
  },
  {
   "cell_type": "code",
   "execution_count": 22,
   "metadata": {
    "id": "UqORzvB2yl4t"
   },
   "outputs": [
    {
     "name": "stderr",
     "output_type": "stream",
     "text": [
      "Validation: 100%|████████████████████████| 10771/10771 [00:40<00:00, 265.79it/s]\n"
     ]
    }
   ],
   "source": [
    "from sklearn.metrics import precision_score, recall_score, f1_score\n",
    "\n",
    "model.eval()\n",
    "val_loss = 0.0\n",
    "all_labels = []\n",
    "all_preds = []\n",
    "all_probs = []\n",
    "\n",
    "with torch.no_grad():\n",
    "    for batch in tqdm(val_loader, desc=f'Validation'):\n",
    "        inputs = {key: value.to(device) for key, value in batch.items() if key != 'labels'}\n",
    "        labels = batch['labels'].to(device)\n",
    "\n",
    "        # 모델에 토큰화된 입력 데이터 전달\n",
    "        outputs = model(**inputs)\n",
    "        if outputs.dtype != torch.float32:\n",
    "            outputs = outputs.float()\n",
    "        val_loss += torch.nn.functional.cross_entropy(outputs, labels.long())\n",
    "        \n",
    "        # 소프트맥스를 적용하여 확률값 얻기\n",
    "        probs = torch.nn.functional.softmax(outputs, dim=1)\n",
    "        all_probs.extend(probs.cpu().numpy())\n",
    "        \n",
    "        # 예측값과 정답을 리스트에 추가\n",
    "        _, preds = torch.max(outputs, 1)\n",
    "        all_labels.extend(labels.cpu().numpy())\n",
    "        all_preds.extend(preds.cpu().numpy())\n",
    "\n",
    "# 손실 계산\n",
    "avg_val_loss = val_loss / len(val_loader)\n",
    "val_losses.append(avg_val_loss)\n"
   ]
  },
  {
   "cell_type": "markdown",
   "metadata": {},
   "source": [
    "## 1) 결과 확인"
   ]
  },
  {
   "cell_type": "code",
   "execution_count": 29,
   "metadata": {},
   "outputs": [],
   "source": [
    "prob = [sublist[1] for sublist in all_probs]"
   ]
  },
  {
   "cell_type": "code",
   "execution_count": 30,
   "metadata": {},
   "outputs": [
    {
     "data": {
      "text/html": [
       "<div>\n",
       "<style scoped>\n",
       "    .dataframe tbody tr th:only-of-type {\n",
       "        vertical-align: middle;\n",
       "    }\n",
       "\n",
       "    .dataframe tbody tr th {\n",
       "        vertical-align: top;\n",
       "    }\n",
       "\n",
       "    .dataframe thead th {\n",
       "        text-align: right;\n",
       "    }\n",
       "</style>\n",
       "<table border=\"1\" class=\"dataframe\">\n",
       "  <thead>\n",
       "    <tr style=\"text-align: right;\">\n",
       "      <th></th>\n",
       "      <th>True_Labels</th>\n",
       "      <th>Predictions</th>\n",
       "      <th>Probability_1</th>\n",
       "    </tr>\n",
       "  </thead>\n",
       "  <tbody>\n",
       "    <tr>\n",
       "      <th>0</th>\n",
       "      <td>0</td>\n",
       "      <td>0</td>\n",
       "      <td>0.026727</td>\n",
       "    </tr>\n",
       "    <tr>\n",
       "      <th>1</th>\n",
       "      <td>0</td>\n",
       "      <td>0</td>\n",
       "      <td>0.097768</td>\n",
       "    </tr>\n",
       "    <tr>\n",
       "      <th>2</th>\n",
       "      <td>0</td>\n",
       "      <td>0</td>\n",
       "      <td>0.036723</td>\n",
       "    </tr>\n",
       "    <tr>\n",
       "      <th>3</th>\n",
       "      <td>0</td>\n",
       "      <td>0</td>\n",
       "      <td>0.353132</td>\n",
       "    </tr>\n",
       "    <tr>\n",
       "      <th>4</th>\n",
       "      <td>0</td>\n",
       "      <td>1</td>\n",
       "      <td>0.520629</td>\n",
       "    </tr>\n",
       "    <tr>\n",
       "      <th>...</th>\n",
       "      <td>...</td>\n",
       "      <td>...</td>\n",
       "      <td>...</td>\n",
       "    </tr>\n",
       "    <tr>\n",
       "      <th>172320</th>\n",
       "      <td>0</td>\n",
       "      <td>0</td>\n",
       "      <td>0.008365</td>\n",
       "    </tr>\n",
       "    <tr>\n",
       "      <th>172321</th>\n",
       "      <td>0</td>\n",
       "      <td>1</td>\n",
       "      <td>0.508366</td>\n",
       "    </tr>\n",
       "    <tr>\n",
       "      <th>172322</th>\n",
       "      <td>0</td>\n",
       "      <td>0</td>\n",
       "      <td>0.012416</td>\n",
       "    </tr>\n",
       "    <tr>\n",
       "      <th>172323</th>\n",
       "      <td>1</td>\n",
       "      <td>1</td>\n",
       "      <td>0.578635</td>\n",
       "    </tr>\n",
       "    <tr>\n",
       "      <th>172324</th>\n",
       "      <td>0</td>\n",
       "      <td>1</td>\n",
       "      <td>0.726729</td>\n",
       "    </tr>\n",
       "  </tbody>\n",
       "</table>\n",
       "<p>172325 rows × 3 columns</p>\n",
       "</div>"
      ],
      "text/plain": [
       "        True_Labels  Predictions  Probability_1\n",
       "0                 0            0       0.026727\n",
       "1                 0            0       0.097768\n",
       "2                 0            0       0.036723\n",
       "3                 0            0       0.353132\n",
       "4                 0            1       0.520629\n",
       "...             ...          ...            ...\n",
       "172320            0            0       0.008365\n",
       "172321            0            1       0.508366\n",
       "172322            0            0       0.012416\n",
       "172323            1            1       0.578635\n",
       "172324            0            1       0.726729\n",
       "\n",
       "[172325 rows x 3 columns]"
      ]
     },
     "execution_count": 30,
     "metadata": {},
     "output_type": "execute_result"
    }
   ],
   "source": [
    "# 결과 데이터프레임 생성\n",
    "result_df = pd.DataFrame({\n",
    "    'True_Labels': all_labels,\n",
    "    'Predictions': all_preds,\n",
    "    'Probability_1': prob\n",
    "})\n",
    "\n",
    "result_df"
   ]
  },
  {
   "cell_type": "code",
   "execution_count": 31,
   "metadata": {},
   "outputs": [],
   "source": [
    "#result_df.to_csv('epo5_result_df.csv')   # 결과 저장"
   ]
  },
  {
   "cell_type": "code",
   "execution_count": 32,
   "metadata": {},
   "outputs": [],
   "source": [
    "#torch.save(model.state_dict(), \"model_06_1_5.pth\")    # 모델 저장"
   ]
  },
  {
   "cell_type": "markdown",
   "metadata": {},
   "source": [
    "## 2) 결과 통계량 확인"
   ]
  },
  {
   "cell_type": "code",
   "execution_count": 33,
   "metadata": {},
   "outputs": [
    {
     "data": {
      "text/html": [
       "<div>\n",
       "<style scoped>\n",
       "    .dataframe tbody tr th:only-of-type {\n",
       "        vertical-align: middle;\n",
       "    }\n",
       "\n",
       "    .dataframe tbody tr th {\n",
       "        vertical-align: top;\n",
       "    }\n",
       "\n",
       "    .dataframe thead th {\n",
       "        text-align: right;\n",
       "    }\n",
       "</style>\n",
       "<table border=\"1\" class=\"dataframe\">\n",
       "  <thead>\n",
       "    <tr style=\"text-align: right;\">\n",
       "      <th></th>\n",
       "      <th>True_Labels</th>\n",
       "      <th>Predictions</th>\n",
       "      <th>Probability_1</th>\n",
       "    </tr>\n",
       "  </thead>\n",
       "  <tbody>\n",
       "    <tr>\n",
       "      <th>count</th>\n",
       "      <td>127067.000000</td>\n",
       "      <td>127067.0</td>\n",
       "      <td>127067.000000</td>\n",
       "    </tr>\n",
       "    <tr>\n",
       "      <th>mean</th>\n",
       "      <td>0.023350</td>\n",
       "      <td>0.0</td>\n",
       "      <td>0.152123</td>\n",
       "    </tr>\n",
       "    <tr>\n",
       "      <th>std</th>\n",
       "      <td>0.151013</td>\n",
       "      <td>0.0</td>\n",
       "      <td>0.154932</td>\n",
       "    </tr>\n",
       "    <tr>\n",
       "      <th>min</th>\n",
       "      <td>0.000000</td>\n",
       "      <td>0.0</td>\n",
       "      <td>0.002187</td>\n",
       "    </tr>\n",
       "    <tr>\n",
       "      <th>25%</th>\n",
       "      <td>0.000000</td>\n",
       "      <td>0.0</td>\n",
       "      <td>0.023082</td>\n",
       "    </tr>\n",
       "    <tr>\n",
       "      <th>50%</th>\n",
       "      <td>0.000000</td>\n",
       "      <td>0.0</td>\n",
       "      <td>0.070822</td>\n",
       "    </tr>\n",
       "    <tr>\n",
       "      <th>75%</th>\n",
       "      <td>0.000000</td>\n",
       "      <td>0.0</td>\n",
       "      <td>0.275795</td>\n",
       "    </tr>\n",
       "    <tr>\n",
       "      <th>max</th>\n",
       "      <td>1.000000</td>\n",
       "      <td>0.0</td>\n",
       "      <td>0.499992</td>\n",
       "    </tr>\n",
       "  </tbody>\n",
       "</table>\n",
       "</div>"
      ],
      "text/plain": [
       "         True_Labels  Predictions  Probability_1\n",
       "count  127067.000000     127067.0  127067.000000\n",
       "mean        0.023350          0.0       0.152123\n",
       "std         0.151013          0.0       0.154932\n",
       "min         0.000000          0.0       0.002187\n",
       "25%         0.000000          0.0       0.023082\n",
       "50%         0.000000          0.0       0.070822\n",
       "75%         0.000000          0.0       0.275795\n",
       "max         1.000000          0.0       0.499992"
      ]
     },
     "execution_count": 33,
     "metadata": {},
     "output_type": "execute_result"
    }
   ],
   "source": [
    "result_df.loc[result_df['Predictions']==0, ].describe()"
   ]
  },
  {
   "cell_type": "code",
   "execution_count": 34,
   "metadata": {},
   "outputs": [
    {
     "data": {
      "text/html": [
       "<div>\n",
       "<style scoped>\n",
       "    .dataframe tbody tr th:only-of-type {\n",
       "        vertical-align: middle;\n",
       "    }\n",
       "\n",
       "    .dataframe tbody tr th {\n",
       "        vertical-align: top;\n",
       "    }\n",
       "\n",
       "    .dataframe thead th {\n",
       "        text-align: right;\n",
       "    }\n",
       "</style>\n",
       "<table border=\"1\" class=\"dataframe\">\n",
       "  <thead>\n",
       "    <tr style=\"text-align: right;\">\n",
       "      <th></th>\n",
       "      <th>True_Labels</th>\n",
       "      <th>Predictions</th>\n",
       "      <th>Probability_1</th>\n",
       "    </tr>\n",
       "  </thead>\n",
       "  <tbody>\n",
       "    <tr>\n",
       "      <th>count</th>\n",
       "      <td>45258.000000</td>\n",
       "      <td>45258.0</td>\n",
       "      <td>45258.000000</td>\n",
       "    </tr>\n",
       "    <tr>\n",
       "      <th>mean</th>\n",
       "      <td>0.199700</td>\n",
       "      <td>1.0</td>\n",
       "      <td>0.653751</td>\n",
       "    </tr>\n",
       "    <tr>\n",
       "      <th>std</th>\n",
       "      <td>0.399779</td>\n",
       "      <td>0.0</td>\n",
       "      <td>0.096457</td>\n",
       "    </tr>\n",
       "    <tr>\n",
       "      <th>min</th>\n",
       "      <td>0.000000</td>\n",
       "      <td>1.0</td>\n",
       "      <td>0.500006</td>\n",
       "    </tr>\n",
       "    <tr>\n",
       "      <th>25%</th>\n",
       "      <td>0.000000</td>\n",
       "      <td>1.0</td>\n",
       "      <td>0.573960</td>\n",
       "    </tr>\n",
       "    <tr>\n",
       "      <th>50%</th>\n",
       "      <td>0.000000</td>\n",
       "      <td>1.0</td>\n",
       "      <td>0.645236</td>\n",
       "    </tr>\n",
       "    <tr>\n",
       "      <th>75%</th>\n",
       "      <td>0.000000</td>\n",
       "      <td>1.0</td>\n",
       "      <td>0.723073</td>\n",
       "    </tr>\n",
       "    <tr>\n",
       "      <th>max</th>\n",
       "      <td>1.000000</td>\n",
       "      <td>1.0</td>\n",
       "      <td>0.965777</td>\n",
       "    </tr>\n",
       "  </tbody>\n",
       "</table>\n",
       "</div>"
      ],
      "text/plain": [
       "        True_Labels  Predictions  Probability_1\n",
       "count  45258.000000      45258.0   45258.000000\n",
       "mean       0.199700          1.0       0.653751\n",
       "std        0.399779          0.0       0.096457\n",
       "min        0.000000          1.0       0.500006\n",
       "25%        0.000000          1.0       0.573960\n",
       "50%        0.000000          1.0       0.645236\n",
       "75%        0.000000          1.0       0.723073\n",
       "max        1.000000          1.0       0.965777"
      ]
     },
     "execution_count": 34,
     "metadata": {},
     "output_type": "execute_result"
    }
   ],
   "source": [
    "result_df.loc[result_df['Predictions']==1, ].describe()"
   ]
  },
  {
   "cell_type": "markdown",
   "metadata": {},
   "source": [
    "## 3) ROC 커브 확인"
   ]
  },
  {
   "cell_type": "code",
   "execution_count": 35,
   "metadata": {},
   "outputs": [
    {
     "data": {
      "image/png": "[encoded data removed]",
      "text/plain": [
       "<Figure size 800x800 with 1 Axes>"
      ]
     },
     "metadata": {},
     "output_type": "display_data"
    }
   ],
   "source": [
    "from sklearn.metrics import roc_curve, auc\n",
    "\n",
    "fpr, tpr, thresholds = roc_curve(result_df['True_Labels'], result_df['Probability_1'])\n",
    "roc_auc = auc(fpr, tpr)\n",
    "\n",
    "# ROC 커브 그리기\n",
    "plt.figure(figsize=(8, 8))\n",
    "plt.plot(fpr, tpr, color='darkorange', lw=2, label=f'ROC curve (AUC = {roc_auc:.2f})')\n",
    "plt.plot([0, 1], [0, 1], color='navy', lw=2, linestyle='--')\n",
    "plt.xlabel('False Positive Rate')\n",
    "plt.ylabel('True Positive Rate')\n",
    "plt.title('Receiver Operating Characteristic (ROC) Curve')\n",
    "plt.legend(loc='lower right')\n",
    "plt.show()"
   ]
  },
  {
   "cell_type": "markdown",
   "metadata": {},
   "source": [
    "* 디폴트 threshold 기준 평가 지표 확인"
   ]
  },
  {
   "cell_type": "code",
   "execution_count": 36,
   "metadata": {
    "executionInfo": {
     "elapsed": 3,
     "status": "aborted",
     "timestamp": 1701734732508,
     "user": {
      "displayName": "HJ Lee",
      "userId": "09009971054498894371"
     },
     "user_tz": -540
    },
    "id": "gr0ZQaTP5ULx"
   },
   "outputs": [
    {
     "name": "stdout",
     "output_type": "stream",
     "text": [
      "Avg Validation Loss: 0.39846527576446533\n",
      "Accuracy: 0.7725982881183809\n",
      "Precision: 0.1996995006407707\n",
      "Recall: 0.7528529779258643\n",
      "F1-Score: 0.31566631157990327\n",
      "Confusion Matrix:\n",
      "[[124100  36220]\n",
      " [  2967   9038]]\n"
     ]
    }
   ],
   "source": [
    "from sklearn.metrics import accuracy_score, confusion_matrix, precision_score, recall_score, f1_score\n",
    "\n",
    "# confusion matrix, accuracy, precision, recall, f1-score 계산\n",
    "conf_matrix = confusion_matrix(all_labels, all_preds)\n",
    "accuracy = accuracy_score(all_labels, all_preds)\n",
    "precision = precision_score(all_labels, all_preds)\n",
    "recall = recall_score(all_labels, all_preds)\n",
    "f1 = f1_score(all_labels, all_preds)\n",
    "\n",
    "# 디폴트 결과 출력\n",
    "print(f\"Avg Validation Loss: {avg_val_loss}\")\n",
    "print(f\"Accuracy: {accuracy}\")\n",
    "print(f\"Precision: {precision}\")\n",
    "print(f\"Recall: {recall}\")\n",
    "print(f\"F1-Score: {f1}\")\n",
    "print(\"Confusion Matrix:\")\n",
    "print(conf_matrix)"
   ]
  },
  {
   "cell_type": "code",
   "execution_count": 37,
   "metadata": {
    "executionInfo": {
     "elapsed": 2,
     "status": "aborted",
     "timestamp": 1701734732508,
     "user": {
      "displayName": "HJ Lee",
      "userId": "09009971054498894371"
     },
     "user_tz": -540
    },
    "id": "XoUL408SNlmd"
   },
   "outputs": [
    {
     "data": {
      "image/png": "[encoded data removed]",
      "text/plain": [
       "<Figure size 800x600 with 2 Axes>"
      ]
     },
     "metadata": {},
     "output_type": "display_data"
    }
   ],
   "source": [
    "import seaborn as sns\n",
    "\n",
    "# seaborn을 사용하여 heatmap으로 confusion matrix 시각화\n",
    "plt.figure(figsize=(8, 6))\n",
    "sns.heatmap(conf_matrix, annot=True, fmt='d', cmap='Blues', xticklabels=[0, 1], yticklabels=[0, 1])\n",
    "plt.title('Confusion Matrix Neural Network')\n",
    "plt.xlabel('Predicted Labels')\n",
    "plt.ylabel('True Labels')\n",
    "plt.show()"
   ]
  },
  {
   "cell_type": "markdown",
   "metadata": {},
   "source": [
    "## 4) threshold 조절"
   ]
  },
  {
   "cell_type": "code",
   "execution_count": 38,
   "metadata": {},
   "outputs": [],
   "source": [
    "from sklearn.metrics import accuracy_score, confusion_matrix, precision_score, recall_score, f1_score\n",
    "\n",
    "def cal_result(preds, y):\n",
    "    conf_matrix = confusion_matrix(y, preds)\n",
    "    accuracy = accuracy_score(y, preds)\n",
    "    precision = precision_score(y, preds)\n",
    "    recall = recall_score(y, preds)\n",
    "    f1 = f1_score(y, preds)\n",
    "    \n",
    "    return accuracy, recall"
   ]
  },
  {
   "cell_type": "code",
   "execution_count": 39,
   "metadata": {},
   "outputs": [],
   "source": [
    "x = np.arange(0.15, 0.29, 0.01).tolist()\n",
    "y_acc = []\n",
    "y_rec = []\n",
    "\n",
    "for i in x:\n",
    "    threshold = i\n",
    "    result_df['new_predictions'] = 0\n",
    "    result_df.loc[result_df['Probability_1']>threshold, 'new_predictions'] = 1\n",
    "    acc, rec = cal_result(result_df['new_predictions'], result_df['True_Labels'])\n",
    "    y_acc.append(acc)\n",
    "    y_rec.append(rec)"
   ]
  },
  {
   "cell_type": "markdown",
   "metadata": {},
   "source": [
    "- threshold에 따른 accuracy, recall 그래프 확인"
   ]
  },
  {
   "cell_type": "code",
   "execution_count": 40,
   "metadata": {},
   "outputs": [
    {
     "data": {
      "image/png": "[encoded data removed]",
      "text/plain": [
       "<Figure size 640x480 with 1 Axes>"
      ]
     },
     "metadata": {},
     "output_type": "display_data"
    }
   ],
   "source": [
    "import matplotlib.pyplot as plt\n",
    "\n",
    "# accuracy 그래프\n",
    "plt.plot(x, y_acc, label='accuracy', color='blue')\n",
    "\n",
    "# recall 그래프\n",
    "plt.plot(x, y_rec, label='recall', color='red')\n",
    "\n",
    "# 그래프에 제목과 축 레이블 추가\n",
    "plt.title('Result Line Graph')\n",
    "plt.xlabel('Threshold')\n",
    "plt.ylabel('Value')\n",
    "\n",
    "# 범례 추가\n",
    "plt.legend()\n",
    "\n",
    "# 그래프 표시\n",
    "plt.show()"
   ]
  },
  {
   "cell_type": "code",
   "execution_count": 41,
   "metadata": {},
   "outputs": [
    {
     "name": "stdout",
     "output_type": "stream",
     "text": [
      "accuracy 최대값: 0.6184186856230959, 최소값: 0.5187291455099377\n",
      "recall 최소값: 0.9450229071220325, 최대값: 0.9790920449812578\n"
     ]
    }
   ],
   "source": [
    "print(f\"accuracy 최대값: {y_acc[-1]}, 최소값: {y_acc[0]}\")\n",
    "print(f\"recall 최소값: {y_rec[-1]}, 최대값: {y_rec[0]}\")"
   ]
  },
  {
   "cell_type": "markdown",
   "metadata": {},
   "source": [
    "* prediction 중위수, 3분위수에 따른 결과 모두 출력"
   ]
  },
  {
   "cell_type": "code",
   "execution_count": 42,
   "metadata": {},
   "outputs": [
    {
     "name": "stdout",
     "output_type": "stream",
     "text": [
      "======threshold = 0.16======\n",
      "Avg Validation Loss: 0.39846527576446533\n",
      "Accuracy: 0.5263890903815465\n",
      "Precision: 0.1260341678306651\n",
      "Recall: 0.9770928779675135\n",
      "F1-Score: 0.22326909350463958\n",
      "Confusion Matrix:\n",
      "[[78980 81340]\n",
      " [  275 11730]]\n",
      "======threshold = 0.28======\n",
      "Avg Validation Loss: 0.39846527576446533\n",
      "Accuracy: 0.6184186856230959\n",
      "Precision: 0.14841511754163342\n",
      "Recall: 0.9450229071220325\n",
      "F1-Score: 0.25654071410804336\n",
      "Confusion Matrix:\n",
      "[[95224 65096]\n",
      " [  660 11345]]\n"
     ]
    }
   ],
   "source": [
    "def cal_result2(preds, y):\n",
    "    conf_matrix = confusion_matrix(y, preds)\n",
    "    accuracy = accuracy_score(y, preds)\n",
    "    precision = precision_score(y, preds)\n",
    "    recall = recall_score(y, preds)\n",
    "    f1 = f1_score(y, preds)\n",
    "    \n",
    "    # 결과 출력\n",
    "    print(f\"Avg Validation Loss: {avg_val_loss}\")\n",
    "    print(f\"Accuracy: {accuracy}\")\n",
    "    print(f\"Precision: {precision}\")\n",
    "    print(f\"Recall: {recall}\")\n",
    "    print(f\"F1-Score: {f1}\")\n",
    "    print(\"Confusion Matrix:\")\n",
    "    print(conf_matrix)\n",
    "    \n",
    "    return conf_matrix\n",
    "\n",
    "# prediction 중위수\n",
    "print('======threshold = 0.16======')\n",
    "threshold = 0.16\n",
    "result_df['new_predictions'] = 0\n",
    "result_df.loc[result_df['Probability_1']>threshold, 'new_predictions'] = 1\n",
    "a = cal_result2(result_df['new_predictions'], result_df['True_Labels'])\n",
    "\n",
    "# prediction 3분위수\n",
    "print('======threshold = 0.28======')\n",
    "threshold = 0.28\n",
    "result_df['new_predictions'] = 0\n",
    "result_df.loc[result_df['Probability_1']>threshold, 'new_predictions'] = 1\n",
    "b = cal_result2(result_df['new_predictions'], result_df['True_Labels'])"
   ]
  },
  {
   "cell_type": "code",
   "execution_count": 43,
   "metadata": {},
   "outputs": [
    {
     "data": {
      "image/png": "[encoded data removed]",
      "text/plain": [
       "<Figure size 800x600 with 2 Axes>"
      ]
     },
     "metadata": {},
     "output_type": "display_data"
    },
    {
     "data": {
      "image/png": "[encoded data removed]",
      "text/plain": [
       "<Figure size 800x600 with 2 Axes>"
      ]
     },
     "metadata": {},
     "output_type": "display_data"
    }
   ],
   "source": [
    "# seaborn을 사용하여 heatmap으로 confusion matrix 시각화\n",
    "plt.figure(figsize=(8, 6))\n",
    "sns.heatmap(a, annot=True, fmt='d', cmap='Blues', xticklabels=[0, 1], yticklabels=[0, 1])\n",
    "plt.title('Confusion Matrix Neural Network (0.16)')\n",
    "plt.xlabel('Predicted Labels')\n",
    "plt.ylabel('True Labels')\n",
    "plt.show()\n",
    "\n",
    "plt.figure(figsize=(8, 6))\n",
    "sns.heatmap(b, annot=True, fmt='d', cmap='Blues', xticklabels=[0, 1], yticklabels=[0, 1])\n",
    "plt.title('Confusion Matrix Neural Network (0.28)')\n",
    "plt.xlabel('Predicted Labels')\n",
    "plt.ylabel('True Labels')\n",
    "plt.show()"
   ]
  }
 ],
 "metadata": {
  "colab": {
   "authorship_tag": "ABX9TyOFA+0xXSp3Nh1xnCbX8oVk",
   "provenance": []
  },
  "kernelspec": {
   "display_name": "Python 3 (ipykernel)",
   "language": "python",
   "name": "python3"
  },
  "language_info": {
   "codemirror_mode": {
    "name": "ipython",
    "version": 3
   },
   "file_extension": ".py",
   "mimetype": "text/x-python",
   "name": "python",
   "nbconvert_exporter": "python",
   "pygments_lexer": "ipython3",
   "version": "3.10.9"
  },
  "widgets": {
   "application/vnd.jupyter.widget-state+json": {
    "04abd066b00844638c5fe02400e9d7ab": {
     "model_module": "@jupyter-widgets/controls",
     "model_module_version": "1.5.0",
     "model_name": "HTMLModel",
     "state": {
      "_dom_classes": [],
      "_model_module": "@jupyter-widgets/controls",
      "_model_module_version": "1.5.0",
      "_model_name": "HTMLModel",
      "_view_count": null,
      "_view_module": "@jupyter-widgets/controls",
      "_view_module_version": "1.5.0",
      "_view_name": "HTMLView",
      "description": "",
      "description_tooltip": null,
      "layout": "IPY_MODEL_cf60fabb119b4977ae505c8154e57082",
      "placeholder": "​",
      "style": "IPY_MODEL_323fab855c20430988bf57b5591e91c9",
      "value": " 173/173 [00:00&lt;00:00, 3.52kB/s]"
     }
    },
    "0892b4ac77bb4f1da0666a7a1f63c33e": {
     "model_module": "@jupyter-widgets/base",
     "model_module_version": "1.2.0",
     "model_name": "LayoutModel",
     "state": {
      "_model_module": "@jupyter-widgets/base",
      "_model_module_version": "1.2.0",
      "_model_name": "LayoutModel",
      "_view_count": null,
      "_view_module": "@jupyter-widgets/base",
      "_view_module_version": "1.2.0",
      "_view_name": "LayoutView",
      "align_content": null,
      "align_items": null,
      "align_self": null,
      "border": null,
      "bottom": null,
      "display": null,
      "flex": null,
      "flex_flow": null,
      "grid_area": null,
      "grid_auto_columns": null,
      "grid_auto_flow": null,
      "grid_auto_rows": null,
      "grid_column": null,
      "grid_gap": null,
      "grid_row": null,
      "grid_template_areas": null,
      "grid_template_columns": null,
      "grid_template_rows": null,
      "height": null,
      "justify_content": null,
      "justify_items": null,
      "left": null,
      "margin": null,
      "max_height": null,
      "max_width": null,
      "min_height": null,
      "min_width": null,
      "object_fit": null,
      "object_position": null,
      "order": null,
      "overflow": null,
      "overflow_x": null,
      "overflow_y": null,
      "padding": null,
      "right": null,
      "top": null,
      "visibility": null,
      "width": null
     }
    },
    "1c13217a74814d5d8c06eb31b2c3ec65": {
     "model_module": "@jupyter-widgets/controls",
     "model_module_version": "1.5.0",
     "model_name": "HBoxModel",
     "state": {
      "_dom_classes": [],
      "_model_module": "@jupyter-widgets/controls",
      "_model_module_version": "1.5.0",
      "_model_name": "HBoxModel",
      "_view_count": null,
      "_view_module": "@jupyter-widgets/controls",
      "_view_module_version": "1.5.0",
      "_view_name": "HBoxView",
      "box_style": "",
      "children": [
       "IPY_MODEL_d512d4575bb44702ae6ef462b554c451",
       "IPY_MODEL_cd3efaa62d624a929a3cc46348c808e8",
       "IPY_MODEL_a4558540826147268c0b56b2d76eba4a"
      ],
      "layout": "IPY_MODEL_979b96a4ab2a4e2a8de23a288686cd5b"
     }
    },
    "1f343fac51b2473fbed1057f789284fb": {
     "model_module": "@jupyter-widgets/base",
     "model_module_version": "1.2.0",
     "model_name": "LayoutModel",
     "state": {
      "_model_module": "@jupyter-widgets/base",
      "_model_module_version": "1.2.0",
      "_model_name": "LayoutModel",
      "_view_count": null,
      "_view_module": "@jupyter-widgets/base",
      "_view_module_version": "1.2.0",
      "_view_name": "LayoutView",
      "align_content": null,
      "align_items": null,
      "align_self": null,
      "border": null,
      "bottom": null,
      "display": null,
      "flex": null,
      "flex_flow": null,
      "grid_area": null,
      "grid_auto_columns": null,
      "grid_auto_flow": null,
      "grid_auto_rows": null,
      "grid_column": null,
      "grid_gap": null,
      "grid_row": null,
      "grid_template_areas": null,
      "grid_template_columns": null,
      "grid_template_rows": null,
      "height": null,
      "justify_content": null,
      "justify_items": null,
      "left": null,
      "margin": null,
      "max_height": null,
      "max_width": null,
      "min_height": null,
      "min_width": null,
      "object_fit": null,
      "object_position": null,
      "order": null,
      "overflow": null,
      "overflow_x": null,
      "overflow_y": null,
      "padding": null,
      "right": null,
      "top": null,
      "visibility": null,
      "width": null
     }
    },
    "21fbe4e9913b45d7b17e9443ece2a966": {
     "model_module": "@jupyter-widgets/controls",
     "model_module_version": "1.5.0",
     "model_name": "HTMLModel",
     "state": {
      "_dom_classes": [],
      "_model_module": "@jupyter-widgets/controls",
      "_model_module_version": "1.5.0",
      "_model_name": "HTMLModel",
      "_view_count": null,
      "_view_module": "@jupyter-widgets/controls",
      "_view_module_version": "1.5.0",
      "_view_name": "HTMLView",
      "description": "",
      "description_tooltip": null,
      "layout": "IPY_MODEL_1f343fac51b2473fbed1057f789284fb",
      "placeholder": "​",
      "style": "IPY_MODEL_47443c33b15c4d2d9793d8fb9496bf5c",
      "value": " 752k/752k [00:00&lt;00:00, 9.72MB/s]"
     }
    },
    "222457bea35940aebbae067e9e06dff9": {
     "model_module": "@jupyter-widgets/base",
     "model_module_version": "1.2.0",
     "model_name": "LayoutModel",
     "state": {
      "_model_module": "@jupyter-widgets/base",
      "_model_module_version": "1.2.0",
      "_model_name": "LayoutModel",
      "_view_count": null,
      "_view_module": "@jupyter-widgets/base",
      "_view_module_version": "1.2.0",
      "_view_name": "LayoutView",
      "align_content": null,
      "align_items": null,
      "align_self": null,
      "border": null,
      "bottom": null,
      "display": null,
      "flex": null,
      "flex_flow": null,
      "grid_area": null,
      "grid_auto_columns": null,
      "grid_auto_flow": null,
      "grid_auto_rows": null,
      "grid_column": null,
      "grid_gap": null,
      "grid_row": null,
      "grid_template_areas": null,
      "grid_template_columns": null,
      "grid_template_rows": null,
      "height": null,
      "justify_content": null,
      "justify_items": null,
      "left": null,
      "margin": null,
      "max_height": null,
      "max_width": null,
      "min_height": null,
      "min_width": null,
      "object_fit": null,
      "object_position": null,
      "order": null,
      "overflow": null,
      "overflow_x": null,
      "overflow_y": null,
      "padding": null,
      "right": null,
      "top": null,
      "visibility": null,
      "width": null
     }
    },
    "2d6c61c4891f4539827560450db9185b": {
     "model_module": "@jupyter-widgets/controls",
     "model_module_version": "1.5.0",
     "model_name": "FloatProgressModel",
     "state": {
      "_dom_classes": [],
      "_model_module": "@jupyter-widgets/controls",
      "_model_module_version": "1.5.0",
      "_model_name": "FloatProgressModel",
      "_view_count": null,
      "_view_module": "@jupyter-widgets/controls",
      "_view_module_version": "1.5.0",
      "_view_name": "ProgressView",
      "bar_style": "success",
      "description": "",
      "description_tooltip": null,
      "layout": "IPY_MODEL_0892b4ac77bb4f1da0666a7a1f63c33e",
      "max": 751504,
      "min": 0,
      "orientation": "horizontal",
      "style": "IPY_MODEL_77ed20b982d5425d961c16a0b9a7f862",
      "value": 751504
     }
    },
    "2e41e69b5b57405c94d44ebb0771414b": {
     "model_module": "@jupyter-widgets/controls",
     "model_module_version": "1.5.0",
     "model_name": "FloatProgressModel",
     "state": {
      "_dom_classes": [],
      "_model_module": "@jupyter-widgets/controls",
      "_model_module_version": "1.5.0",
      "_model_name": "FloatProgressModel",
      "_view_count": null,
      "_view_module": "@jupyter-widgets/controls",
      "_view_module_version": "1.5.0",
      "_view_name": "ProgressView",
      "bar_style": "success",
      "description": "",
      "description_tooltip": null,
      "layout": "IPY_MODEL_222457bea35940aebbae067e9e06dff9",
      "max": 375,
      "min": 0,
      "orientation": "horizontal",
      "style": "IPY_MODEL_f4ba82af82d0433b9f2ea8aa576d89c9",
      "value": 375
     }
    },
    "323fab855c20430988bf57b5591e91c9": {
     "model_module": "@jupyter-widgets/controls",
     "model_module_version": "1.5.0",
     "model_name": "DescriptionStyleModel",
     "state": {
      "_model_module": "@jupyter-widgets/controls",
      "_model_module_version": "1.5.0",
      "_model_name": "DescriptionStyleModel",
      "_view_count": null,
      "_view_module": "@jupyter-widgets/base",
      "_view_module_version": "1.2.0",
      "_view_name": "StyleView",
      "description_width": ""
     }
    },
    "3acf335531f14a5e9b3a5aa4579c0f42": {
     "model_module": "@jupyter-widgets/controls",
     "model_module_version": "1.5.0",
     "model_name": "HBoxModel",
     "state": {
      "_dom_classes": [],
      "_model_module": "@jupyter-widgets/controls",
      "_model_module_version": "1.5.0",
      "_model_name": "HBoxModel",
      "_view_count": null,
      "_view_module": "@jupyter-widgets/controls",
      "_view_module_version": "1.5.0",
      "_view_name": "HBoxView",
      "box_style": "",
      "children": [
       "IPY_MODEL_5b7f8b3feba6448d9a68d9fbfe157be2",
       "IPY_MODEL_2d6c61c4891f4539827560450db9185b",
       "IPY_MODEL_21fbe4e9913b45d7b17e9443ece2a966"
      ],
      "layout": "IPY_MODEL_d8daa3f3484048afbbe6e98f5f2dd28a"
     }
    },
    "3d4e6b8733d347708bcf95aae3a2326c": {
     "model_module": "@jupyter-widgets/controls",
     "model_module_version": "1.5.0",
     "model_name": "DescriptionStyleModel",
     "state": {
      "_model_module": "@jupyter-widgets/controls",
      "_model_module_version": "1.5.0",
      "_model_name": "DescriptionStyleModel",
      "_view_count": null,
      "_view_module": "@jupyter-widgets/base",
      "_view_module_version": "1.2.0",
      "_view_name": "StyleView",
      "description_width": ""
     }
    },
    "433ae65aa7fa4810949336ce6a61b8e3": {
     "model_module": "@jupyter-widgets/base",
     "model_module_version": "1.2.0",
     "model_name": "LayoutModel",
     "state": {
      "_model_module": "@jupyter-widgets/base",
      "_model_module_version": "1.2.0",
      "_model_name": "LayoutModel",
      "_view_count": null,
      "_view_module": "@jupyter-widgets/base",
      "_view_module_version": "1.2.0",
      "_view_name": "LayoutView",
      "align_content": null,
      "align_items": null,
      "align_self": null,
      "border": null,
      "bottom": null,
      "display": null,
      "flex": null,
      "flex_flow": null,
      "grid_area": null,
      "grid_auto_columns": null,
      "grid_auto_flow": null,
      "grid_auto_rows": null,
      "grid_column": null,
      "grid_gap": null,
      "grid_row": null,
      "grid_template_areas": null,
      "grid_template_columns": null,
      "grid_template_rows": null,
      "height": null,
      "justify_content": null,
      "justify_items": null,
      "left": null,
      "margin": null,
      "max_height": null,
      "max_width": null,
      "min_height": null,
      "min_width": null,
      "object_fit": null,
      "object_position": null,
      "order": null,
      "overflow": null,
      "overflow_x": null,
      "overflow_y": null,
      "padding": null,
      "right": null,
      "top": null,
      "visibility": null,
      "width": null
     }
    },
    "47443c33b15c4d2d9793d8fb9496bf5c": {
     "model_module": "@jupyter-widgets/controls",
     "model_module_version": "1.5.0",
     "model_name": "DescriptionStyleModel",
     "state": {
      "_model_module": "@jupyter-widgets/controls",
      "_model_module_version": "1.5.0",
      "_model_name": "DescriptionStyleModel",
      "_view_count": null,
      "_view_module": "@jupyter-widgets/base",
      "_view_module_version": "1.2.0",
      "_view_name": "StyleView",
      "description_width": ""
     }
    },
    "4b5e6b1cc6cd4ff58b0304a0de71eceb": {
     "model_module": "@jupyter-widgets/base",
     "model_module_version": "1.2.0",
     "model_name": "LayoutModel",
     "state": {
      "_model_module": "@jupyter-widgets/base",
      "_model_module_version": "1.2.0",
      "_model_name": "LayoutModel",
      "_view_count": null,
      "_view_module": "@jupyter-widgets/base",
      "_view_module_version": "1.2.0",
      "_view_name": "LayoutView",
      "align_content": null,
      "align_items": null,
      "align_self": null,
      "border": null,
      "bottom": null,
      "display": null,
      "flex": null,
      "flex_flow": null,
      "grid_area": null,
      "grid_auto_columns": null,
      "grid_auto_flow": null,
      "grid_auto_rows": null,
      "grid_column": null,
      "grid_gap": null,
      "grid_row": null,
      "grid_template_areas": null,
      "grid_template_columns": null,
      "grid_template_rows": null,
      "height": null,
      "justify_content": null,
      "justify_items": null,
      "left": null,
      "margin": null,
      "max_height": null,
      "max_width": null,
      "min_height": null,
      "min_width": null,
      "object_fit": null,
      "object_position": null,
      "order": null,
      "overflow": null,
      "overflow_x": null,
      "overflow_y": null,
      "padding": null,
      "right": null,
      "top": null,
      "visibility": null,
      "width": null
     }
    },
    "5650c4198888454bab9fa2ba5cbadd39": {
     "model_module": "@jupyter-widgets/controls",
     "model_module_version": "1.5.0",
     "model_name": "FloatProgressModel",
     "state": {
      "_dom_classes": [],
      "_model_module": "@jupyter-widgets/controls",
      "_model_module_version": "1.5.0",
      "_model_name": "FloatProgressModel",
      "_view_count": null,
      "_view_module": "@jupyter-widgets/controls",
      "_view_module_version": "1.5.0",
      "_view_name": "ProgressView",
      "bar_style": "success",
      "description": "",
      "description_tooltip": null,
      "layout": "IPY_MODEL_4b5e6b1cc6cd4ff58b0304a0de71eceb",
      "max": 173,
      "min": 0,
      "orientation": "horizontal",
      "style": "IPY_MODEL_eff204779b754164a3b7f511d7efd6aa",
      "value": 173
     }
    },
    "57d487fe484c4bcea4bf68d06a280d83": {
     "model_module": "@jupyter-widgets/base",
     "model_module_version": "1.2.0",
     "model_name": "LayoutModel",
     "state": {
      "_model_module": "@jupyter-widgets/base",
      "_model_module_version": "1.2.0",
      "_model_name": "LayoutModel",
      "_view_count": null,
      "_view_module": "@jupyter-widgets/base",
      "_view_module_version": "1.2.0",
      "_view_name": "LayoutView",
      "align_content": null,
      "align_items": null,
      "align_self": null,
      "border": null,
      "bottom": null,
      "display": null,
      "flex": null,
      "flex_flow": null,
      "grid_area": null,
      "grid_auto_columns": null,
      "grid_auto_flow": null,
      "grid_auto_rows": null,
      "grid_column": null,
      "grid_gap": null,
      "grid_row": null,
      "grid_template_areas": null,
      "grid_template_columns": null,
      "grid_template_rows": null,
      "height": null,
      "justify_content": null,
      "justify_items": null,
      "left": null,
      "margin": null,
      "max_height": null,
      "max_width": null,
      "min_height": null,
      "min_width": null,
      "object_fit": null,
      "object_position": null,
      "order": null,
      "overflow": null,
      "overflow_x": null,
      "overflow_y": null,
      "padding": null,
      "right": null,
      "top": null,
      "visibility": null,
      "width": null
     }
    },
    "5b0aed6ea8be44c2a5b467993a1565b8": {
     "model_module": "@jupyter-widgets/controls",
     "model_module_version": "1.5.0",
     "model_name": "HTMLModel",
     "state": {
      "_dom_classes": [],
      "_model_module": "@jupyter-widgets/controls",
      "_model_module_version": "1.5.0",
      "_model_name": "HTMLModel",
      "_view_count": null,
      "_view_module": "@jupyter-widgets/controls",
      "_view_module_version": "1.5.0",
      "_view_name": "HTMLView",
      "description": "",
      "description_tooltip": null,
      "layout": "IPY_MODEL_57d487fe484c4bcea4bf68d06a280d83",
      "placeholder": "​",
      "style": "IPY_MODEL_ff8e41d474ae44c8839dd46cd9f7bfb6",
      "value": " 375/375 [00:00&lt;00:00, 11.1kB/s]"
     }
    },
    "5b7f8b3feba6448d9a68d9fbfe157be2": {
     "model_module": "@jupyter-widgets/controls",
     "model_module_version": "1.5.0",
     "model_name": "HTMLModel",
     "state": {
      "_dom_classes": [],
      "_model_module": "@jupyter-widgets/controls",
      "_model_module_version": "1.5.0",
      "_model_name": "HTMLModel",
      "_view_count": null,
      "_view_module": "@jupyter-widgets/controls",
      "_view_module_version": "1.5.0",
      "_view_name": "HTMLView",
      "description": "",
      "description_tooltip": null,
      "layout": "IPY_MODEL_eae059f5d76b4427a3a852bd44c8027c",
      "placeholder": "​",
      "style": "IPY_MODEL_9ddec2428842403e91994d19e4fb8161",
      "value": "tokenizer.json: 100%"
     }
    },
    "60196ac408ae4744ad7325fb09c12105": {
     "model_module": "@jupyter-widgets/base",
     "model_module_version": "1.2.0",
     "model_name": "LayoutModel",
     "state": {
      "_model_module": "@jupyter-widgets/base",
      "_model_module_version": "1.2.0",
      "_model_name": "LayoutModel",
      "_view_count": null,
      "_view_module": "@jupyter-widgets/base",
      "_view_module_version": "1.2.0",
      "_view_name": "LayoutView",
      "align_content": null,
      "align_items": null,
      "align_self": null,
      "border": null,
      "bottom": null,
      "display": null,
      "flex": null,
      "flex_flow": null,
      "grid_area": null,
      "grid_auto_columns": null,
      "grid_auto_flow": null,
      "grid_auto_rows": null,
      "grid_column": null,
      "grid_gap": null,
      "grid_row": null,
      "grid_template_areas": null,
      "grid_template_columns": null,
      "grid_template_rows": null,
      "height": null,
      "justify_content": null,
      "justify_items": null,
      "left": null,
      "margin": null,
      "max_height": null,
      "max_width": null,
      "min_height": null,
      "min_width": null,
      "object_fit": null,
      "object_position": null,
      "order": null,
      "overflow": null,
      "overflow_x": null,
      "overflow_y": null,
      "padding": null,
      "right": null,
      "top": null,
      "visibility": null,
      "width": null
     }
    },
    "71a1fc109fdd4d66bcbbc12c6afe572a": {
     "model_module": "@jupyter-widgets/base",
     "model_module_version": "1.2.0",
     "model_name": "LayoutModel",
     "state": {
      "_model_module": "@jupyter-widgets/base",
      "_model_module_version": "1.2.0",
      "_model_name": "LayoutModel",
      "_view_count": null,
      "_view_module": "@jupyter-widgets/base",
      "_view_module_version": "1.2.0",
      "_view_name": "LayoutView",
      "align_content": null,
      "align_items": null,
      "align_self": null,
      "border": null,
      "bottom": null,
      "display": null,
      "flex": null,
      "flex_flow": null,
      "grid_area": null,
      "grid_auto_columns": null,
      "grid_auto_flow": null,
      "grid_auto_rows": null,
      "grid_column": null,
      "grid_gap": null,
      "grid_row": null,
      "grid_template_areas": null,
      "grid_template_columns": null,
      "grid_template_rows": null,
      "height": null,
      "justify_content": null,
      "justify_items": null,
      "left": null,
      "margin": null,
      "max_height": null,
      "max_width": null,
      "min_height": null,
      "min_width": null,
      "object_fit": null,
      "object_position": null,
      "order": null,
      "overflow": null,
      "overflow_x": null,
      "overflow_y": null,
      "padding": null,
      "right": null,
      "top": null,
      "visibility": null,
      "width": null
     }
    },
    "77ed20b982d5425d961c16a0b9a7f862": {
     "model_module": "@jupyter-widgets/controls",
     "model_module_version": "1.5.0",
     "model_name": "ProgressStyleModel",
     "state": {
      "_model_module": "@jupyter-widgets/controls",
      "_model_module_version": "1.5.0",
      "_model_name": "ProgressStyleModel",
      "_view_count": null,
      "_view_module": "@jupyter-widgets/base",
      "_view_module_version": "1.2.0",
      "_view_name": "StyleView",
      "bar_color": null,
      "description_width": ""
     }
    },
    "844830cc9fb24e12acfb8501c2548e13": {
     "model_module": "@jupyter-widgets/controls",
     "model_module_version": "1.5.0",
     "model_name": "ProgressStyleModel",
     "state": {
      "_model_module": "@jupyter-widgets/controls",
      "_model_module_version": "1.5.0",
      "_model_name": "ProgressStyleModel",
      "_view_count": null,
      "_view_module": "@jupyter-widgets/base",
      "_view_module_version": "1.2.0",
      "_view_name": "StyleView",
      "bar_color": null,
      "description_width": ""
     }
    },
    "859f8d396678408490a422f8f8776c2e": {
     "model_module": "@jupyter-widgets/controls",
     "model_module_version": "1.5.0",
     "model_name": "HTMLModel",
     "state": {
      "_dom_classes": [],
      "_model_module": "@jupyter-widgets/controls",
      "_model_module_version": "1.5.0",
      "_model_name": "HTMLModel",
      "_view_count": null,
      "_view_module": "@jupyter-widgets/controls",
      "_view_module_version": "1.5.0",
      "_view_name": "HTMLView",
      "description": "",
      "description_tooltip": null,
      "layout": "IPY_MODEL_c62d4b3ee87643718c015c03e7453057",
      "placeholder": "​",
      "style": "IPY_MODEL_e5d2c261e29442d6a6e213f394a3531c",
      "value": "special_tokens_map.json: 100%"
     }
    },
    "8cf0c5640bfc46918d901083ec1237bc": {
     "model_module": "@jupyter-widgets/base",
     "model_module_version": "1.2.0",
     "model_name": "LayoutModel",
     "state": {
      "_model_module": "@jupyter-widgets/base",
      "_model_module_version": "1.2.0",
      "_model_name": "LayoutModel",
      "_view_count": null,
      "_view_module": "@jupyter-widgets/base",
      "_view_module_version": "1.2.0",
      "_view_name": "LayoutView",
      "align_content": null,
      "align_items": null,
      "align_self": null,
      "border": null,
      "bottom": null,
      "display": null,
      "flex": null,
      "flex_flow": null,
      "grid_area": null,
      "grid_auto_columns": null,
      "grid_auto_flow": null,
      "grid_auto_rows": null,
      "grid_column": null,
      "grid_gap": null,
      "grid_row": null,
      "grid_template_areas": null,
      "grid_template_columns": null,
      "grid_template_rows": null,
      "height": null,
      "justify_content": null,
      "justify_items": null,
      "left": null,
      "margin": null,
      "max_height": null,
      "max_width": null,
      "min_height": null,
      "min_width": null,
      "object_fit": null,
      "object_position": null,
      "order": null,
      "overflow": null,
      "overflow_x": null,
      "overflow_y": null,
      "padding": null,
      "right": null,
      "top": null,
      "visibility": null,
      "width": null
     }
    },
    "91718e1b5f4043f7a973c4ad8d34df0b": {
     "model_module": "@jupyter-widgets/controls",
     "model_module_version": "1.5.0",
     "model_name": "HBoxModel",
     "state": {
      "_dom_classes": [],
      "_model_module": "@jupyter-widgets/controls",
      "_model_module_version": "1.5.0",
      "_model_name": "HBoxModel",
      "_view_count": null,
      "_view_module": "@jupyter-widgets/controls",
      "_view_module_version": "1.5.0",
      "_view_name": "HBoxView",
      "box_style": "",
      "children": [
       "IPY_MODEL_dd14aa68886b4a809eda50dc5dbc85b9",
       "IPY_MODEL_2e41e69b5b57405c94d44ebb0771414b",
       "IPY_MODEL_5b0aed6ea8be44c2a5b467993a1565b8"
      ],
      "layout": "IPY_MODEL_433ae65aa7fa4810949336ce6a61b8e3"
     }
    },
    "979b96a4ab2a4e2a8de23a288686cd5b": {
     "model_module": "@jupyter-widgets/base",
     "model_module_version": "1.2.0",
     "model_name": "LayoutModel",
     "state": {
      "_model_module": "@jupyter-widgets/base",
      "_model_module_version": "1.2.0",
      "_model_name": "LayoutModel",
      "_view_count": null,
      "_view_module": "@jupyter-widgets/base",
      "_view_module_version": "1.2.0",
      "_view_name": "LayoutView",
      "align_content": null,
      "align_items": null,
      "align_self": null,
      "border": null,
      "bottom": null,
      "display": null,
      "flex": null,
      "flex_flow": null,
      "grid_area": null,
      "grid_auto_columns": null,
      "grid_auto_flow": null,
      "grid_auto_rows": null,
      "grid_column": null,
      "grid_gap": null,
      "grid_row": null,
      "grid_template_areas": null,
      "grid_template_columns": null,
      "grid_template_rows": null,
      "height": null,
      "justify_content": null,
      "justify_items": null,
      "left": null,
      "margin": null,
      "max_height": null,
      "max_width": null,
      "min_height": null,
      "min_width": null,
      "object_fit": null,
      "object_position": null,
      "order": null,
      "overflow": null,
      "overflow_x": null,
      "overflow_y": null,
      "padding": null,
      "right": null,
      "top": null,
      "visibility": null,
      "width": null
     }
    },
    "9ddec2428842403e91994d19e4fb8161": {
     "model_module": "@jupyter-widgets/controls",
     "model_module_version": "1.5.0",
     "model_name": "DescriptionStyleModel",
     "state": {
      "_model_module": "@jupyter-widgets/controls",
      "_model_module_version": "1.5.0",
      "_model_name": "DescriptionStyleModel",
      "_view_count": null,
      "_view_module": "@jupyter-widgets/base",
      "_view_module_version": "1.2.0",
      "_view_name": "StyleView",
      "description_width": ""
     }
    },
    "a4558540826147268c0b56b2d76eba4a": {
     "model_module": "@jupyter-widgets/controls",
     "model_module_version": "1.5.0",
     "model_name": "HTMLModel",
     "state": {
      "_dom_classes": [],
      "_model_module": "@jupyter-widgets/controls",
      "_model_module_version": "1.5.0",
      "_model_name": "HTMLModel",
      "_view_count": null,
      "_view_module": "@jupyter-widgets/controls",
      "_view_module_version": "1.5.0",
      "_view_name": "HTMLView",
      "description": "",
      "description_tooltip": null,
      "layout": "IPY_MODEL_ecc13f3762534424a29cc9104d562bcd",
      "placeholder": "​",
      "style": "IPY_MODEL_3d4e6b8733d347708bcf95aae3a2326c",
      "value": " 248k/248k [00:00&lt;00:00, 2.34MB/s]"
     }
    },
    "c62d4b3ee87643718c015c03e7453057": {
     "model_module": "@jupyter-widgets/base",
     "model_module_version": "1.2.0",
     "model_name": "LayoutModel",
     "state": {
      "_model_module": "@jupyter-widgets/base",
      "_model_module_version": "1.2.0",
      "_model_name": "LayoutModel",
      "_view_count": null,
      "_view_module": "@jupyter-widgets/base",
      "_view_module_version": "1.2.0",
      "_view_name": "LayoutView",
      "align_content": null,
      "align_items": null,
      "align_self": null,
      "border": null,
      "bottom": null,
      "display": null,
      "flex": null,
      "flex_flow": null,
      "grid_area": null,
      "grid_auto_columns": null,
      "grid_auto_flow": null,
      "grid_auto_rows": null,
      "grid_column": null,
      "grid_gap": null,
      "grid_row": null,
      "grid_template_areas": null,
      "grid_template_columns": null,
      "grid_template_rows": null,
      "height": null,
      "justify_content": null,
      "justify_items": null,
      "left": null,
      "margin": null,
      "max_height": null,
      "max_width": null,
      "min_height": null,
      "min_width": null,
      "object_fit": null,
      "object_position": null,
      "order": null,
      "overflow": null,
      "overflow_x": null,
      "overflow_y": null,
      "padding": null,
      "right": null,
      "top": null,
      "visibility": null,
      "width": null
     }
    },
    "c7deee13a3e743e79bd3b51a4b61f5b5": {
     "model_module": "@jupyter-widgets/controls",
     "model_module_version": "1.5.0",
     "model_name": "DescriptionStyleModel",
     "state": {
      "_model_module": "@jupyter-widgets/controls",
      "_model_module_version": "1.5.0",
      "_model_name": "DescriptionStyleModel",
      "_view_count": null,
      "_view_module": "@jupyter-widgets/base",
      "_view_module_version": "1.2.0",
      "_view_name": "StyleView",
      "description_width": ""
     }
    },
    "cd3efaa62d624a929a3cc46348c808e8": {
     "model_module": "@jupyter-widgets/controls",
     "model_module_version": "1.5.0",
     "model_name": "FloatProgressModel",
     "state": {
      "_dom_classes": [],
      "_model_module": "@jupyter-widgets/controls",
      "_model_module_version": "1.5.0",
      "_model_name": "FloatProgressModel",
      "_view_count": null,
      "_view_module": "@jupyter-widgets/controls",
      "_view_module_version": "1.5.0",
      "_view_name": "ProgressView",
      "bar_style": "success",
      "description": "",
      "description_tooltip": null,
      "layout": "IPY_MODEL_8cf0c5640bfc46918d901083ec1237bc",
      "max": 248477,
      "min": 0,
      "orientation": "horizontal",
      "style": "IPY_MODEL_844830cc9fb24e12acfb8501c2548e13",
      "value": 248477
     }
    },
    "cf60fabb119b4977ae505c8154e57082": {
     "model_module": "@jupyter-widgets/base",
     "model_module_version": "1.2.0",
     "model_name": "LayoutModel",
     "state": {
      "_model_module": "@jupyter-widgets/base",
      "_model_module_version": "1.2.0",
      "_model_name": "LayoutModel",
      "_view_count": null,
      "_view_module": "@jupyter-widgets/base",
      "_view_module_version": "1.2.0",
      "_view_name": "LayoutView",
      "align_content": null,
      "align_items": null,
      "align_self": null,
      "border": null,
      "bottom": null,
      "display": null,
      "flex": null,
      "flex_flow": null,
      "grid_area": null,
      "grid_auto_columns": null,
      "grid_auto_flow": null,
      "grid_auto_rows": null,
      "grid_column": null,
      "grid_gap": null,
      "grid_row": null,
      "grid_template_areas": null,
      "grid_template_columns": null,
      "grid_template_rows": null,
      "height": null,
      "justify_content": null,
      "justify_items": null,
      "left": null,
      "margin": null,
      "max_height": null,
      "max_width": null,
      "min_height": null,
      "min_width": null,
      "object_fit": null,
      "object_position": null,
      "order": null,
      "overflow": null,
      "overflow_x": null,
      "overflow_y": null,
      "padding": null,
      "right": null,
      "top": null,
      "visibility": null,
      "width": null
     }
    },
    "d1d5aec3a90b4594b0ea6ec6f6dcfa6a": {
     "model_module": "@jupyter-widgets/controls",
     "model_module_version": "1.5.0",
     "model_name": "HBoxModel",
     "state": {
      "_dom_classes": [],
      "_model_module": "@jupyter-widgets/controls",
      "_model_module_version": "1.5.0",
      "_model_name": "HBoxModel",
      "_view_count": null,
      "_view_module": "@jupyter-widgets/controls",
      "_view_module_version": "1.5.0",
      "_view_name": "HBoxView",
      "box_style": "",
      "children": [
       "IPY_MODEL_859f8d396678408490a422f8f8776c2e",
       "IPY_MODEL_5650c4198888454bab9fa2ba5cbadd39",
       "IPY_MODEL_04abd066b00844638c5fe02400e9d7ab"
      ],
      "layout": "IPY_MODEL_71a1fc109fdd4d66bcbbc12c6afe572a"
     }
    },
    "d512d4575bb44702ae6ef462b554c451": {
     "model_module": "@jupyter-widgets/controls",
     "model_module_version": "1.5.0",
     "model_name": "HTMLModel",
     "state": {
      "_dom_classes": [],
      "_model_module": "@jupyter-widgets/controls",
      "_model_module_version": "1.5.0",
      "_model_name": "HTMLModel",
      "_view_count": null,
      "_view_module": "@jupyter-widgets/controls",
      "_view_module_version": "1.5.0",
      "_view_name": "HTMLView",
      "description": "",
      "description_tooltip": null,
      "layout": "IPY_MODEL_60196ac408ae4744ad7325fb09c12105",
      "placeholder": "​",
      "style": "IPY_MODEL_e9e4c933acc64b71bdccca62f68c1455",
      "value": "vocab.txt: 100%"
     }
    },
    "d776df5cee0646c79645bc37323bde50": {
     "model_module": "@jupyter-widgets/base",
     "model_module_version": "1.2.0",
     "model_name": "LayoutModel",
     "state": {
      "_model_module": "@jupyter-widgets/base",
      "_model_module_version": "1.2.0",
      "_model_name": "LayoutModel",
      "_view_count": null,
      "_view_module": "@jupyter-widgets/base",
      "_view_module_version": "1.2.0",
      "_view_name": "LayoutView",
      "align_content": null,
      "align_items": null,
      "align_self": null,
      "border": null,
      "bottom": null,
      "display": null,
      "flex": null,
      "flex_flow": null,
      "grid_area": null,
      "grid_auto_columns": null,
      "grid_auto_flow": null,
      "grid_auto_rows": null,
      "grid_column": null,
      "grid_gap": null,
      "grid_row": null,
      "grid_template_areas": null,
      "grid_template_columns": null,
      "grid_template_rows": null,
      "height": null,
      "justify_content": null,
      "justify_items": null,
      "left": null,
      "margin": null,
      "max_height": null,
      "max_width": null,
      "min_height": null,
      "min_width": null,
      "object_fit": null,
      "object_position": null,
      "order": null,
      "overflow": null,
      "overflow_x": null,
      "overflow_y": null,
      "padding": null,
      "right": null,
      "top": null,
      "visibility": null,
      "width": null
     }
    },
    "d8daa3f3484048afbbe6e98f5f2dd28a": {
     "model_module": "@jupyter-widgets/base",
     "model_module_version": "1.2.0",
     "model_name": "LayoutModel",
     "state": {
      "_model_module": "@jupyter-widgets/base",
      "_model_module_version": "1.2.0",
      "_model_name": "LayoutModel",
      "_view_count": null,
      "_view_module": "@jupyter-widgets/base",
      "_view_module_version": "1.2.0",
      "_view_name": "LayoutView",
      "align_content": null,
      "align_items": null,
      "align_self": null,
      "border": null,
      "bottom": null,
      "display": null,
      "flex": null,
      "flex_flow": null,
      "grid_area": null,
      "grid_auto_columns": null,
      "grid_auto_flow": null,
      "grid_auto_rows": null,
      "grid_column": null,
      "grid_gap": null,
      "grid_row": null,
      "grid_template_areas": null,
      "grid_template_columns": null,
      "grid_template_rows": null,
      "height": null,
      "justify_content": null,
      "justify_items": null,
      "left": null,
      "margin": null,
      "max_height": null,
      "max_width": null,
      "min_height": null,
      "min_width": null,
      "object_fit": null,
      "object_position": null,
      "order": null,
      "overflow": null,
      "overflow_x": null,
      "overflow_y": null,
      "padding": null,
      "right": null,
      "top": null,
      "visibility": null,
      "width": null
     }
    },
    "dd14aa68886b4a809eda50dc5dbc85b9": {
     "model_module": "@jupyter-widgets/controls",
     "model_module_version": "1.5.0",
     "model_name": "HTMLModel",
     "state": {
      "_dom_classes": [],
      "_model_module": "@jupyter-widgets/controls",
      "_model_module_version": "1.5.0",
      "_model_name": "HTMLModel",
      "_view_count": null,
      "_view_module": "@jupyter-widgets/controls",
      "_view_module_version": "1.5.0",
      "_view_name": "HTMLView",
      "description": "",
      "description_tooltip": null,
      "layout": "IPY_MODEL_d776df5cee0646c79645bc37323bde50",
      "placeholder": "​",
      "style": "IPY_MODEL_c7deee13a3e743e79bd3b51a4b61f5b5",
      "value": "tokenizer_config.json: 100%"
     }
    },
    "e5d2c261e29442d6a6e213f394a3531c": {
     "model_module": "@jupyter-widgets/controls",
     "model_module_version": "1.5.0",
     "model_name": "DescriptionStyleModel",
     "state": {
      "_model_module": "@jupyter-widgets/controls",
      "_model_module_version": "1.5.0",
      "_model_name": "DescriptionStyleModel",
      "_view_count": null,
      "_view_module": "@jupyter-widgets/base",
      "_view_module_version": "1.2.0",
      "_view_name": "StyleView",
      "description_width": ""
     }
    },
    "e9e4c933acc64b71bdccca62f68c1455": {
     "model_module": "@jupyter-widgets/controls",
     "model_module_version": "1.5.0",
     "model_name": "DescriptionStyleModel",
     "state": {
      "_model_module": "@jupyter-widgets/controls",
      "_model_module_version": "1.5.0",
      "_model_name": "DescriptionStyleModel",
      "_view_count": null,
      "_view_module": "@jupyter-widgets/base",
      "_view_module_version": "1.2.0",
      "_view_name": "StyleView",
      "description_width": ""
     }
    },
    "eae059f5d76b4427a3a852bd44c8027c": {
     "model_module": "@jupyter-widgets/base",
     "model_module_version": "1.2.0",
     "model_name": "LayoutModel",
     "state": {
      "_model_module": "@jupyter-widgets/base",
      "_model_module_version": "1.2.0",
      "_model_name": "LayoutModel",
      "_view_count": null,
      "_view_module": "@jupyter-widgets/base",
      "_view_module_version": "1.2.0",
      "_view_name": "LayoutView",
      "align_content": null,
      "align_items": null,
      "align_self": null,
      "border": null,
      "bottom": null,
      "display": null,
      "flex": null,
      "flex_flow": null,
      "grid_area": null,
      "grid_auto_columns": null,
      "grid_auto_flow": null,
      "grid_auto_rows": null,
      "grid_column": null,
      "grid_gap": null,
      "grid_row": null,
      "grid_template_areas": null,
      "grid_template_columns": null,
      "grid_template_rows": null,
      "height": null,
      "justify_content": null,
      "justify_items": null,
      "left": null,
      "margin": null,
      "max_height": null,
      "max_width": null,
      "min_height": null,
      "min_width": null,
      "object_fit": null,
      "object_position": null,
      "order": null,
      "overflow": null,
      "overflow_x": null,
      "overflow_y": null,
      "padding": null,
      "right": null,
      "top": null,
      "visibility": null,
      "width": null
     }
    },
    "ecc13f3762534424a29cc9104d562bcd": {
     "model_module": "@jupyter-widgets/base",
     "model_module_version": "1.2.0",
     "model_name": "LayoutModel",
     "state": {
      "_model_module": "@jupyter-widgets/base",
      "_model_module_version": "1.2.0",
      "_model_name": "LayoutModel",
      "_view_count": null,
      "_view_module": "@jupyter-widgets/base",
      "_view_module_version": "1.2.0",
      "_view_name": "LayoutView",
      "align_content": null,
      "align_items": null,
      "align_self": null,
      "border": null,
      "bottom": null,
      "display": null,
      "flex": null,
      "flex_flow": null,
      "grid_area": null,
      "grid_auto_columns": null,
      "grid_auto_flow": null,
      "grid_auto_rows": null,
      "grid_column": null,
      "grid_gap": null,
      "grid_row": null,
      "grid_template_areas": null,
      "grid_template_columns": null,
      "grid_template_rows": null,
      "height": null,
      "justify_content": null,
      "justify_items": null,
      "left": null,
      "margin": null,
      "max_height": null,
      "max_width": null,
      "min_height": null,
      "min_width": null,
      "object_fit": null,
      "object_position": null,
      "order": null,
      "overflow": null,
      "overflow_x": null,
      "overflow_y": null,
      "padding": null,
      "right": null,
      "top": null,
      "visibility": null,
      "width": null
     }
    },
    "eff204779b754164a3b7f511d7efd6aa": {
     "model_module": "@jupyter-widgets/controls",
     "model_module_version": "1.5.0",
     "model_name": "ProgressStyleModel",
     "state": {
      "_model_module": "@jupyter-widgets/controls",
      "_model_module_version": "1.5.0",
      "_model_name": "ProgressStyleModel",
      "_view_count": null,
      "_view_module": "@jupyter-widgets/base",
      "_view_module_version": "1.2.0",
      "_view_name": "StyleView",
      "bar_color": null,
      "description_width": ""
     }
    },
    "f4ba82af82d0433b9f2ea8aa576d89c9": {
     "model_module": "@jupyter-widgets/controls",
     "model_module_version": "1.5.0",
     "model_name": "ProgressStyleModel",
     "state": {
      "_model_module": "@jupyter-widgets/controls",
      "_model_module_version": "1.5.0",
      "_model_name": "ProgressStyleModel",
      "_view_count": null,
      "_view_module": "@jupyter-widgets/base",
      "_view_module_version": "1.2.0",
      "_view_name": "StyleView",
      "bar_color": null,
      "description_width": ""
     }
    },
    "ff8e41d474ae44c8839dd46cd9f7bfb6": {
     "model_module": "@jupyter-widgets/controls",
     "model_module_version": "1.5.0",
     "model_name": "DescriptionStyleModel",
     "state": {
      "_model_module": "@jupyter-widgets/controls",
      "_model_module_version": "1.5.0",
      "_model_name": "DescriptionStyleModel",
      "_view_count": null,
      "_view_module": "@jupyter-widgets/base",
      "_view_module_version": "1.2.0",
      "_view_name": "StyleView",
      "description_width": ""
     }
    }
   }
  }
 },
 "nbformat": 4,
 "nbformat_minor": 1
}

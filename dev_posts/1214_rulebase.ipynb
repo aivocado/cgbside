{
  "cells": [
    {
      "cell_type": "markdown",
      "metadata": {},
      "source": [
        "# Rule-Based Model"
      ]
    },
    {
      "cell_type": "code",
      "execution_count": null,
      "metadata": {
        "id": "gsBs8d-lzUM_"
      },
      "outputs": [],
      "source": [
        "import pandas as pd\n",
        "import numpy as np\n",
        "import re\n",
        "from tqdm import tqdm\n",
        "import pickle\n",
        "import matplotlib.pyplot as plt\n",
        "import seaborn as sns\n",
        "\n",
        "from sklearn.preprocessing import LabelEncoder\n",
        "\n",
        "from sklearn.model_selection import train_test_split\n",
        "from sklearn.model_selection import StratifiedShuffleSplit\n",
        "\n",
        "from sklearn.ensemble import RandomForestClassifier\n",
        "import lightgbm as lgb\n",
        "\n",
        "from sklearn.metrics import confusion_matrix\n",
        "from sklearn.metrics import classification_report\n",
        "from sklearn.metrics import accuracy_score, precision_score, recall_score, f1_score"
      ]
    },
    {
      "cell_type": "code",
      "execution_count": null,
      "metadata": {
        "colab": {
          "base_uri": "https://localhost:8080/"
        },
        "id": "Xsg4bV9Qze1g",
        "outputId": "a98e6aca-adfc-49e2-bc75-4fad85c7f7f9"
      },
      "outputs": [
        {
          "name": "stdout",
          "output_type": "stream",
          "text": [
            "Mounted at /content/drive\n"
          ]
        }
      ],
      "source": [
        "# google drive mount\n",
        "from google.colab import drive\n",
        "drive.mount('/content/drive')"
      ]
    },
    {
      "cell_type": "code",
      "execution_count": null,
      "metadata": {
        "colab": {
          "base_uri": "https://localhost:8080/"
        },
        "id": "B0CqGUXOzgdO",
        "outputId": "d7686526-09f2-4e9e-dee9-1b073e1dbc2a"
      },
      "outputs": [
        {
          "name": "stderr",
          "output_type": "stream",
          "text": [
            "<ipython-input-3-93b913c832f7>:1: DtypeWarning: Columns (5,6,19,20,25) have mixed types. Specify dtype option on import or set low_memory=False.\n",
            "  df = pd.read_csv('/content/drive/MyDrive/KPMG 캡스톤/사무총조사/BaseTable4_중복제거_수행주체추가.csv')\n"
          ]
        }
      ],
      "source": [
        "df = pd.read_csv('/content/drive/MyDrive/KPMG 캡스톤/사무총조사/BaseTable4_중복제거_수행주체추가.csv')"
      ]
    },
    {
      "cell_type": "code",
      "execution_count": null,
      "metadata": {
        "id": "vNDHeyZcQznS"
      },
      "outputs": [],
      "source": [
        "with open(\"/content/drive/MyDrive/KPMG 캡스톤/사무총조사/수행주체/subject_list.pkl\",\"rb\") as f:\n",
        "    subject_list = pickle.load(f)"
      ]
    },
    {
      "cell_type": "markdown",
      "metadata": {
        "id": "I6o8AX2a7Ueu"
      },
      "source": [
        "# BaseTable4_중복제거2.csv 만들기"
      ]
    },
    {
      "cell_type": "code",
      "execution_count": null,
      "metadata": {
        "id": "ZT3JYEaq9rrV"
      },
      "outputs": [],
      "source": [
        "index1 = df[(df['법령명'] == '석탄산업법 시행령') & (df['조번호'] == '42_2') & (df['항번호'] == 5)].index\n",
        "index2 = df[(df['법령명'] == '석탄산업법 시행령') & (df['조번호'] == '42_2') & (df['항번호'] == 6)].index\n",
        "\n",
        "df = df.drop(index1, axis = 0)\n",
        "df = df.drop(index2, axis = 0)"
      ]
    },
    {
      "cell_type": "markdown",
      "metadata": {
        "id": "C0LPSyyw8jDB"
      },
      "source": [
        "# BaseTable4_중복제거2.csv로 rule_based 적용"
      ]
    },
    {
      "cell_type": "code",
      "execution_count": null,
      "metadata": {
        "id": "51m0ZFZvzy2c"
      },
      "outputs": [],
      "source": [
        "def rule_based(df):\n",
        "  df['rule_based'] = 1\n",
        "\n",
        "  # 조문이 결측치인 행\n",
        "  df.loc[df['조문'].isnull(), 'rule_based'] = 0\n",
        "\n",
        "  # '^제.*\\)$' 표현 0으로\n",
        "  df.loc[(df['조문'].notnull()) & (df['조문'].str.match(r'^제.*\\)$')), 'rule_based'] = 0\n",
        "  df.loc[(df['조문'].notnull()) & (df['조문'].str.match(r'제\\d+조$')), 'rule_based'] = 0\n",
        "\n",
        "  # '^제(\\d+)(장|절)' 표현 0으로\n",
        "  df.loc[(df['조문'].notnull()) & (df['조문'].str.match(r'^제(\\d+)(장|절|편)')), 'rule_based'] = 0\n",
        "\n",
        "  # 조문제목 == '목적'|'정의' 0으로\n",
        "  df.loc[((df['조문제목'].notnull()) & ((df['조문제목'] == '목적') | (df['조문제목'] == '정의'))), 'rule_based'] = 0\n",
        "\n",
        "  # 삭제된 조문 0으로\n",
        "  df.loc[((df['조문'].str.contains(\"삭제 <\"))|(df['조문'].str.contains(\"삭제<\"))), 'rule_based'] = 0\n",
        "\n",
        "  # 조문이 '목적', '명칭'뿐인 것\n",
        "  df.loc[(df['조문'].notnull()) & ((df['조문'].str.match(r\"\\d+\\. 목적\")) | (df['조문'] == '목적')), 'rule_based'] = 0\n",
        "  df.loc[(df['조문'].notnull()) & ((df['조문'].str.match(r\"\\d+\\. .*명칭\")) | (df['조문'] == '명칭')), 'rule_based'] = 0\n",
        "\n",
        "  # 조문에서 사무판단 무조건 0인 표현들\n",
        "  df.loc[(df['조문'].notnull()) & (df['조문'].str.match(r'.*있는 경우$')), 'rule_based'] = 0\n",
        "  df.loc[(df['조문'].notnull()) & (df['조문'].str.match(r'.*없게 된 경우$')), 'rule_based'] = 0\n",
        "  df.loc[(df['조문'].notnull()) & (df['조문'].str.match(r'\\d+\\. .*거짓이나 그 밖의 부정한 방법으로 지정을 받은 경우')), 'rule_based'] = 0\n",
        "  df.loc[(df['조문'].notnull()) & (df['조문'].str.match(r'.*의사를 밝히는 경우')), 'rule_based'] = 0\n",
        "  df.loc[(df['조문'].notnull()) & (df['조문'].str.match(r'\\d+\\. .*인정되는 경우')), 'rule_based'] = 0\n",
        "  df.loc[(df['조문'].notnull()) & (df['조문'].str.match(r'.*친족이었던 경우')), 'rule_based'] = 0\n",
        "  df.loc[(df['조문'].notnull()) & (df['조문'].str.match(r'.*대리인이었던 경우')), 'rule_based'] = 0\n",
        "  df.loc[(df['조문'].notnull()) & (df['조문'].str.match(r'\\d+\\..*인증을 받은 경우')), 'rule_based'] = 0\n",
        "\n",
        "  df.loc[(df['조문'].notnull()) & (df['조문'].str.match(r'.*후견인$')), 'rule_based'] = 0\n",
        "  df.loc[(df['조문'].notnull()) & (df['조문'].str.match(r'\\d+\\. .*소재지')), 'rule_based'] = 0\n",
        "  df.loc[(df['조문'].notnull()) & (df['조문'].str.match(r'\\d+\\. .*정관')), 'rule_based'] = 0\n",
        "  df.loc[(df['조문'].notnull()) & (df['조문'].str.match(r'\\d+\\. .*계획서')), 'rule_based'] = 0\n",
        "  df.loc[(df['조문'].notnull()) & (df['조문'].str.match(r'\\d+\\. .*서류')), 'rule_based'] = 0\n",
        "  df.loc[(df['조문'].notnull()) & (df['조문'].str.match(r'\\d+\\. .*상호$')), 'rule_based'] = 0\n",
        "  df.loc[(df['조문'].notnull()) & (df['조문'].str.match(r'\\d+\\. .*증명서')), 'rule_based'] = 0\n",
        "  df.loc[(df['조문'].notnull()) & (df['조문'].str.match(r'\\d+\\. .*경매')), 'rule_based'] = 0\n",
        "\n",
        "  df.loc[(df['조문'].notnull()) & (df['조문'].str.match(r'\\d+\\. .*공고의 방법')), 'rule_based'] = 0\n",
        "  df.loc[(df['조문'].notnull()) & (df['조문'].str.match(r'\\d+\\. .*대통령령으로 정하는 사항')), 'rule_based'] = 0\n",
        "  df.loc[(df['조문'].notnull()) & (df['조문'].str.match(r'\\d+\\. .*되지 아니한 자')), 'rule_based'] = 0\n",
        "  df.loc[(df['조문'].notnull()) & (df['조문'].str.match(r'\\d+\\. .*그 밖에 필요한 사항')), 'rule_based'] = 0\n",
        "  df.loc[(df['조문'].notnull()) & (df['조문'].str.match(r'.*협회는 법인으로 한다')), 'rule_based'] = 0\n",
        "\n",
        "  return df"
      ]
    },
    {
      "cell_type": "code",
      "execution_count": null,
      "metadata": {
        "id": "nA-bj5dNUPoc"
      },
      "outputs": [],
      "source": [
        "tqdm.pandas()"
      ]
    },
    {
      "cell_type": "code",
      "execution_count": null,
      "metadata": {
        "id": "YB3dIwIS_8kr"
      },
      "outputs": [],
      "source": [
        "df = rule_based(df)"
      ]
    },
    {
      "cell_type": "code",
      "execution_count": null,
      "metadata": {
        "colab": {
          "base_uri": "https://localhost:8080/",
          "height": 472
        },
        "id": "W6w2S0ec2Qic",
        "outputId": "56cf6dca-c960-43b3-c2e1-5c07e16995b5"
      },
      "outputs": [
        {
          "data": {
            "image/png": "[encoded data removed]",
            "text/plain": [
              "<Figure size 640x480 with 2 Axes>"
            ]
          },
          "metadata": {},
          "output_type": "display_data"
        }
      ],
      "source": [
        "conf_matrix = confusion_matrix(df['사무판단'], df['rule_based'])\n",
        "\n",
        "# heatmap으로 confusion matrix를 시각화\n",
        "sns.heatmap(conf_matrix, annot=True, fmt=\"d\", cmap='Blues')\n",
        "plt.xlabel('Predicted Label')\n",
        "plt.ylabel('True Label')\n",
        "plt.title('Confusion Matrix')\n",
        "plt.show()"
      ]
    }
  ],
  "metadata": {
    "colab": {
      "provenance": []
    },
    "kernelspec": {
      "display_name": "Python 3",
      "name": "python3"
    },
    "language_info": {
      "name": "python"
    }
  },
  "nbformat": 4,
  "nbformat_minor": 0
}
